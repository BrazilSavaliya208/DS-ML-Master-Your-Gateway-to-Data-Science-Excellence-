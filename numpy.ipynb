{
 "cells": [
  {
   "cell_type": "raw",
   "id": "ee59524a",
   "metadata": {},
   "source": [
    "What is NumPy ?\n",
    "\n",
    "Numpy is scientific computing library for python. \n",
    "Support large number of data in the form of multidimensional array and matrix."
   ]
  },
  {
   "cell_type": "raw",
   "id": "5c3b731e",
   "metadata": {},
   "source": [
    "Import Numpy\n",
    "\n",
    "import numpy as np \n",
    "\n",
    "or\n",
    "\n",
    "import numpy"
   ]
  },
  {
   "cell_type": "markdown",
   "id": "bd402c9a",
   "metadata": {},
   "source": [
    "# 1D Array"
   ]
  },
  {
   "cell_type": "code",
   "execution_count": 1,
   "id": "53bd45b6",
   "metadata": {},
   "outputs": [
    {
     "data": {
      "text/plain": [
       "array([1, 2, 3])"
      ]
     },
     "execution_count": 1,
     "metadata": {},
     "output_type": "execute_result"
    }
   ],
   "source": [
    "import numpy as np\n",
    "a = np.array([1,2,3]) #single list\n",
    "a"
   ]
  },
  {
   "cell_type": "code",
   "execution_count": 2,
   "id": "8c978918",
   "metadata": {},
   "outputs": [
    {
     "data": {
      "text/plain": [
       "array([1, 2, 3])"
      ]
     },
     "execution_count": 2,
     "metadata": {},
     "output_type": "execute_result"
    }
   ],
   "source": [
    "a = np.array([])"
   ]
  },
  {
   "cell_type": "markdown",
   "id": "f660938f",
   "metadata": {},
   "source": [
    "# 2D Array"
   ]
  },
  {
   "cell_type": "code",
   "execution_count": 12,
   "id": "7d1a3838",
   "metadata": {},
   "outputs": [
    {
     "data": {
      "text/plain": [
       "array([[1, 2, 3],\n",
       "       [1, 2, 3],\n",
       "       [1, 2, 3]])"
      ]
     },
     "execution_count": 12,
     "metadata": {},
     "output_type": "execute_result"
    }
   ],
   "source": [
    "a = np.array([\n",
    " [1,2,3],\n",
    " [1,2,3],\n",
    " [1,2,3]\n",
    "]) #list of list\n",
    "a "
   ]
  },
  {
   "cell_type": "markdown",
   "id": "a34b76ba",
   "metadata": {},
   "source": [
    "# 3D Array"
   ]
  },
  {
   "cell_type": "code",
   "execution_count": 13,
   "id": "1c667aba",
   "metadata": {},
   "outputs": [
    {
     "data": {
      "text/plain": [
       "array([[[1, 2, 3],\n",
       "        [1, 2, 3],\n",
       "        [1, 2, 3]],\n",
       "\n",
       "       [[1, 2, 3],\n",
       "        [1, 2, 3],\n",
       "        [1, 2, 3]],\n",
       "\n",
       "       [[1, 2, 3],\n",
       "        [1, 2, 3],\n",
       "        [1, 2, 3]]])"
      ]
     },
     "execution_count": 13,
     "metadata": {},
     "output_type": "execute_result"
    }
   ],
   "source": [
    "a = np.array([ [[1,2,3],[1,2,3],[1,2,3]],\n",
    " [[1,2,3],[1,2,3],[1,2,3]],\n",
    " [[1,2,3],[1,2,3],[1,2,3]] ])\n",
    "a"
   ]
  },
  {
   "cell_type": "code",
   "execution_count": 14,
   "id": "6ca381d6",
   "metadata": {},
   "outputs": [
    {
     "data": {
      "text/plain": [
       "(3, 3, 3)"
      ]
     },
     "execution_count": 14,
     "metadata": {},
     "output_type": "execute_result"
    }
   ],
   "source": [
    "a.shape   # (2d,row,column)"
   ]
  },
  {
   "cell_type": "code",
   "execution_count": 15,
   "id": "4c19b626",
   "metadata": {},
   "outputs": [
    {
     "data": {
      "text/plain": [
       "27"
      ]
     },
     "execution_count": 15,
     "metadata": {},
     "output_type": "execute_result"
    }
   ],
   "source": [
    "a.size"
   ]
  },
  {
   "cell_type": "code",
   "execution_count": 16,
   "id": "b50b00b8",
   "metadata": {},
   "outputs": [
    {
     "data": {
      "text/plain": [
       "3"
      ]
     },
     "execution_count": 16,
     "metadata": {},
     "output_type": "execute_result"
    }
   ],
   "source": [
    "a.ndim"
   ]
  },
  {
   "cell_type": "markdown",
   "id": "5c7bf934",
   "metadata": {},
   "source": [
    "# create 1D array"
   ]
  },
  {
   "cell_type": "code",
   "execution_count": 17,
   "id": "0f6da54f",
   "metadata": {},
   "outputs": [
    {
     "name": "stdout",
     "output_type": "stream",
     "text": [
      "[1 2 3 4 5]\n"
     ]
    }
   ],
   "source": [
    "array_1d = np.array([1,2,3,4,5])\n",
    "print(array_1d)"
   ]
  },
  {
   "cell_type": "code",
   "execution_count": 18,
   "id": "979aec09",
   "metadata": {},
   "outputs": [],
   "source": [
    "# find array dimension"
   ]
  },
  {
   "cell_type": "code",
   "execution_count": 19,
   "id": "ae62fff3",
   "metadata": {},
   "outputs": [
    {
     "data": {
      "text/plain": [
       "1"
      ]
     },
     "execution_count": 19,
     "metadata": {},
     "output_type": "execute_result"
    }
   ],
   "source": [
    "array_1d.ndim"
   ]
  },
  {
   "cell_type": "code",
   "execution_count": 20,
   "id": "09a6ea23",
   "metadata": {},
   "outputs": [],
   "source": [
    "# find array type"
   ]
  },
  {
   "cell_type": "code",
   "execution_count": 21,
   "id": "f83eeb1a",
   "metadata": {},
   "outputs": [
    {
     "name": "stdout",
     "output_type": "stream",
     "text": [
      "<class 'numpy.ndarray'>\n"
     ]
    }
   ],
   "source": [
    "print(type(array_1d))"
   ]
  },
  {
   "cell_type": "code",
   "execution_count": 22,
   "id": "c7502ac3",
   "metadata": {},
   "outputs": [
    {
     "data": {
      "text/plain": [
       "dtype('int32')"
      ]
     },
     "execution_count": 22,
     "metadata": {},
     "output_type": "execute_result"
    }
   ],
   "source": [
    "array_1d.dtype"
   ]
  },
  {
   "cell_type": "code",
   "execution_count": 12,
   "id": "59b47feb",
   "metadata": {},
   "outputs": [],
   "source": [
    "# find array shape"
   ]
  },
  {
   "cell_type": "code",
   "execution_count": 23,
   "id": "5ad1971f",
   "metadata": {},
   "outputs": [
    {
     "data": {
      "text/plain": [
       "(5,)"
      ]
     },
     "execution_count": 23,
     "metadata": {},
     "output_type": "execute_result"
    }
   ],
   "source": [
    "array_1d.shape"
   ]
  },
  {
   "cell_type": "code",
   "execution_count": 24,
   "id": "f9cbcaa1",
   "metadata": {},
   "outputs": [
    {
     "data": {
      "text/plain": [
       "5"
      ]
     },
     "execution_count": 24,
     "metadata": {},
     "output_type": "execute_result"
    }
   ],
   "source": [
    "#find size of array element\n",
    "\n",
    "\n",
    "array_1d.size"
   ]
  },
  {
   "cell_type": "code",
   "execution_count": 25,
   "id": "66b12ead",
   "metadata": {},
   "outputs": [
    {
     "data": {
      "text/plain": [
       "array([[[ 1,  2,  3,  4],\n",
       "        [10, 20, 30, 40]],\n",
       "\n",
       "       [[ 5,  6,  7,  8],\n",
       "        [50, 60, 70, 80]]])"
      ]
     },
     "execution_count": 25,
     "metadata": {},
     "output_type": "execute_result"
    }
   ],
   "source": [
    "a = np.array([[[1,2,3,4],[10,20,30,40]],[[5,6,7,8],[50,60,70,80]]])\n",
    "a"
   ]
  },
  {
   "cell_type": "code",
   "execution_count": 26,
   "id": "5af2c99d",
   "metadata": {},
   "outputs": [
    {
     "data": {
      "text/plain": [
       "16"
      ]
     },
     "execution_count": 26,
     "metadata": {},
     "output_type": "execute_result"
    }
   ],
   "source": [
    "a.size"
   ]
  },
  {
   "cell_type": "code",
   "execution_count": 27,
   "id": "ac5def03",
   "metadata": {},
   "outputs": [
    {
     "data": {
      "text/plain": [
       "(2, 2, 4)"
      ]
     },
     "execution_count": 27,
     "metadata": {},
     "output_type": "execute_result"
    }
   ],
   "source": [
    "a.shape"
   ]
  },
  {
   "cell_type": "code",
   "execution_count": 28,
   "id": "dcd6c8c8",
   "metadata": {},
   "outputs": [
    {
     "data": {
      "text/plain": [
       "dtype('int32')"
      ]
     },
     "execution_count": 28,
     "metadata": {},
     "output_type": "execute_result"
    }
   ],
   "source": [
    "#find datatype\n",
    "\n",
    "\n",
    "array_1d.dtype"
   ]
  },
  {
   "cell_type": "code",
   "execution_count": 29,
   "id": "8a53f7e6",
   "metadata": {},
   "outputs": [
    {
     "name": "stdout",
     "output_type": "stream",
     "text": [
      "[[10 20 30 40]\n",
      " [11 22 33 77]\n",
      " [44 55 66 88]]\n"
     ]
    }
   ],
   "source": [
    "#create 2D array\n",
    "array_2d = np.array([\n",
    " [10,20,30,40],[11,22,33,77],[44,55,66,88]\n",
    "])\n",
    "print(array_2d)"
   ]
  },
  {
   "cell_type": "code",
   "execution_count": 30,
   "id": "9590437f",
   "metadata": {},
   "outputs": [
    {
     "data": {
      "text/plain": [
       "2"
      ]
     },
     "execution_count": 30,
     "metadata": {},
     "output_type": "execute_result"
    }
   ],
   "source": [
    "array_2d.ndim"
   ]
  },
  {
   "cell_type": "code",
   "execution_count": 31,
   "id": "69938d1f",
   "metadata": {},
   "outputs": [
    {
     "data": {
      "text/plain": [
       "(3, 4)"
      ]
     },
     "execution_count": 31,
     "metadata": {},
     "output_type": "execute_result"
    }
   ],
   "source": [
    "array_2d.shape  # (row,column)"
   ]
  },
  {
   "cell_type": "code",
   "execution_count": 32,
   "id": "ad448eac",
   "metadata": {},
   "outputs": [
    {
     "data": {
      "text/plain": [
       "12"
      ]
     },
     "execution_count": 32,
     "metadata": {},
     "output_type": "execute_result"
    }
   ],
   "source": [
    "array_2d.size"
   ]
  },
  {
   "cell_type": "code",
   "execution_count": 33,
   "id": "5632515c",
   "metadata": {},
   "outputs": [
    {
     "name": "stdout",
     "output_type": "stream",
     "text": [
      "[[[10 20 30 40]\n",
      "  [11 22 33 77]\n",
      "  [44 55 66 88]]\n",
      "\n",
      " [[10 20 30 40]\n",
      "  [11 22 33 77]\n",
      "  [44 55 66 88]]\n",
      "\n",
      " [[10 20 30 40]\n",
      "  [11 22 33 77]\n",
      "  [44 55 66 88]]]\n"
     ]
    }
   ],
   "source": [
    "array_3d = np.array([\n",
    " [\n",
    " [10,20,30,40],\n",
    " [11,22,33,77],\n",
    " [44,55,66,88],\n",
    " ],\n",
    " [\n",
    " [10,20,30,40],\n",
    " [11,22,33,77],\n",
    " [44,55,66,88],\n",
    " ],\n",
    " [\n",
    " [10,20,30,40],\n",
    " [11,22,33,77],\n",
    " [44,55,66,88],\n",
    " ]\n",
    " \n",
    " \n",
    "])\n",
    "print(array_3d)"
   ]
  },
  {
   "cell_type": "code",
   "execution_count": 34,
   "id": "f00ed4bb",
   "metadata": {},
   "outputs": [
    {
     "data": {
      "text/plain": [
       "3"
      ]
     },
     "execution_count": 34,
     "metadata": {},
     "output_type": "execute_result"
    }
   ],
   "source": [
    "array_3d.ndim"
   ]
  },
  {
   "cell_type": "code",
   "execution_count": 35,
   "id": "610bbd74",
   "metadata": {},
   "outputs": [
    {
     "data": {
      "text/plain": [
       "(3, 3, 4)"
      ]
     },
     "execution_count": 35,
     "metadata": {},
     "output_type": "execute_result"
    }
   ],
   "source": [
    "array_3d.shape"
   ]
  },
  {
   "cell_type": "code",
   "execution_count": 36,
   "id": "39738ffb",
   "metadata": {},
   "outputs": [
    {
     "data": {
      "text/plain": [
       "36"
      ]
     },
     "execution_count": 36,
     "metadata": {},
     "output_type": "execute_result"
    }
   ],
   "source": [
    "array_3d.size"
   ]
  },
  {
   "cell_type": "markdown",
   "id": "93032b07",
   "metadata": {},
   "source": [
    "# Create ones matrix"
   ]
  },
  {
   "cell_type": "code",
   "execution_count": 37,
   "id": "19087d9d",
   "metadata": {},
   "outputs": [
    {
     "name": "stdout",
     "output_type": "stream",
     "text": [
      "[1. 1. 1. 1. 1.]\n"
     ]
    }
   ],
   "source": [
    "ones_array = np.ones(5)\n",
    "print(ones_array)"
   ]
  },
  {
   "cell_type": "code",
   "execution_count": 38,
   "id": "9710dd43",
   "metadata": {},
   "outputs": [
    {
     "data": {
      "text/plain": [
       "1"
      ]
     },
     "execution_count": 38,
     "metadata": {},
     "output_type": "execute_result"
    }
   ],
   "source": [
    "ones_array.ndim"
   ]
  },
  {
   "cell_type": "code",
   "execution_count": 39,
   "id": "7773bbbe",
   "metadata": {},
   "outputs": [
    {
     "data": {
      "text/plain": [
       "dtype('float64')"
      ]
     },
     "execution_count": 39,
     "metadata": {},
     "output_type": "execute_result"
    }
   ],
   "source": [
    "ones_array.dtype"
   ]
  },
  {
   "cell_type": "code",
   "execution_count": 40,
   "id": "b4d4d863",
   "metadata": {},
   "outputs": [
    {
     "name": "stdout",
     "output_type": "stream",
     "text": [
      "[[1 1 1 1]\n",
      " [1 1 1 1]\n",
      " [1 1 1 1]]\n"
     ]
    }
   ],
   "source": [
    "#2D ones matrix\n",
    "ones_2dmx = np.ones((3,4), dtype='int')\n",
    "print(ones_2dmx)"
   ]
  },
  {
   "cell_type": "code",
   "execution_count": 41,
   "id": "8a062835",
   "metadata": {},
   "outputs": [
    {
     "name": "stdout",
     "output_type": "stream",
     "text": [
      "[[['1' '1' '1' '1']\n",
      "  ['1' '1' '1' '1']\n",
      "  ['1' '1' '1' '1']]\n",
      "\n",
      " [['1' '1' '1' '1']\n",
      "  ['1' '1' '1' '1']\n",
      "  ['1' '1' '1' '1']]\n",
      "\n",
      " [['1' '1' '1' '1']\n",
      "  ['1' '1' '1' '1']\n",
      "  ['1' '1' '1' '1']]]\n"
     ]
    }
   ],
   "source": [
    "ones_2dmx = np.ones((3,3,4), dtype='str')\n",
    "print(ones_2dmx)"
   ]
  },
  {
   "cell_type": "markdown",
   "id": "a294dace",
   "metadata": {},
   "source": [
    "# Create a zeros matrix"
   ]
  },
  {
   "cell_type": "code",
   "execution_count": 42,
   "id": "6e6c004c",
   "metadata": {},
   "outputs": [
    {
     "name": "stdout",
     "output_type": "stream",
     "text": [
      "[[['' '' '' '']\n",
      "  ['' '' '' '']\n",
      "  ['' '' '' '']]\n",
      "\n",
      " [['' '' '' '']\n",
      "  ['' '' '' '']\n",
      "  ['' '' '' '']]\n",
      "\n",
      " [['' '' '' '']\n",
      "  ['' '' '' '']\n",
      "  ['' '' '' '']]]\n"
     ]
    }
   ],
   "source": [
    "zeros_mx = np.zeros((3,3,4), dtype='str')\n",
    "print(zeros_mx)"
   ]
  },
  {
   "cell_type": "code",
   "execution_count": 43,
   "id": "b1b62ebb",
   "metadata": {},
   "outputs": [
    {
     "name": "stdout",
     "output_type": "stream",
     "text": [
      "[[0 0 0 0]\n",
      " [0 0 0 0]\n",
      " [0 0 0 0]\n",
      " [0 0 0 0]]\n"
     ]
    }
   ],
   "source": [
    "zeros_mx = np.zeros((4,4), dtype='int')\n",
    "print(zeros_mx)"
   ]
  },
  {
   "cell_type": "code",
   "execution_count": 44,
   "id": "0c03d9a7",
   "metadata": {},
   "outputs": [
    {
     "name": "stdout",
     "output_type": "stream",
     "text": [
      "[[False False False False]\n",
      " [False False False False]\n",
      " [False False False False]\n",
      " [False False False False]]\n"
     ]
    }
   ],
   "source": [
    "zeros_mx = np.zeros((4,4), dtype=bool)\n",
    "print(zeros_mx)"
   ]
  },
  {
   "cell_type": "markdown",
   "id": "6e5eb770",
   "metadata": {},
   "source": [
    "# arange() function"
   ]
  },
  {
   "cell_type": "code",
   "execution_count": 45,
   "id": "ee9f019f",
   "metadata": {},
   "outputs": [
    {
     "name": "stdout",
     "output_type": "stream",
     "text": [
      "[[[0 1 2 3 4]]]\n"
     ]
    }
   ],
   "source": [
    "#synatx : arange([start,] stop[, step,], dtype=None)\n",
    "Range = np.arange(5).reshape(1,1,5)\n",
    "print(Range)"
   ]
  },
  {
   "cell_type": "code",
   "execution_count": 46,
   "id": "9fcd9a2c",
   "metadata": {},
   "outputs": [
    {
     "name": "stdout",
     "output_type": "stream",
     "text": [
      "[[ 2  4]\n",
      " [ 6  8]\n",
      " [10 12]\n",
      " [14 16]\n",
      " [18 20]]\n"
     ]
    }
   ],
   "source": [
    "Range = np.arange(2,21,2).reshape(5,2)\n",
    "print(Range)"
   ]
  },
  {
   "cell_type": "markdown",
   "id": "09397529",
   "metadata": {},
   "source": [
    "# linespace()"
   ]
  },
  {
   "cell_type": "code",
   "execution_count": 47,
   "id": "fbeef7ee",
   "metadata": {},
   "outputs": [
    {
     "name": "stdout",
     "output_type": "stream",
     "text": [
      "(array([ 1.  ,  3.25,  5.5 ,  7.75, 10.  ]), 2.25)\n"
     ]
    }
   ],
   "source": [
    "# Syntax : np.linspace(start,stop,num=50,endpoint=True,\n",
    "# retstep=False,dtype=None,axis=0)\n",
    " \n",
    "Linesp = np.linspace(1,10,5 ,endpoint=True, retstep=True, axis=0)\n",
    "print(Linesp)"
   ]
  },
  {
   "cell_type": "code",
   "execution_count": 48,
   "id": "8527ded3",
   "metadata": {},
   "outputs": [
    {
     "name": "stdout",
     "output_type": "stream",
     "text": [
      "[ 1.  2.  3.  4.  5.  6.  7.  8.  9. 10.]\n"
     ]
    }
   ],
   "source": [
    "Linesp = np.linspace(1,10,10, endpoint=True)\n",
    "print(Linesp)"
   ]
  },
  {
   "cell_type": "code",
   "execution_count": 49,
   "id": "54c25ad9",
   "metadata": {},
   "outputs": [
    {
     "name": "stdout",
     "output_type": "stream",
     "text": [
      "(array([1. , 1.9, 2.8, 3.7, 4.6, 5.5, 6.4, 7.3, 8.2, 9.1]), 0.9)\n"
     ]
    }
   ],
   "source": [
    "Linesp = np.linspace(1,10,10, endpoint=False, retstep=True)\n",
    "print(Linesp)"
   ]
  },
  {
   "cell_type": "markdown",
   "id": "d60ffc9a",
   "metadata": {},
   "source": [
    "# reshape()"
   ]
  },
  {
   "cell_type": "code",
   "execution_count": 2,
   "id": "a4a4040c",
   "metadata": {},
   "outputs": [
    {
     "name": "stdout",
     "output_type": "stream",
     "text": [
      "[1 2 3 4 5 6 7 8]\n"
     ]
    }
   ],
   "source": [
    "# np.reshape(a, newshape,)\n",
    "array_1d = np.array([1,2,3,4,5,6,7,8])\n",
    "print(array_1d)"
   ]
  },
  {
   "cell_type": "code",
   "execution_count": 3,
   "id": "7a96e3aa",
   "metadata": {},
   "outputs": [
    {
     "name": "stdout",
     "output_type": "stream",
     "text": [
      "[[[1 2]\n",
      "  [3 4]]\n",
      "\n",
      " [[5 6]\n",
      "  [7 8]]]\n"
     ]
    }
   ],
   "source": [
    "Reshape2d = array_1d.reshape(2,2,2)\n",
    "print(Reshape2d)"
   ]
  },
  {
   "cell_type": "code",
   "execution_count": 4,
   "id": "2567a995",
   "metadata": {},
   "outputs": [
    {
     "name": "stdout",
     "output_type": "stream",
     "text": [
      "[[[1]\n",
      "  [2]\n",
      "  [3]\n",
      "  [4]\n",
      "  [5]\n",
      "  [6]\n",
      "  [7]\n",
      "  [8]]]\n"
     ]
    }
   ],
   "source": [
    "Reshape3d = array_1d.reshape(1,8,1) #for layer 1\n",
    "print(Reshape3d)"
   ]
  },
  {
   "cell_type": "code",
   "execution_count": 5,
   "id": "55490128",
   "metadata": {},
   "outputs": [
    {
     "name": "stdout",
     "output_type": "stream",
     "text": [
      "[[[1 2 3 4]]\n",
      "\n",
      " [[5 6 7 8]]]\n"
     ]
    }
   ],
   "source": [
    "Reshape3d = array_1d.reshape(2,1,4) #for layer 2\n",
    "print(Reshape3d)"
   ]
  },
  {
   "cell_type": "code",
   "execution_count": 6,
   "id": "c752dcbf",
   "metadata": {},
   "outputs": [
    {
     "name": "stdout",
     "output_type": "stream",
     "text": [
      "[[1 2 3]\n",
      " [4 5 6]\n",
      " [7 8 9]]\n"
     ]
    }
   ],
   "source": [
    "#use arange function with reshape or viceversa\n",
    "Reshape1 = np.arange(1,10).reshape(3,3)\n",
    "print(Reshape1)"
   ]
  },
  {
   "cell_type": "code",
   "execution_count": 7,
   "id": "572a4307",
   "metadata": {},
   "outputs": [
    {
     "name": "stdout",
     "output_type": "stream",
     "text": [
      "[[[1 2 3]\n",
      "  [4 5 6]\n",
      "  [7 8 9]]]\n"
     ]
    }
   ],
   "source": [
    "Reshape1 = np.arange(1,10).reshape(1,3,3)\n",
    "print(Reshape1)"
   ]
  },
  {
   "cell_type": "code",
   "execution_count": 8,
   "id": "d0a9ae1e",
   "metadata": {},
   "outputs": [
    {
     "name": "stdout",
     "output_type": "stream",
     "text": [
      "[[[ 1  2  3]\n",
      "  [ 4  5  6]\n",
      "  [ 7  8  9]]\n",
      "\n",
      " [[10 11 12]\n",
      "  [13 14 15]\n",
      "  [16 17 18]]\n",
      "\n",
      " [[19 20 21]\n",
      "  [22 23 24]\n",
      "  [25 26 27]]]\n"
     ]
    }
   ],
   "source": [
    "Reshape1 = np.arange(1,28).reshape(3,3,3)\n",
    "print(Reshape1)"
   ]
  },
  {
   "cell_type": "markdown",
   "id": "6cddf135",
   "metadata": {},
   "source": [
    "# ravel()"
   ]
  },
  {
   "cell_type": "code",
   "execution_count": 9,
   "id": "d9a4998a",
   "metadata": {},
   "outputs": [
    {
     "data": {
      "text/plain": [
       "array([[[ 1,  2,  3],\n",
       "        [ 4,  5,  6],\n",
       "        [ 7,  8,  9]],\n",
       "\n",
       "       [[10, 11, 12],\n",
       "        [13, 14, 15],\n",
       "        [16, 17, 18]],\n",
       "\n",
       "       [[19, 20, 21],\n",
       "        [22, 23, 24],\n",
       "        [25, 26, 27]]])"
      ]
     },
     "execution_count": 9,
     "metadata": {},
     "output_type": "execute_result"
    }
   ],
   "source": [
    "Reshape1"
   ]
  },
  {
   "cell_type": "code",
   "execution_count": 10,
   "id": "16842d49",
   "metadata": {},
   "outputs": [
    {
     "data": {
      "text/plain": [
       "array([ 1,  2,  3,  4,  5,  6,  7,  8,  9, 10, 11, 12, 13, 14, 15, 16, 17,\n",
       "       18, 19, 20, 21, 22, 23, 24, 25, 26, 27])"
      ]
     },
     "execution_count": 10,
     "metadata": {},
     "output_type": "execute_result"
    }
   ],
   "source": [
    "#convert multidimesnioanl array in one dimesnioanl\n",
    "Reshape1.ravel()"
   ]
  },
  {
   "cell_type": "markdown",
   "id": "1152c463",
   "metadata": {},
   "source": [
    "# flatten()"
   ]
  },
  {
   "cell_type": "code",
   "execution_count": 11,
   "id": "da25c1f3",
   "metadata": {},
   "outputs": [
    {
     "data": {
      "text/plain": [
       "array([ 1,  2,  3,  4,  5,  6,  7,  8,  9, 10, 11, 12, 13, 14, 15, 16, 17,\n",
       "       18, 19, 20, 21, 22, 23, 24, 25, 26, 27])"
      ]
     },
     "execution_count": 11,
     "metadata": {},
     "output_type": "execute_result"
    }
   ],
   "source": [
    "Reshape1.flatten()"
   ]
  },
  {
   "cell_type": "code",
   "execution_count": 12,
   "id": "0e54da65",
   "metadata": {},
   "outputs": [
    {
     "data": {
      "text/plain": [
       "array([ 1, 10, 19,  4, 13, 22,  7, 16, 25,  2, 11, 20,  5, 14, 23,  8, 17,\n",
       "       26,  3, 12, 21,  6, 15, 24,  9, 18, 27])"
      ]
     },
     "execution_count": 12,
     "metadata": {},
     "output_type": "execute_result"
    }
   ],
   "source": [
    "Reshape1.flatten(order='f')"
   ]
  },
  {
   "cell_type": "code",
   "execution_count": 13,
   "id": "2dc9a0af",
   "metadata": {},
   "outputs": [
    {
     "data": {
      "text/plain": [
       "array([ 1,  2,  3,  4,  5,  6,  7,  8,  9, 10, 11, 12, 13, 14, 15, 16, 17,\n",
       "       18, 19, 20, 21, 22, 23, 24, 25, 26, 27])"
      ]
     },
     "execution_count": 13,
     "metadata": {},
     "output_type": "execute_result"
    }
   ],
   "source": [
    "Reshape1.flatten(order='K')"
   ]
  },
  {
   "cell_type": "markdown",
   "id": "31f4ddb6",
   "metadata": {},
   "source": [
    "# transpose()"
   ]
  },
  {
   "cell_type": "code",
   "execution_count": 14,
   "id": "c5786f14",
   "metadata": {},
   "outputs": [
    {
     "data": {
      "text/plain": [
       "array([[[ 1,  2,  3],\n",
       "        [ 4,  5,  6],\n",
       "        [ 7,  8,  9]],\n",
       "\n",
       "       [[10, 11, 12],\n",
       "        [13, 14, 15],\n",
       "        [16, 17, 18]],\n",
       "\n",
       "       [[19, 20, 21],\n",
       "        [22, 23, 24],\n",
       "        [25, 26, 27]]])"
      ]
     },
     "execution_count": 14,
     "metadata": {},
     "output_type": "execute_result"
    }
   ],
   "source": [
    "Reshape1"
   ]
  },
  {
   "cell_type": "code",
   "execution_count": 15,
   "id": "48db6291",
   "metadata": {},
   "outputs": [
    {
     "data": {
      "text/plain": [
       "array([[[ 1, 10, 19],\n",
       "        [ 4, 13, 22],\n",
       "        [ 7, 16, 25]],\n",
       "\n",
       "       [[ 2, 11, 20],\n",
       "        [ 5, 14, 23],\n",
       "        [ 8, 17, 26]],\n",
       "\n",
       "       [[ 3, 12, 21],\n",
       "        [ 6, 15, 24],\n",
       "        [ 9, 18, 27]]])"
      ]
     },
     "execution_count": 15,
     "metadata": {},
     "output_type": "execute_result"
    }
   ],
   "source": [
    "# convert rows into colimn or viceversa\n",
    "Reshape1.transpose()"
   ]
  },
  {
   "cell_type": "code",
   "execution_count": 16,
   "id": "08e29da7",
   "metadata": {},
   "outputs": [
    {
     "data": {
      "text/plain": [
       "array([[1, 2, 3],\n",
       "       [4, 5, 6],\n",
       "       [7, 8, 9]])"
      ]
     },
     "execution_count": 16,
     "metadata": {},
     "output_type": "execute_result"
    }
   ],
   "source": [
    "x = np.array([[1,2,3],[4,5,6],[7,8,9]])\n",
    "x"
   ]
  },
  {
   "cell_type": "code",
   "execution_count": 17,
   "id": "c9d4f215",
   "metadata": {},
   "outputs": [
    {
     "data": {
      "text/plain": [
       "array([[1, 4, 7],\n",
       "       [2, 5, 8],\n",
       "       [3, 6, 9]])"
      ]
     },
     "execution_count": 17,
     "metadata": {},
     "output_type": "execute_result"
    }
   ],
   "source": [
    "x.T"
   ]
  },
  {
   "cell_type": "code",
   "execution_count": 18,
   "id": "4ccd8cf6",
   "metadata": {},
   "outputs": [
    {
     "data": {
      "text/plain": [
       "array([[[ 1, 10, 19],\n",
       "        [ 4, 13, 22],\n",
       "        [ 7, 16, 25]],\n",
       "\n",
       "       [[ 2, 11, 20],\n",
       "        [ 5, 14, 23],\n",
       "        [ 8, 17, 26]],\n",
       "\n",
       "       [[ 3, 12, 21],\n",
       "        [ 6, 15, 24],\n",
       "        [ 9, 18, 27]]])"
      ]
     },
     "execution_count": 18,
     "metadata": {},
     "output_type": "execute_result"
    }
   ],
   "source": [
    "Reshape1.T"
   ]
  },
  {
   "cell_type": "code",
   "execution_count": 19,
   "id": "20998436",
   "metadata": {},
   "outputs": [
    {
     "name": "stdout",
     "output_type": "stream",
     "text": [
      "[[[ 1  2  3]\n",
      "  [ 4  5  6]\n",
      "  [ 7  8  9]]\n",
      "\n",
      " [[10 11 12]\n",
      "  [13 14 15]\n",
      "  [16 17 18]]\n",
      "\n",
      " [[19 20 21]\n",
      "  [22 23 24]\n",
      "  [25 26 27]]]\n"
     ]
    }
   ],
   "source": [
    "print(Reshape1)"
   ]
  },
  {
   "cell_type": "markdown",
   "id": "1edb6b45",
   "metadata": {},
   "source": [
    "# Numpy Operation"
   ]
  },
  {
   "cell_type": "code",
   "execution_count": 20,
   "id": "2636f752",
   "metadata": {},
   "outputs": [],
   "source": [
    "array1 = np.arange(1,13).reshape(4,3)\n",
    "array2 = np.arange(1,13).reshape(4,3)"
   ]
  },
  {
   "cell_type": "code",
   "execution_count": 21,
   "id": "c0b84965",
   "metadata": {},
   "outputs": [
    {
     "name": "stdout",
     "output_type": "stream",
     "text": [
      "[[ 1  2  3]\n",
      " [ 4  5  6]\n",
      " [ 7  8  9]\n",
      " [10 11 12]]\n"
     ]
    }
   ],
   "source": [
    "print(array1)"
   ]
  },
  {
   "cell_type": "code",
   "execution_count": 22,
   "id": "ac3817e0",
   "metadata": {},
   "outputs": [
    {
     "name": "stdout",
     "output_type": "stream",
     "text": [
      "[[ 1  2  3]\n",
      " [ 4  5  6]\n",
      " [ 7  8  9]\n",
      " [10 11 12]]\n"
     ]
    }
   ],
   "source": [
    "print(array2)"
   ]
  },
  {
   "cell_type": "code",
   "execution_count": 23,
   "id": "e38ef6fb",
   "metadata": {},
   "outputs": [
    {
     "data": {
      "text/plain": [
       "array([[ 2,  4,  6],\n",
       "       [ 8, 10, 12],\n",
       "       [14, 16, 18],\n",
       "       [20, 22, 24]])"
      ]
     },
     "execution_count": 23,
     "metadata": {},
     "output_type": "execute_result"
    }
   ],
   "source": [
    "#addition\n",
    "array1+array2"
   ]
  },
  {
   "cell_type": "code",
   "execution_count": 24,
   "id": "8e4cbca8",
   "metadata": {},
   "outputs": [
    {
     "data": {
      "text/plain": [
       "array([[   1,    8,   27],\n",
       "       [  64,  125,  216],\n",
       "       [ 343,  512,  729],\n",
       "       [1000, 1331, 1728]])"
      ]
     },
     "execution_count": 24,
     "metadata": {},
     "output_type": "execute_result"
    }
   ],
   "source": [
    "array1 * array2 * array1"
   ]
  },
  {
   "cell_type": "code",
   "execution_count": 25,
   "id": "f45948ae",
   "metadata": {},
   "outputs": [
    {
     "data": {
      "text/plain": [
       "array([[ 2,  4,  6],\n",
       "       [ 8, 10, 12],\n",
       "       [14, 16, 18],\n",
       "       [20, 22, 24]])"
      ]
     },
     "execution_count": 25,
     "metadata": {},
     "output_type": "execute_result"
    }
   ],
   "source": [
    "np.add(array1, array2)"
   ]
  },
  {
   "cell_type": "code",
   "execution_count": 26,
   "id": "537fb47e",
   "metadata": {},
   "outputs": [
    {
     "data": {
      "text/plain": [
       "array([[0, 0, 0],\n",
       "       [0, 0, 0],\n",
       "       [0, 0, 0],\n",
       "       [0, 0, 0]])"
      ]
     },
     "execution_count": 26,
     "metadata": {},
     "output_type": "execute_result"
    }
   ],
   "source": [
    "np.subtract(array1, array2)"
   ]
  },
  {
   "cell_type": "code",
   "execution_count": 27,
   "id": "df5276a1",
   "metadata": {},
   "outputs": [
    {
     "data": {
      "text/plain": [
       "array([[  1,   4,   9],\n",
       "       [ 16,  25,  36],\n",
       "       [ 49,  64,  81],\n",
       "       [100, 121, 144]])"
      ]
     },
     "execution_count": 27,
     "metadata": {},
     "output_type": "execute_result"
    }
   ],
   "source": [
    "np.multiply(array1, array2)"
   ]
  },
  {
   "cell_type": "markdown",
   "id": "13b7e940",
   "metadata": {},
   "source": [
    "# matrix product"
   ]
  },
  {
   "cell_type": "code",
   "execution_count": 28,
   "id": "661de7dc",
   "metadata": {},
   "outputs": [
    {
     "name": "stdout",
     "output_type": "stream",
     "text": [
      "[[1 2 3]\n",
      " [4 5 6]\n",
      " [7 8 9]]\n",
      "[[1 2 3]\n",
      " [4 5 6]\n",
      " [7 8 9]]\n"
     ]
    }
   ],
   "source": [
    "ar1 = np.arange(1,10).reshape(3,3)\n",
    "ar2 = np.arange(1,10).reshape(3,3)\n",
    "print(ar1)\n",
    "print(ar2)"
   ]
  },
  {
   "cell_type": "code",
   "execution_count": 3,
   "id": "9cf0fe79",
   "metadata": {},
   "outputs": [
    {
     "data": {
      "text/plain": [
       "array([[ 30,  36,  42],\n",
       "       [ 66,  81,  96],\n",
       "       [102, 126, 150]])"
      ]
     },
     "execution_count": 3,
     "metadata": {},
     "output_type": "execute_result"
    }
   ],
   "source": [
    "ar1.dot(ar2)   # 1x1 + 2x4 + 3x7 = 1+8+21"
   ]
  },
  {
   "cell_type": "code",
   "execution_count": 29,
   "id": "535c4857",
   "metadata": {},
   "outputs": [
    {
     "data": {
      "text/plain": [
       "array([[1, 2, 3],\n",
       "       [4, 5, 6],\n",
       "       [7, 8, 9]])"
      ]
     },
     "execution_count": 29,
     "metadata": {},
     "output_type": "execute_result"
    }
   ],
   "source": [
    "# max()\n",
    "\n",
    "ar1"
   ]
  },
  {
   "cell_type": "code",
   "execution_count": 30,
   "id": "41a7ce7c",
   "metadata": {},
   "outputs": [
    {
     "data": {
      "text/plain": [
       "9"
      ]
     },
     "execution_count": 30,
     "metadata": {},
     "output_type": "execute_result"
    }
   ],
   "source": [
    "ar1.max()"
   ]
  },
  {
   "cell_type": "code",
   "execution_count": 5,
   "id": "fcf5bcd7",
   "metadata": {},
   "outputs": [],
   "source": [
    "# argmax() : find index of the maximum value"
   ]
  },
  {
   "cell_type": "code",
   "execution_count": 31,
   "id": "5e9129cb",
   "metadata": {},
   "outputs": [
    {
     "data": {
      "text/plain": [
       "8"
      ]
     },
     "execution_count": 31,
     "metadata": {},
     "output_type": "execute_result"
    }
   ],
   "source": [
    "ar1.argmax()"
   ]
  },
  {
   "cell_type": "code",
   "execution_count": 33,
   "id": "bd083527",
   "metadata": {},
   "outputs": [
    {
     "data": {
      "text/plain": [
       "array([[9, 9, 5],\n",
       "       [6, 1, 4],\n",
       "       [7, 3, 8]])"
      ]
     },
     "execution_count": 33,
     "metadata": {},
     "output_type": "execute_result"
    }
   ],
   "source": [
    "aa = np.random.randint(1,10,9).reshape(3,3)\n",
    "aa"
   ]
  },
  {
   "cell_type": "code",
   "execution_count": 34,
   "id": "f828691f",
   "metadata": {},
   "outputs": [
    {
     "data": {
      "text/plain": [
       "(9, 0)"
      ]
     },
     "execution_count": 34,
     "metadata": {},
     "output_type": "execute_result"
    }
   ],
   "source": [
    "aa.max(), aa.argmax()"
   ]
  },
  {
   "cell_type": "code",
   "execution_count": 35,
   "id": "c0aa5170",
   "metadata": {},
   "outputs": [
    {
     "data": {
      "text/plain": [
       "array([[1, 2, 3],\n",
       "       [4, 5, 6],\n",
       "       [7, 8, 9]])"
      ]
     },
     "execution_count": 35,
     "metadata": {},
     "output_type": "execute_result"
    }
   ],
   "source": [
    "#find maximum value in columns and rows using axis parameter\n",
    "# 0 Represent columns and 1 represent Rows\n",
    "ar1"
   ]
  },
  {
   "cell_type": "code",
   "execution_count": 38,
   "id": "cab13959",
   "metadata": {},
   "outputs": [
    {
     "data": {
      "text/plain": [
       "array([7, 8, 9])"
      ]
     },
     "execution_count": 38,
     "metadata": {},
     "output_type": "execute_result"
    }
   ],
   "source": [
    "ar1.max(axis=0) #max in columns"
   ]
  },
  {
   "cell_type": "code",
   "execution_count": 102,
   "id": "437d60b2",
   "metadata": {},
   "outputs": [],
   "source": [
    "# sum()"
   ]
  },
  {
   "cell_type": "code",
   "execution_count": 39,
   "id": "f7f530de",
   "metadata": {},
   "outputs": [
    {
     "data": {
      "text/plain": [
       "array([[1, 2, 3],\n",
       "       [4, 5, 6],\n",
       "       [7, 8, 9]])"
      ]
     },
     "execution_count": 39,
     "metadata": {},
     "output_type": "execute_result"
    }
   ],
   "source": [
    "ar1"
   ]
  },
  {
   "cell_type": "code",
   "execution_count": 40,
   "id": "7f0a9de4",
   "metadata": {},
   "outputs": [
    {
     "data": {
      "text/plain": [
       "45"
      ]
     },
     "execution_count": 40,
     "metadata": {},
     "output_type": "execute_result"
    }
   ],
   "source": [
    "ar1.sum()"
   ]
  },
  {
   "cell_type": "code",
   "execution_count": 41,
   "id": "5563f291",
   "metadata": {},
   "outputs": [
    {
     "data": {
      "text/plain": [
       "array([12, 15, 18])"
      ]
     },
     "execution_count": 41,
     "metadata": {},
     "output_type": "execute_result"
    }
   ],
   "source": [
    "a = np.sum(ar1, axis=0) #addition of columns\n",
    "a"
   ]
  },
  {
   "cell_type": "code",
   "execution_count": 42,
   "id": "1f089760",
   "metadata": {},
   "outputs": [
    {
     "data": {
      "text/plain": [
       "array([ 6, 15, 24])"
      ]
     },
     "execution_count": 42,
     "metadata": {},
     "output_type": "execute_result"
    }
   ],
   "source": [
    "a = np.sum(ar1, axis=1) #addition of rows\n",
    "a"
   ]
  },
  {
   "cell_type": "code",
   "execution_count": 107,
   "id": "d027202c",
   "metadata": {},
   "outputs": [],
   "source": [
    "# mean()"
   ]
  },
  {
   "cell_type": "code",
   "execution_count": 43,
   "id": "b908580b",
   "metadata": {},
   "outputs": [
    {
     "data": {
      "text/plain": [
       "array([[1, 2, 3],\n",
       "       [4, 5, 6],\n",
       "       [7, 8, 9]])"
      ]
     },
     "execution_count": 43,
     "metadata": {},
     "output_type": "execute_result"
    }
   ],
   "source": [
    "ar1"
   ]
  },
  {
   "cell_type": "code",
   "execution_count": 44,
   "id": "f0994855",
   "metadata": {},
   "outputs": [
    {
     "data": {
      "text/plain": [
       "5.0"
      ]
     },
     "execution_count": 44,
     "metadata": {},
     "output_type": "execute_result"
    }
   ],
   "source": [
    "ar1.mean()"
   ]
  },
  {
   "cell_type": "code",
   "execution_count": 110,
   "id": "eb0263c5",
   "metadata": {},
   "outputs": [],
   "source": [
    "# sqrt() & square()"
   ]
  },
  {
   "cell_type": "code",
   "execution_count": 45,
   "id": "2eeb4ff5",
   "metadata": {},
   "outputs": [
    {
     "data": {
      "text/plain": [
       "array([[1, 2, 3],\n",
       "       [4, 5, 6],\n",
       "       [7, 8, 9]])"
      ]
     },
     "execution_count": 45,
     "metadata": {},
     "output_type": "execute_result"
    }
   ],
   "source": [
    "ar1"
   ]
  },
  {
   "cell_type": "code",
   "execution_count": 47,
   "id": "5d34f4b2",
   "metadata": {},
   "outputs": [
    {
     "data": {
      "text/plain": [
       "array([[1., 2., 3.],\n",
       "       [4., 5., 6.],\n",
       "       [7., 8., 9.]])"
      ]
     },
     "execution_count": 47,
     "metadata": {},
     "output_type": "execute_result"
    }
   ],
   "source": [
    "np.sqrt(y)"
   ]
  },
  {
   "cell_type": "code",
   "execution_count": 46,
   "id": "a4dc8489",
   "metadata": {},
   "outputs": [
    {
     "data": {
      "text/plain": [
       "array([[ 1,  4,  9],\n",
       "       [16, 25, 36],\n",
       "       [49, 64, 81]], dtype=int32)"
      ]
     },
     "execution_count": 46,
     "metadata": {},
     "output_type": "execute_result"
    }
   ],
   "source": [
    "y = np.square(ar1)\n",
    "y"
   ]
  },
  {
   "cell_type": "code",
   "execution_count": 116,
   "id": "ab43230a",
   "metadata": {},
   "outputs": [],
   "source": [
    "# std()"
   ]
  },
  {
   "cell_type": "code",
   "execution_count": 48,
   "id": "179b663b",
   "metadata": {},
   "outputs": [
    {
     "data": {
      "text/plain": [
       "2.581988897471611"
      ]
     },
     "execution_count": 48,
     "metadata": {},
     "output_type": "execute_result"
    }
   ],
   "source": [
    "np.std(ar1)"
   ]
  },
  {
   "cell_type": "code",
   "execution_count": 118,
   "id": "3beabf51",
   "metadata": {},
   "outputs": [],
   "source": [
    "# exp() : find exponent"
   ]
  },
  {
   "cell_type": "code",
   "execution_count": 49,
   "id": "2ad5e6be",
   "metadata": {},
   "outputs": [
    {
     "data": {
      "text/plain": [
       "array([[2.71828183e+00, 7.38905610e+00, 2.00855369e+01],\n",
       "       [5.45981500e+01, 1.48413159e+02, 4.03428793e+02],\n",
       "       [1.09663316e+03, 2.98095799e+03, 8.10308393e+03]])"
      ]
     },
     "execution_count": 49,
     "metadata": {},
     "output_type": "execute_result"
    }
   ],
   "source": [
    "np.exp(ar1)"
   ]
  },
  {
   "cell_type": "code",
   "execution_count": null,
   "id": "d09da7de",
   "metadata": {},
   "outputs": [],
   "source": [
    "# log() and logbase10=log10"
   ]
  },
  {
   "cell_type": "code",
   "execution_count": 50,
   "id": "17cc4e92",
   "metadata": {},
   "outputs": [
    {
     "data": {
      "text/plain": [
       "array([[0.        , 0.69314718, 1.09861229],\n",
       "       [1.38629436, 1.60943791, 1.79175947],\n",
       "       [1.94591015, 2.07944154, 2.19722458]])"
      ]
     },
     "execution_count": 50,
     "metadata": {},
     "output_type": "execute_result"
    }
   ],
   "source": [
    "np.log(ar1)"
   ]
  },
  {
   "cell_type": "code",
   "execution_count": 51,
   "id": "a4a7f72c",
   "metadata": {},
   "outputs": [
    {
     "data": {
      "text/plain": [
       "array([[0.        , 0.30103   , 0.47712125],\n",
       "       [0.60205999, 0.69897   , 0.77815125],\n",
       "       [0.84509804, 0.90308999, 0.95424251]])"
      ]
     },
     "execution_count": 51,
     "metadata": {},
     "output_type": "execute_result"
    }
   ],
   "source": [
    "np.log10(ar1)"
   ]
  },
  {
   "cell_type": "markdown",
   "id": "be537b0e",
   "metadata": {},
   "source": [
    "# Array Slicing in Numpy"
   ]
  },
  {
   "cell_type": "code",
   "execution_count": 52,
   "id": "5d5eb8b1",
   "metadata": {},
   "outputs": [
    {
     "data": {
      "text/plain": [
       "array([[ 1,  2,  3,  4,  5],\n",
       "       [ 6,  7,  8,  9, 10],\n",
       "       [11, 12, 13, 14, 15],\n",
       "       [16, 17, 18, 19, 20],\n",
       "       [21, 22, 23, 24, 25]])"
      ]
     },
     "execution_count": 52,
     "metadata": {},
     "output_type": "execute_result"
    }
   ],
   "source": [
    "mx = np.arange(1,26).reshape(5,5)\n",
    "mx"
   ]
  },
  {
   "cell_type": "code",
   "execution_count": 53,
   "id": "b6428f56",
   "metadata": {},
   "outputs": [
    {
     "data": {
      "text/plain": [
       "1"
      ]
     },
     "execution_count": 53,
     "metadata": {},
     "output_type": "execute_result"
    }
   ],
   "source": [
    "#print 1 element -1D\n",
    "mx[0,0]"
   ]
  },
  {
   "cell_type": "code",
   "execution_count": 54,
   "id": "d410cd77",
   "metadata": {},
   "outputs": [
    {
     "data": {
      "text/plain": [
       "array([[1, 2, 3, 4, 5]])"
      ]
     },
     "execution_count": 54,
     "metadata": {},
     "output_type": "execute_result"
    }
   ],
   "source": [
    "#single rows - 2D\n",
    "mx[0:1,0:]"
   ]
  },
  {
   "cell_type": "code",
   "execution_count": 37,
   "id": "19e1fdc0",
   "metadata": {},
   "outputs": [
    {
     "data": {
      "text/plain": [
       "array([[ 1,  2,  3,  4,  5],\n",
       "       [ 6,  7,  8,  9, 10],\n",
       "       [11, 12, 13, 14, 15],\n",
       "       [16, 17, 18, 19, 20],\n",
       "       [21, 22, 23, 24, 25]])"
      ]
     },
     "execution_count": 37,
     "metadata": {},
     "output_type": "execute_result"
    }
   ],
   "source": [
    "mx"
   ]
  },
  {
   "cell_type": "code",
   "execution_count": 55,
   "id": "337e9d77",
   "metadata": {},
   "outputs": [
    {
     "data": {
      "text/plain": [
       "array([[ 1],\n",
       "       [ 6],\n",
       "       [11],\n",
       "       [16],\n",
       "       [21]])"
      ]
     },
     "execution_count": 55,
     "metadata": {},
     "output_type": "execute_result"
    }
   ],
   "source": [
    "#single columns\n",
    "mx[0:,0:1]"
   ]
  },
  {
   "cell_type": "code",
   "execution_count": 56,
   "id": "f9a7e4d0",
   "metadata": {},
   "outputs": [
    {
     "data": {
      "text/plain": [
       "array([[ 1,  2,  3,  4,  5],\n",
       "       [ 6,  7,  8,  9, 10],\n",
       "       [11, 12, 13, 14, 15],\n",
       "       [16, 17, 18, 19, 20],\n",
       "       [21, 22, 23, 24, 25]])"
      ]
     },
     "execution_count": 56,
     "metadata": {},
     "output_type": "execute_result"
    }
   ],
   "source": [
    "#find random number\n",
    "mx"
   ]
  },
  {
   "cell_type": "code",
   "execution_count": 57,
   "id": "039d7434",
   "metadata": {},
   "outputs": [
    {
     "data": {
      "text/plain": [
       "array([[13, 14],\n",
       "       [18, 19]])"
      ]
     },
     "execution_count": 57,
     "metadata": {},
     "output_type": "execute_result"
    }
   ],
   "source": [
    "# [13,14\n",
    "# 18,19]\n",
    "mx[2:4,2:4]"
   ]
  },
  {
   "cell_type": "code",
   "execution_count": 58,
   "id": "77b6b05c",
   "metadata": {},
   "outputs": [
    {
     "data": {
      "text/plain": [
       "array([[ 7,  9],\n",
       "       [17, 19]])"
      ]
     },
     "execution_count": 58,
     "metadata": {},
     "output_type": "execute_result"
    }
   ],
   "source": [
    "#use step parameters\n",
    "# [7,9\n",
    "# 17,19]\n",
    "mx[1:4:2, 1:4:2]"
   ]
  },
  {
   "cell_type": "code",
   "execution_count": 59,
   "id": "72f4f0fb",
   "metadata": {},
   "outputs": [
    {
     "data": {
      "text/plain": [
       "array([[ 1,  2,  3,  4,  5],\n",
       "       [ 6,  7,  8,  9, 10],\n",
       "       [11, 12, 13, 14, 15],\n",
       "       [16, 17, 18, 19, 20],\n",
       "       [21, 22, 23, 24, 25]])"
      ]
     },
     "execution_count": 59,
     "metadata": {},
     "output_type": "execute_result"
    }
   ],
   "source": [
    "mx"
   ]
  },
  {
   "cell_type": "code",
   "execution_count": 60,
   "id": "1d16f1eb",
   "metadata": {},
   "outputs": [
    {
     "data": {
      "text/plain": [
       "4"
      ]
     },
     "execution_count": 60,
     "metadata": {},
     "output_type": "execute_result"
    }
   ],
   "source": [
    "#size of the item\n",
    "mx.itemsize"
   ]
  },
  {
   "cell_type": "code",
   "execution_count": 88,
   "id": "e2fc079a",
   "metadata": {},
   "outputs": [
    {
     "data": {
      "text/plain": [
       "dtype('int32')"
      ]
     },
     "execution_count": 88,
     "metadata": {},
     "output_type": "execute_result"
    }
   ],
   "source": [
    "mx.dtype"
   ]
  },
  {
   "cell_type": "code",
   "execution_count": null,
   "id": "b123aad3",
   "metadata": {},
   "outputs": [],
   "source": [
    "# Array Concatenation and Split"
   ]
  },
  {
   "cell_type": "code",
   "execution_count": 2,
   "id": "38d4f7e0",
   "metadata": {},
   "outputs": [],
   "source": [
    "a1 = np.arange(1,10).reshape(3,3)\n",
    "a2 = np.arange(10,19).reshape(3,3)"
   ]
  },
  {
   "cell_type": "code",
   "execution_count": 3,
   "id": "6c188342",
   "metadata": {},
   "outputs": [
    {
     "data": {
      "text/plain": [
       "array([[1, 2, 3],\n",
       "       [4, 5, 6],\n",
       "       [7, 8, 9]])"
      ]
     },
     "execution_count": 3,
     "metadata": {},
     "output_type": "execute_result"
    }
   ],
   "source": [
    "a1"
   ]
  },
  {
   "cell_type": "code",
   "execution_count": 4,
   "id": "bd329147",
   "metadata": {},
   "outputs": [
    {
     "data": {
      "text/plain": [
       "array([[10, 11, 12],\n",
       "       [13, 14, 15],\n",
       "       [16, 17, 18]])"
      ]
     },
     "execution_count": 4,
     "metadata": {},
     "output_type": "execute_result"
    }
   ],
   "source": [
    "a2"
   ]
  },
  {
   "cell_type": "code",
   "execution_count": 5,
   "id": "a7f8ad58",
   "metadata": {},
   "outputs": [
    {
     "data": {
      "text/plain": [
       "array([[11, 13, 15],\n",
       "       [17, 19, 21],\n",
       "       [23, 25, 27]])"
      ]
     },
     "execution_count": 5,
     "metadata": {},
     "output_type": "execute_result"
    }
   ],
   "source": [
    "a1+a2"
   ]
  },
  {
   "cell_type": "code",
   "execution_count": 6,
   "id": "09ce70fb",
   "metadata": {},
   "outputs": [
    {
     "data": {
      "text/plain": [
       "array([[ 1,  2,  3],\n",
       "       [ 4,  5,  6],\n",
       "       [ 7,  8,  9],\n",
       "       [10, 11, 12],\n",
       "       [13, 14, 15],\n",
       "       [16, 17, 18]])"
      ]
     },
     "execution_count": 6,
     "metadata": {},
     "output_type": "execute_result"
    }
   ],
   "source": [
    "#use concatenate\n",
    "np.concatenate((a1,a2))"
   ]
  },
  {
   "cell_type": "code",
   "execution_count": 7,
   "id": "8bec1d7e",
   "metadata": {},
   "outputs": [
    {
     "data": {
      "text/plain": [
       "array([[ 1,  2,  3, 10, 11, 12],\n",
       "       [ 4,  5,  6, 13, 14, 15],\n",
       "       [ 7,  8,  9, 16, 17, 18]])"
      ]
     },
     "execution_count": 7,
     "metadata": {},
     "output_type": "execute_result"
    }
   ],
   "source": [
    "np.concatenate((a1,a2), axis=1)"
   ]
  },
  {
   "cell_type": "code",
   "execution_count": 50,
   "id": "7c7178ee",
   "metadata": {},
   "outputs": [
    {
     "data": {
      "text/plain": [
       "array([[ 1,  4,  7, 10, 13, 16],\n",
       "       [ 2,  5,  8, 11, 14, 17],\n",
       "       [ 3,  6,  9, 12, 15, 18]])"
      ]
     },
     "execution_count": 50,
     "metadata": {},
     "output_type": "execute_result"
    }
   ],
   "source": [
    "np.concatenate((a1,a2)).T"
   ]
  },
  {
   "cell_type": "code",
   "execution_count": 8,
   "id": "07915c78",
   "metadata": {},
   "outputs": [
    {
     "data": {
      "text/plain": [
       "array([[ 1,  2,  3],\n",
       "       [ 4,  5,  6],\n",
       "       [ 7,  8,  9],\n",
       "       [10, 11, 12],\n",
       "       [13, 14, 15],\n",
       "       [16, 17, 18]])"
      ]
     },
     "execution_count": 8,
     "metadata": {},
     "output_type": "execute_result"
    }
   ],
   "source": [
    "#verical concate\n",
    "np.vstack((a1,a2))"
   ]
  },
  {
   "cell_type": "code",
   "execution_count": 9,
   "id": "d53f0b84",
   "metadata": {},
   "outputs": [
    {
     "data": {
      "text/plain": [
       "array([[ 1,  2,  3, 10, 11, 12],\n",
       "       [ 4,  5,  6, 13, 14, 15],\n",
       "       [ 7,  8,  9, 16, 17, 18]])"
      ]
     },
     "execution_count": 9,
     "metadata": {},
     "output_type": "execute_result"
    }
   ],
   "source": [
    "#horizantal concate\n",
    "np.hstack((a1,a2))"
   ]
  },
  {
   "cell_type": "code",
   "execution_count": 10,
   "id": "f74b9592",
   "metadata": {},
   "outputs": [
    {
     "data": {
      "text/plain": [
       "array([[ 1,  2,  3,  4],\n",
       "       [ 5,  6,  7,  8],\n",
       "       [ 9, 10, 11, 12],\n",
       "       [13, 14, 15, 16],\n",
       "       [17, 18, 19, 20],\n",
       "       [21, 22, 23, 24]])"
      ]
     },
     "execution_count": 10,
     "metadata": {},
     "output_type": "execute_result"
    }
   ],
   "source": [
    "#Split\n",
    "split_array = np.arange(1,25).reshape(6,4)\n",
    "split_array"
   ]
  },
  {
   "cell_type": "code",
   "execution_count": 14,
   "id": "e01e45e2",
   "metadata": {},
   "outputs": [
    {
     "data": {
      "text/plain": [
       "[array([[1, 2, 3, 4]]),\n",
       " array([[5, 6, 7, 8]]),\n",
       " array([[ 9, 10, 11, 12]]),\n",
       " array([[13, 14, 15, 16]]),\n",
       " array([[17, 18, 19, 20]]),\n",
       " array([[21, 22, 23, 24]])]"
      ]
     },
     "execution_count": 14,
     "metadata": {},
     "output_type": "execute_result"
    }
   ],
   "source": [
    "np.split(split_array,6)"
   ]
  },
  {
   "cell_type": "code",
   "execution_count": 15,
   "id": "08acf923",
   "metadata": {},
   "outputs": [
    {
     "data": {
      "text/plain": [
       "[array([[ 1],\n",
       "        [ 5],\n",
       "        [ 9],\n",
       "        [13],\n",
       "        [17],\n",
       "        [21]]),\n",
       " array([[ 2],\n",
       "        [ 6],\n",
       "        [10],\n",
       "        [14],\n",
       "        [18],\n",
       "        [22]]),\n",
       " array([[ 3],\n",
       "        [ 7],\n",
       "        [11],\n",
       "        [15],\n",
       "        [19],\n",
       "        [23]]),\n",
       " array([[ 4],\n",
       "        [ 8],\n",
       "        [12],\n",
       "        [16],\n",
       "        [20],\n",
       "        [24]])]"
      ]
     },
     "execution_count": 15,
     "metadata": {},
     "output_type": "execute_result"
    }
   ],
   "source": [
    "#split with columns\n",
    "np.split(split_array, 4, axis=1)"
   ]
  },
  {
   "cell_type": "markdown",
   "id": "1320dad1",
   "metadata": {},
   "source": [
    "# Trignometry sin(), cos(), tan()"
   ]
  },
  {
   "cell_type": "code",
   "execution_count": 2,
   "id": "26b2f221",
   "metadata": {},
   "outputs": [],
   "source": [
    "import matplotlib.pyplot as plt"
   ]
  },
  {
   "cell_type": "code",
   "execution_count": 3,
   "id": "9564324a",
   "metadata": {},
   "outputs": [
    {
     "data": {
      "text/plain": [
       "-0.8011526357338304"
      ]
     },
     "execution_count": 3,
     "metadata": {},
     "output_type": "execute_result"
    }
   ],
   "source": [
    "np.sin(180) #in degree|"
   ]
  },
  {
   "cell_type": "code",
   "execution_count": 4,
   "id": "dce23245",
   "metadata": {},
   "outputs": [
    {
     "data": {
      "text/plain": [
       "1.2246467991473532e-16"
      ]
     },
     "execution_count": 4,
     "metadata": {},
     "output_type": "execute_result"
    }
   ],
   "source": [
    "np.sin(180 *np.pi/180) #radian"
   ]
  },
  {
   "cell_type": "code",
   "execution_count": 5,
   "id": "42eb95f1",
   "metadata": {},
   "outputs": [
    {
     "data": {
      "text/plain": [
       "0.8939966636005579"
      ]
     },
     "execution_count": 5,
     "metadata": {},
     "output_type": "execute_result"
    }
   ],
   "source": [
    "np.sin(90)"
   ]
  },
  {
   "cell_type": "code",
   "execution_count": 6,
   "id": "b66a0b1d",
   "metadata": {},
   "outputs": [
    {
     "data": {
      "text/plain": [
       "1.3386902103511544"
      ]
     },
     "execution_count": 6,
     "metadata": {},
     "output_type": "execute_result"
    }
   ],
   "source": [
    "np.tan(180)"
   ]
  },
  {
   "cell_type": "code",
   "execution_count": 7,
   "id": "2e6c83fe",
   "metadata": {},
   "outputs": [
    {
     "data": {
      "text/plain": [
       "-3.380140413960958"
      ]
     },
     "execution_count": 7,
     "metadata": {},
     "output_type": "execute_result"
    }
   ],
   "source": [
    "np.tan(360)"
   ]
  },
  {
   "cell_type": "code",
   "execution_count": 8,
   "id": "79bddf65",
   "metadata": {},
   "outputs": [
    {
     "data": {
      "text/plain": [
       "-0.5984600690578581"
      ]
     },
     "execution_count": 8,
     "metadata": {},
     "output_type": "execute_result"
    }
   ],
   "source": [
    "np.cos(180)"
   ]
  },
  {
   "cell_type": "code",
   "execution_count": 11,
   "id": "7cfef412",
   "metadata": {},
   "outputs": [
    {
     "data": {
      "text/plain": [
       "array([0. , 0.2, 0.4, 0.6, 0.8, 1. , 1.2, 1.4, 1.6, 1.8, 2. , 2.2, 2.4,\n",
       "       2.6, 2.8])"
      ]
     },
     "execution_count": 11,
     "metadata": {},
     "output_type": "execute_result"
    }
   ],
   "source": [
    "#visulizations\n",
    "x_sin = np.arange(0,3,0.20)\n",
    "x_sin"
   ]
  },
  {
   "cell_type": "code",
   "execution_count": 12,
   "id": "6cdc12ee",
   "metadata": {},
   "outputs": [
    {
     "data": {
      "text/plain": [
       "array([0.        , 0.19866933, 0.38941834, 0.56464247, 0.71735609,\n",
       "       0.84147098, 0.93203909, 0.98544973, 0.9995736 , 0.97384763,\n",
       "       0.90929743, 0.8084964 , 0.67546318, 0.51550137, 0.33498815])"
      ]
     },
     "execution_count": 12,
     "metadata": {},
     "output_type": "execute_result"
    }
   ],
   "source": [
    "y_sin = np.sin(x_sin)\n",
    "y_sin"
   ]
  },
  {
   "cell_type": "code",
   "execution_count": 15,
   "id": "af1a266d",
   "metadata": {},
   "outputs": [
    {
     "data": {
      "image/png": "[encoded data removed]",
      "text/plain": [
       "<Figure size 432x288 with 1 Axes>"
      ]
     },
     "metadata": {
      "needs_background": "light"
     },
     "output_type": "display_data"
    }
   ],
   "source": [
    "plt.scatter(x_sin,y_sin);\n",
    "plt.xlabel(\"X_sin() Value\")\n",
    "plt.ylabel(\"Y_sin() value\")\n",
    "plt.title(\"Sin() Graph\", fontsize=20)\n",
    "plt.show()"
   ]
  },
  {
   "cell_type": "markdown",
   "id": "43cd9726",
   "metadata": {},
   "source": [
    "# Random Sampling"
   ]
  },
  {
   "cell_type": "code",
   "execution_count": 27,
   "id": "5cdb7c7a",
   "metadata": {},
   "outputs": [],
   "source": [
    "import random\n",
    "import numpy as np"
   ]
  },
  {
   "cell_type": "code",
   "execution_count": 32,
   "id": "50bc3ae3",
   "metadata": {},
   "outputs": [
    {
     "data": {
      "text/plain": [
       "array([0.76231288, 0.47675375, 0.97718481, 0.71471979, 0.96880755,\n",
       "       0.06683994, 0.36218683, 0.51358827, 0.16715785, 0.03751693])"
      ]
     },
     "execution_count": 32,
     "metadata": {},
     "output_type": "execute_result"
    }
   ],
   "source": [
    "np.random.random(10)"
   ]
  },
  {
   "cell_type": "code",
   "execution_count": 35,
   "id": "fe3ab9ca",
   "metadata": {},
   "outputs": [
    {
     "data": {
      "text/plain": [
       "array([[[0.05753892, 0.37459924, 0.81319044],\n",
       "        [0.28365171, 0.14902692, 0.93222117],\n",
       "        [0.64616756, 0.97787968, 0.60885808]],\n",
       "\n",
       "       [[0.0331898 , 0.88268031, 0.64783831],\n",
       "        [0.03284194, 0.19170114, 0.61681156],\n",
       "        [0.28972863, 0.74450261, 0.24768527]],\n",
       "\n",
       "       [[0.43980842, 0.82096173, 0.79097113],\n",
       "        [0.01832775, 0.30133713, 0.27128245],\n",
       "        [0.07606111, 0.30454897, 0.5528486 ]]])"
      ]
     },
     "execution_count": 35,
     "metadata": {},
     "output_type": "execute_result"
    }
   ],
   "source": [
    "#in array\n",
    "np.random.random((3,3,3))"
   ]
  },
  {
   "cell_type": "code",
   "execution_count": 44,
   "id": "db5000e7",
   "metadata": {},
   "outputs": [
    {
     "data": {
      "text/plain": [
       "1"
      ]
     },
     "execution_count": 44,
     "metadata": {},
     "output_type": "execute_result"
    }
   ],
   "source": [
    "# randint\n",
    "\n",
    "#in int\n",
    "np.random.randint(3)"
   ]
  },
  {
   "cell_type": "code",
   "execution_count": 47,
   "id": "2d97244b",
   "metadata": {},
   "outputs": [
    {
     "data": {
      "text/plain": [
       "array([2, 2, 1, 1, 2, 2, 2, 1, 2, 2, 1, 2, 2, 2, 1, 1, 2, 1, 1, 1])"
      ]
     },
     "execution_count": 47,
     "metadata": {},
     "output_type": "execute_result"
    }
   ],
   "source": [
    "np.random.randint(1,3,20)"
   ]
  },
  {
   "cell_type": "code",
   "execution_count": 50,
   "id": "986118c6",
   "metadata": {},
   "outputs": [
    {
     "data": {
      "text/plain": [
       "array([[9, 6, 7, 8],\n",
       "       [2, 7, 4, 3],\n",
       "       [5, 4, 8, 1],\n",
       "       [4, 9, 2, 1],\n",
       "       [2, 7, 1, 7]])"
      ]
     },
     "execution_count": 50,
     "metadata": {},
     "output_type": "execute_result"
    }
   ],
   "source": [
    "#in shape\n",
    "np.random.randint(1,10,(5,4))"
   ]
  },
  {
   "cell_type": "code",
   "execution_count": 51,
   "id": "5e00557c",
   "metadata": {},
   "outputs": [
    {
     "data": {
      "text/plain": [
       "array([[[2, 2, 2, 2],\n",
       "        [1, 1, 2, 2],\n",
       "        [1, 2, 1, 1],\n",
       "        [1, 1, 2, 2],\n",
       "        [1, 1, 2, 1]],\n",
       "\n",
       "       [[1, 2, 2, 1],\n",
       "        [2, 1, 2, 2],\n",
       "        [2, 2, 1, 2],\n",
       "        [2, 2, 1, 2],\n",
       "        [1, 1, 1, 2]]])"
      ]
     },
     "execution_count": 51,
     "metadata": {},
     "output_type": "execute_result"
    }
   ],
   "source": [
    "#in 3D shape \n",
    "np.random.randint(1,3,(2,5,4))"
   ]
  },
  {
   "cell_type": "code",
   "execution_count": 59,
   "id": "151df448",
   "metadata": {},
   "outputs": [
    {
     "data": {
      "text/plain": [
       "array([[6, 7, 9, 7],\n",
       "       [2, 7, 5, 9],\n",
       "       [2, 9, 6, 2],\n",
       "       [1, 9, 9, 9],\n",
       "       [3, 7, 9, 2]])"
      ]
     },
     "execution_count": 59,
     "metadata": {},
     "output_type": "execute_result"
    }
   ],
   "source": [
    "# seed\n",
    "\n",
    "#in 3D shape..using seed function for does not change values of matrix \n",
    "np.random.seed(9)\n",
    "np.random.randint(1,10,(5,4))"
   ]
  },
  {
   "cell_type": "code",
   "execution_count": 60,
   "id": "68f2ab47",
   "metadata": {},
   "outputs": [
    {
     "data": {
      "text/plain": [
       "array([[2, 2, 1, 2],\n",
       "       [1, 2, 2, 1],\n",
       "       [2, 2, 1, 2],\n",
       "       [2, 1, 1, 2],\n",
       "       [1, 1, 1, 1]])"
      ]
     },
     "execution_count": 60,
     "metadata": {},
     "output_type": "execute_result"
    }
   ],
   "source": [
    "#in 3D shape..using seed function for does not change values of matrix \n",
    "np.random.seed(10)\n",
    "np.random.randint(1,3,(5,4))"
   ]
  },
  {
   "cell_type": "code",
   "execution_count": 62,
   "id": "12c4dc84",
   "metadata": {},
   "outputs": [
    {
     "data": {
      "text/plain": [
       "array([0.51219226, 0.81262096, 0.61252607])"
      ]
     },
     "execution_count": 62,
     "metadata": {},
     "output_type": "execute_result"
    }
   ],
   "source": [
    "# rand\n",
    "\n",
    "np.random.rand(3)"
   ]
  },
  {
   "cell_type": "code",
   "execution_count": 63,
   "id": "6aac77b1",
   "metadata": {},
   "outputs": [
    {
     "data": {
      "text/plain": [
       "array([[0.72175532, 0.29187607, 0.91777412],\n",
       "       [0.71457578, 0.54254437, 0.14217005],\n",
       "       [0.37334076, 0.67413362, 0.44183317]])"
      ]
     },
     "execution_count": 63,
     "metadata": {},
     "output_type": "execute_result"
    }
   ],
   "source": [
    "np.random.rand(3,3)"
   ]
  },
  {
   "cell_type": "code",
   "execution_count": 64,
   "id": "793949ac",
   "metadata": {},
   "outputs": [
    {
     "data": {
      "text/plain": [
       "array([[[0.43401399, 0.61776698, 0.51313824],\n",
       "        [0.65039718, 0.60103895, 0.8052232 ],\n",
       "        [0.52164715, 0.90864888, 0.31923609]],\n",
       "\n",
       "       [[0.09045935, 0.30070006, 0.11398436],\n",
       "        [0.82868133, 0.04689632, 0.62628715],\n",
       "        [0.54758616, 0.819287  , 0.19894754]]])"
      ]
     },
     "execution_count": 64,
     "metadata": {},
     "output_type": "execute_result"
    }
   ],
   "source": [
    "np.random.rand(2,3,3)"
   ]
  },
  {
   "cell_type": "code",
   "execution_count": 69,
   "id": "69f965c8",
   "metadata": {},
   "outputs": [
    {
     "data": {
      "text/plain": [
       "array([[-0.99504103,  2.62115252, -0.34088642],\n",
       "       [-0.16209416,  0.43295951, -0.00449346],\n",
       "       [-1.86472139, -0.60772586,  2.61912518]])"
      ]
     },
     "execution_count": 69,
     "metadata": {},
     "output_type": "execute_result"
    }
   ],
   "source": [
    "np.random.randn(3,3)"
   ]
  },
  {
   "cell_type": "markdown",
   "id": "618787f0",
   "metadata": {},
   "source": [
    "# String operation, Comparison and Information"
   ]
  },
  {
   "cell_type": "code",
   "execution_count": 70,
   "id": "a44b6d7d",
   "metadata": {},
   "outputs": [],
   "source": [
    "str1 = \"I am a python developer\"\n",
    "str2 = \" I learn new Technology\""
   ]
  },
  {
   "cell_type": "code",
   "execution_count": 72,
   "id": "3237c3a9",
   "metadata": {},
   "outputs": [
    {
     "data": {
      "text/plain": [
       "array('I am a python developer I learn new Technology', dtype='<U46')"
      ]
     },
     "execution_count": 72,
     "metadata": {},
     "output_type": "execute_result"
    }
   ],
   "source": [
    "# char.add()\n",
    "\n",
    "np.char.add(str1,str2)"
   ]
  },
  {
   "cell_type": "code",
   "execution_count": 73,
   "id": "c2a09a99",
   "metadata": {},
   "outputs": [
    {
     "data": {
      "text/plain": [
       "array('I am a python developerI am a python developerI am a python developerI am a python developerI am a python developer',\n",
       "      dtype='<U115')"
      ]
     },
     "execution_count": 73,
     "metadata": {},
     "output_type": "execute_result"
    }
   ],
   "source": [
    "np.char.multiply(str1,5)"
   ]
  },
  {
   "cell_type": "code",
   "execution_count": 74,
   "id": "8ba6ad6e",
   "metadata": {},
   "outputs": [
    {
     "data": {
      "text/plain": [
       "array('i am a python developer', dtype='<U23')"
      ]
     },
     "execution_count": 74,
     "metadata": {},
     "output_type": "execute_result"
    }
   ],
   "source": [
    "# char.lower()\n",
    "\n",
    "\n",
    "np.char.lower(str1)"
   ]
  },
  {
   "cell_type": "code",
   "execution_count": 75,
   "id": "eb38c324",
   "metadata": {},
   "outputs": [
    {
     "data": {
      "text/plain": [
       "array('I AM A PYTHON DEVELOPER', dtype='<U23')"
      ]
     },
     "execution_count": 75,
     "metadata": {},
     "output_type": "execute_result"
    }
   ],
   "source": [
    "np.char.upper(str1)"
   ]
  },
  {
   "cell_type": "code",
   "execution_count": 76,
   "id": "e7bf7c81",
   "metadata": {},
   "outputs": [
    {
     "data": {
      "text/plain": [
       "array('             I am a python developer              ', dtype='<U50')"
      ]
     },
     "execution_count": 76,
     "metadata": {},
     "output_type": "execute_result"
    }
   ],
   "source": [
    "# char.center()\n",
    "\n",
    "np.char.center(str1, 50)"
   ]
  },
  {
   "cell_type": "code",
   "execution_count": 77,
   "id": "c991a56d",
   "metadata": {},
   "outputs": [
    {
     "data": {
      "text/plain": [
       "array('###I am a python developer####', dtype='<U30')"
      ]
     },
     "execution_count": 77,
     "metadata": {},
     "output_type": "execute_result"
    }
   ],
   "source": [
    "np.char.center(str1, 30, fillchar=\"#\")"
   ]
  },
  {
   "cell_type": "code",
   "execution_count": 79,
   "id": "b5b714df",
   "metadata": {},
   "outputs": [
    {
     "data": {
      "text/plain": [
       "array(list(['I ', 'm ', ' python developer']), dtype=object)"
      ]
     },
     "execution_count": 79,
     "metadata": {},
     "output_type": "execute_result"
    }
   ],
   "source": [
    "# char.split()\n",
    "\n",
    "\n",
    "np.char.split(str1,'a')"
   ]
  },
  {
   "cell_type": "code",
   "execution_count": 80,
   "id": "1c3da540",
   "metadata": {},
   "outputs": [
    {
     "data": {
      "text/plain": [
       "array(list(['hello', 'world']), dtype=object)"
      ]
     },
     "execution_count": 80,
     "metadata": {},
     "output_type": "execute_result"
    }
   ],
   "source": [
    "np.char.splitlines(\"hello\\nworld\")"
   ]
  },
  {
   "cell_type": "code",
   "execution_count": 81,
   "id": "4e7daa95",
   "metadata": {},
   "outputs": [
    {
     "data": {
      "text/plain": [
       "array(['D:M:Y', 'd/m/y', 'D-m-Y'], dtype='<U5')"
      ]
     },
     "execution_count": 81,
     "metadata": {},
     "output_type": "execute_result"
    }
   ],
   "source": [
    "# char.join()\n",
    "\n",
    "\n",
    "st1 = 'DMY'\n",
    "st2='dmy'\n",
    "st3 = 'DmY'\n",
    "np.char.join([\":\",\"/\",\"-\"], [st1,st2,st3])"
   ]
  },
  {
   "cell_type": "code",
   "execution_count": 82,
   "id": "e61b6712",
   "metadata": {},
   "outputs": [
    {
     "data": {
      "text/plain": [
       "'I am a python developer'"
      ]
     },
     "execution_count": 82,
     "metadata": {},
     "output_type": "execute_result"
    }
   ],
   "source": [
    "#  char.replace()\n",
    "\n",
    "\n",
    "str1"
   ]
  },
  {
   "cell_type": "code",
   "execution_count": 83,
   "id": "777bb419",
   "metadata": {},
   "outputs": [
    {
     "data": {
      "text/plain": [
       "array('I Am A python developer', dtype='<U23')"
      ]
     },
     "execution_count": 83,
     "metadata": {},
     "output_type": "execute_result"
    }
   ],
   "source": [
    "np.char.replace(str1, \"a\", \"A\")"
   ]
  },
  {
   "cell_type": "code",
   "execution_count": 85,
   "id": "86fb30a9",
   "metadata": {},
   "outputs": [],
   "source": [
    "# char.equal()\n",
    "\n",
    "st1=st2=st3='DMY'\n",
    "st4 = 'hello'"
   ]
  },
  {
   "cell_type": "code",
   "execution_count": 87,
   "id": "244dfd94",
   "metadata": {},
   "outputs": [
    {
     "data": {
      "text/plain": [
       "array(False)"
      ]
     },
     "execution_count": 87,
     "metadata": {},
     "output_type": "execute_result"
    }
   ],
   "source": [
    "np.char.equal(st1,st4)"
   ]
  },
  {
   "cell_type": "code",
   "execution_count": 88,
   "id": "38465ef4",
   "metadata": {},
   "outputs": [
    {
     "data": {
      "text/plain": [
       "array(2)"
      ]
     },
     "execution_count": 88,
     "metadata": {},
     "output_type": "execute_result"
    }
   ],
   "source": [
    "# char.count()\n",
    "\n",
    "np.char.count(str1, \"a\")"
   ]
  },
  {
   "cell_type": "code",
   "execution_count": 89,
   "id": "6adc529b",
   "metadata": {},
   "outputs": [
    {
     "data": {
      "text/plain": [
       "array(11)"
      ]
     },
     "execution_count": 89,
     "metadata": {},
     "output_type": "execute_result"
    }
   ],
   "source": [
    "# char.find()\n",
    "\n",
    "np.char.find(str1, \"o\")"
   ]
  },
  {
   "cell_type": "code",
   "execution_count": 92,
   "id": "44a3b510",
   "metadata": {},
   "outputs": [
    {
     "data": {
      "text/plain": [
       "array(11)"
      ]
     },
     "execution_count": 92,
     "metadata": {},
     "output_type": "execute_result"
    }
   ],
   "source": [
    "np.char.index(str1,'o')"
   ]
  },
  {
   "cell_type": "markdown",
   "id": "2ca355af",
   "metadata": {},
   "source": [
    "# BroadCasting"
   ]
  },
  {
   "cell_type": "code",
   "execution_count": 3,
   "id": "89925f3d",
   "metadata": {},
   "outputs": [],
   "source": [
    "a = np.array([0, 1, 2])\n",
    "b = np.array([5, 5, 5])"
   ]
  },
  {
   "cell_type": "code",
   "execution_count": 4,
   "id": "a06f1537",
   "metadata": {},
   "outputs": [
    {
     "data": {
      "text/plain": [
       "array([5, 6, 7])"
      ]
     },
     "execution_count": 4,
     "metadata": {},
     "output_type": "execute_result"
    }
   ],
   "source": [
    "a+b"
   ]
  },
  {
   "cell_type": "code",
   "execution_count": 5,
   "id": "2738a918",
   "metadata": {},
   "outputs": [
    {
     "data": {
      "text/plain": [
       "8"
      ]
     },
     "execution_count": 5,
     "metadata": {},
     "output_type": "execute_result"
    }
   ],
   "source": [
    "a[2]+6"
   ]
  },
  {
   "cell_type": "code",
   "execution_count": 6,
   "id": "d678ae00",
   "metadata": {},
   "outputs": [
    {
     "data": {
      "text/plain": [
       "array([[1., 1., 1.],\n",
       "       [1., 1., 1.],\n",
       "       [1., 1., 1.]])"
      ]
     },
     "execution_count": 6,
     "metadata": {},
     "output_type": "execute_result"
    }
   ],
   "source": [
    "c = np.ones((3,3))\n",
    "c"
   ]
  },
  {
   "cell_type": "code",
   "execution_count": 7,
   "id": "476bf6f8",
   "metadata": {},
   "outputs": [
    {
     "data": {
      "text/plain": [
       "array([0, 1, 2])"
      ]
     },
     "execution_count": 7,
     "metadata": {},
     "output_type": "execute_result"
    }
   ],
   "source": [
    "a"
   ]
  },
  {
   "cell_type": "code",
   "execution_count": 8,
   "id": "827f2691",
   "metadata": {},
   "outputs": [
    {
     "data": {
      "text/plain": [
       "(1, 2)"
      ]
     },
     "execution_count": 8,
     "metadata": {},
     "output_type": "execute_result"
    }
   ],
   "source": [
    "a.ndim, c.ndim"
   ]
  },
  {
   "cell_type": "code",
   "execution_count": 9,
   "id": "2e37f44f",
   "metadata": {},
   "outputs": [
    {
     "data": {
      "text/plain": [
       "((3,), (3, 3))"
      ]
     },
     "execution_count": 9,
     "metadata": {},
     "output_type": "execute_result"
    }
   ],
   "source": [
    "a.shape, c.shape"
   ]
  },
  {
   "cell_type": "code",
   "execution_count": 10,
   "id": "53f9a4a3",
   "metadata": {},
   "outputs": [
    {
     "data": {
      "text/plain": [
       "array([[1., 2., 3.],\n",
       "       [1., 2., 3.],\n",
       "       [1., 2., 3.]])"
      ]
     },
     "execution_count": 10,
     "metadata": {},
     "output_type": "execute_result"
    }
   ],
   "source": [
    "a+c"
   ]
  },
  {
   "cell_type": "code",
   "execution_count": 14,
   "id": "4221c869",
   "metadata": {},
   "outputs": [
    {
     "data": {
      "text/plain": [
       "array([[1., 1., 1.],\n",
       "       [1., 1., 1.]])"
      ]
     },
     "execution_count": 14,
     "metadata": {},
     "output_type": "execute_result"
    }
   ],
   "source": [
    "#columns shape not same\n",
    "d= np.ones((3,2))\n",
    "d.T"
   ]
  },
  {
   "cell_type": "code",
   "execution_count": 12,
   "id": "93baff56",
   "metadata": {},
   "outputs": [
    {
     "data": {
      "text/plain": [
       "array([0, 1, 2])"
      ]
     },
     "execution_count": 12,
     "metadata": {},
     "output_type": "execute_result"
    }
   ],
   "source": [
    "a"
   ]
  },
  {
   "cell_type": "code",
   "execution_count": 15,
   "id": "07e7acb1",
   "metadata": {},
   "outputs": [
    {
     "data": {
      "text/plain": [
       "array([[1., 2., 3.],\n",
       "       [1., 2., 3.]])"
      ]
     },
     "execution_count": 15,
     "metadata": {},
     "output_type": "execute_result"
    }
   ],
   "source": [
    "a+d.T"
   ]
  },
  {
   "cell_type": "code",
   "execution_count": 97,
   "id": "4cd7d2f0",
   "metadata": {},
   "outputs": [
    {
     "data": {
      "text/plain": [
       "array([[1., 2., 3.],\n",
       "       [1., 2., 3.]])"
      ]
     },
     "execution_count": 97,
     "metadata": {},
     "output_type": "execute_result"
    }
   ],
   "source": [
    "a+d.T"
   ]
  },
  {
   "cell_type": "code",
   "execution_count": 16,
   "id": "ad072572",
   "metadata": {},
   "outputs": [
    {
     "data": {
      "text/plain": [
       "array([[1., 1., 1.],\n",
       "       [1., 1., 1.]])"
      ]
     },
     "execution_count": 16,
     "metadata": {},
     "output_type": "execute_result"
    }
   ],
   "source": [
    "#columns shape same \n",
    "d= np.ones((2,3))\n",
    "d"
   ]
  },
  {
   "cell_type": "code",
   "execution_count": 27,
   "id": "d0ac1b20",
   "metadata": {},
   "outputs": [],
   "source": [
    "#Broadcasting with 2d"
   ]
  },
  {
   "cell_type": "code",
   "execution_count": 17,
   "id": "e9f1eb35",
   "metadata": {},
   "outputs": [
    {
     "data": {
      "text/plain": [
       "array([[1., 1., 1.],\n",
       "       [1., 1., 1.],\n",
       "       [1., 1., 1.]])"
      ]
     },
     "execution_count": 17,
     "metadata": {},
     "output_type": "execute_result"
    }
   ],
   "source": [
    "c"
   ]
  },
  {
   "cell_type": "code",
   "execution_count": 18,
   "id": "262467d1",
   "metadata": {},
   "outputs": [
    {
     "data": {
      "text/plain": [
       "array([[1., 1., 1.],\n",
       "       [1., 1., 1.]])"
      ]
     },
     "execution_count": 18,
     "metadata": {},
     "output_type": "execute_result"
    }
   ],
   "source": [
    "d"
   ]
  },
  {
   "cell_type": "code",
   "execution_count": 19,
   "id": "5d12c12f",
   "metadata": {},
   "outputs": [
    {
     "ename": "ValueError",
     "evalue": "operands could not be broadcast together with shapes (3,3) (2,3) ",
     "output_type": "error",
     "traceback": [
      "\u001b[1;31m---------------------------------------------------------------------------\u001b[0m",
      "\u001b[1;31mValueError\u001b[0m                                Traceback (most recent call last)",
      "Input \u001b[1;32mIn [19]\u001b[0m, in \u001b[0;36m<cell line: 1>\u001b[1;34m()\u001b[0m\n\u001b[1;32m----> 1\u001b[0m \u001b[43mc\u001b[49m\u001b[38;5;241;43m+\u001b[39;49m\u001b[43md\u001b[49m\n",
      "\u001b[1;31mValueError\u001b[0m: operands could not be broadcast together with shapes (3,3) (2,3) "
     ]
    }
   ],
   "source": [
    "c+d"
   ]
  },
  {
   "cell_type": "code",
   "execution_count": 20,
   "id": "6c8f78be",
   "metadata": {},
   "outputs": [
    {
     "data": {
      "text/plain": [
       "(2, 2)"
      ]
     },
     "execution_count": 20,
     "metadata": {},
     "output_type": "execute_result"
    }
   ],
   "source": [
    "c.ndim, d.ndim"
   ]
  },
  {
   "cell_type": "code",
   "execution_count": 21,
   "id": "4b1df02d",
   "metadata": {},
   "outputs": [
    {
     "data": {
      "text/plain": [
       "((3, 3), (2, 3))"
      ]
     },
     "execution_count": 21,
     "metadata": {},
     "output_type": "execute_result"
    }
   ],
   "source": [
    "c.shape, d.shape"
   ]
  },
  {
   "cell_type": "code",
   "execution_count": 22,
   "id": "b114d9e3",
   "metadata": {},
   "outputs": [
    {
     "data": {
      "text/plain": [
       "array([[1., 1., 1.],\n",
       "       [1., 1., 1.],\n",
       "       [1., 1., 1.]])"
      ]
     },
     "execution_count": 22,
     "metadata": {},
     "output_type": "execute_result"
    }
   ],
   "source": [
    "c"
   ]
  },
  {
   "cell_type": "code",
   "execution_count": 23,
   "id": "711cf8d7",
   "metadata": {},
   "outputs": [
    {
     "data": {
      "text/plain": [
       "array([[1., 1.],\n",
       "       [1., 1.],\n",
       "       [1., 1.]])"
      ]
     },
     "execution_count": 23,
     "metadata": {},
     "output_type": "execute_result"
    }
   ],
   "source": [
    "#transpose in 3,2\n",
    "d.T"
   ]
  },
  {
   "cell_type": "code",
   "execution_count": 24,
   "id": "c0361dda",
   "metadata": {},
   "outputs": [
    {
     "ename": "ValueError",
     "evalue": "operands could not be broadcast together with shapes (3,3) (3,2) ",
     "output_type": "error",
     "traceback": [
      "\u001b[1;31m---------------------------------------------------------------------------\u001b[0m",
      "\u001b[1;31mValueError\u001b[0m                                Traceback (most recent call last)",
      "Input \u001b[1;32mIn [24]\u001b[0m, in \u001b[0;36m<cell line: 1>\u001b[1;34m()\u001b[0m\n\u001b[1;32m----> 1\u001b[0m \u001b[43mc\u001b[49m\u001b[38;5;241;43m+\u001b[39;49m\u001b[43m(\u001b[49m\u001b[43md\u001b[49m\u001b[38;5;241;43m.\u001b[39;49m\u001b[43mT\u001b[49m\u001b[43m)\u001b[49m\n",
      "\u001b[1;31mValueError\u001b[0m: operands could not be broadcast together with shapes (3,3) (3,2) "
     ]
    }
   ],
   "source": [
    "c+(d.T)"
   ]
  },
  {
   "cell_type": "code",
   "execution_count": 25,
   "id": "24a2ca77",
   "metadata": {},
   "outputs": [
    {
     "data": {
      "text/plain": [
       "array([[1., 1., 1.],\n",
       "       [1., 1., 1.],\n",
       "       [1., 1., 1.]])"
      ]
     },
     "execution_count": 25,
     "metadata": {},
     "output_type": "execute_result"
    }
   ],
   "source": [
    "#shape same\n",
    "e = np.ones((3,3))\n",
    "e"
   ]
  },
  {
   "cell_type": "code",
   "execution_count": 26,
   "id": "b6198694",
   "metadata": {},
   "outputs": [
    {
     "data": {
      "text/plain": [
       "array([[1., 1., 1.],\n",
       "       [1., 1., 1.],\n",
       "       [1., 1., 1.]])"
      ]
     },
     "execution_count": 26,
     "metadata": {},
     "output_type": "execute_result"
    }
   ],
   "source": [
    "c"
   ]
  },
  {
   "cell_type": "code",
   "execution_count": 27,
   "id": "6dc24fa5",
   "metadata": {},
   "outputs": [
    {
     "data": {
      "text/plain": [
       "array([[2., 2., 2.],\n",
       "       [2., 2., 2.],\n",
       "       [2., 2., 2.]])"
      ]
     },
     "execution_count": 27,
     "metadata": {},
     "output_type": "execute_result"
    }
   ],
   "source": [
    "c+e"
   ]
  },
  {
   "cell_type": "code",
   "execution_count": 28,
   "id": "8f0962a7",
   "metadata": {},
   "outputs": [
    {
     "data": {
      "text/plain": [
       "array([[[1, 2],\n",
       "        [3, 4]],\n",
       "\n",
       "       [[5, 6],\n",
       "        [7, 8]]])"
      ]
     },
     "execution_count": 28,
     "metadata": {},
     "output_type": "execute_result"
    }
   ],
   "source": [
    "#BC in 3D : 1d + 3d\n",
    "d3 = np.arange(1,9).reshape(2,2,2)\n",
    "d3"
   ]
  },
  {
   "cell_type": "code",
   "execution_count": 30,
   "id": "4977a1ca",
   "metadata": {},
   "outputs": [
    {
     "data": {
      "text/plain": [
       "array([10, 20])"
      ]
     },
     "execution_count": 30,
     "metadata": {},
     "output_type": "execute_result"
    }
   ],
   "source": [
    "d1 = np.array([10,20])\n",
    "d1"
   ]
  },
  {
   "cell_type": "code",
   "execution_count": 31,
   "id": "3af95b2a",
   "metadata": {},
   "outputs": [
    {
     "data": {
      "text/plain": [
       "array([[[11, 22],\n",
       "        [13, 24]],\n",
       "\n",
       "       [[15, 26],\n",
       "        [17, 28]]])"
      ]
     },
     "execution_count": 31,
     "metadata": {},
     "output_type": "execute_result"
    }
   ],
   "source": [
    "d3+d1"
   ]
  },
  {
   "cell_type": "code",
   "execution_count": 32,
   "id": "ebebafff",
   "metadata": {},
   "outputs": [
    {
     "data": {
      "text/plain": [
       "array([[1, 2],\n",
       "       [3, 4]])"
      ]
     },
     "execution_count": 32,
     "metadata": {},
     "output_type": "execute_result"
    }
   ],
   "source": [
    "#BC 2d + 3d\n",
    "d2 = np.arange(1,5).reshape(2,2)\n",
    "d2"
   ]
  },
  {
   "cell_type": "code",
   "execution_count": 33,
   "id": "081447db",
   "metadata": {},
   "outputs": [
    {
     "data": {
      "text/plain": [
       "array([[[1, 2],\n",
       "        [3, 4]],\n",
       "\n",
       "       [[5, 6],\n",
       "        [7, 8]]])"
      ]
     },
     "execution_count": 33,
     "metadata": {},
     "output_type": "execute_result"
    }
   ],
   "source": [
    "d3"
   ]
  },
  {
   "cell_type": "code",
   "execution_count": 34,
   "id": "3d49a77b",
   "metadata": {},
   "outputs": [
    {
     "data": {
      "text/plain": [
       "array([[[ 2,  4],\n",
       "        [ 6,  8]],\n",
       "\n",
       "       [[ 6,  8],\n",
       "        [10, 12]]])"
      ]
     },
     "execution_count": 34,
     "metadata": {},
     "output_type": "execute_result"
    }
   ],
   "source": [
    "d3+d2"
   ]
  },
  {
   "cell_type": "code",
   "execution_count": 36,
   "id": "84ed3738",
   "metadata": {},
   "outputs": [
    {
     "data": {
      "text/plain": [
       "array([[1],\n",
       "       [2],\n",
       "       [3],\n",
       "       [4]])"
      ]
     },
     "execution_count": 36,
     "metadata": {},
     "output_type": "execute_result"
    }
   ],
   "source": [
    "#shape not same\n",
    "d2 = np.arange(1,5).reshape(4,1)\n",
    "d2"
   ]
  },
  {
   "cell_type": "code",
   "execution_count": 38,
   "id": "bf94be8b",
   "metadata": {},
   "outputs": [
    {
     "ename": "ValueError",
     "evalue": "operands could not be broadcast together with shapes (2,2,2) (4,1) ",
     "output_type": "error",
     "traceback": [
      "\u001b[1;31m---------------------------------------------------------------------------\u001b[0m",
      "\u001b[1;31mValueError\u001b[0m                                Traceback (most recent call last)",
      "Input \u001b[1;32mIn [38]\u001b[0m, in \u001b[0;36m<cell line: 1>\u001b[1;34m()\u001b[0m\n\u001b[1;32m----> 1\u001b[0m \u001b[43md3\u001b[49m\u001b[38;5;241;43m+\u001b[39;49m\u001b[43md2\u001b[49m\n",
      "\u001b[1;31mValueError\u001b[0m: operands could not be broadcast together with shapes (2,2,2) (4,1) "
     ]
    }
   ],
   "source": [
    "d3+d2"
   ]
  },
  {
   "cell_type": "code",
   "execution_count": null,
   "id": "941df6a0",
   "metadata": {},
   "outputs": [],
   "source": []
  }
 ],
 "metadata": {
  "kernelspec": {
   "display_name": "Python 3 (ipykernel)",
   "language": "python",
   "name": "python3"
  },
  "language_info": {
   "codemirror_mode": {
    "name": "ipython",
    "version": 3
   },
   "file_extension": ".py",
   "mimetype": "text/x-python",
   "name": "python",
   "nbconvert_exporter": "python",
   "pygments_lexer": "ipython3",
   "version": "3.10.9"
  }
 },
 "nbformat": 4,
 "nbformat_minor": 5
}
