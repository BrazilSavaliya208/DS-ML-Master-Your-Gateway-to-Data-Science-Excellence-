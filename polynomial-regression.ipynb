{
 "cells": [
  {
   "cell_type": "code",
   "execution_count": null,
   "id": "c479b607",
   "metadata": {},
   "outputs": [],
   "source": []
  },
  {
   "cell_type": "code",
   "execution_count": 1,
   "id": "9281ba2c",
   "metadata": {},
   "outputs": [],
   "source": [
    "import numpy as np\n",
    "import matplotlib.pyplot as plt\n",
    "\n",
    "from sklearn.model_selection import train_test_split\n",
    "\n",
    "from sklearn.linear_model import LinearRegression\n",
    "\n",
    "from sklearn.preprocessing import PolynomialFeatures,StandardScaler\n",
    "\n",
    "from sklearn.metrics import r2_score"
   ]
  },
  {
   "cell_type": "code",
   "execution_count": 2,
   "id": "814d2bf5",
   "metadata": {},
   "outputs": [],
   "source": [
    "X = 6 * np.random.rand(200, 1) - 3\n",
    "y = 0.8 * X**2 + 0.9 * X + 2 + np.random.randn(200, 1)\n",
    "\n",
    "# y = 0.8x^2 + 0.9x + 2"
   ]
  },
  {
   "cell_type": "code",
   "execution_count": 3,
   "id": "692208ce",
   "metadata": {},
   "outputs": [
    {
     "data": {
      "text/plain": [
       "(200, 1)"
      ]
     },
     "execution_count": 3,
     "metadata": {},
     "output_type": "execute_result"
    }
   ],
   "source": [
    "X.shape"
   ]
  },
  {
   "cell_type": "code",
   "execution_count": 4,
   "id": "739147e2",
   "metadata": {},
   "outputs": [
    {
     "data": {
      "text/plain": [
       "(200, 1)"
      ]
     },
     "execution_count": 4,
     "metadata": {},
     "output_type": "execute_result"
    }
   ],
   "source": [
    "y.shape"
   ]
  },
  {
   "cell_type": "code",
   "execution_count": 5,
   "id": "5f8075b7",
   "metadata": {},
   "outputs": [
    {
     "data": {
      "image/png": "[encoded data removed]",
      "text/plain": [
       "<Figure size 432x288 with 1 Axes>"
      ]
     },
     "metadata": {
      "needs_background": "light"
     },
     "output_type": "display_data"
    }
   ],
   "source": [
    "plt.plot(X, y,'b.')\n",
    "plt.xlabel(\"X\")\n",
    "plt.ylabel(\"y\")\n",
    "plt.show()"
   ]
  },
  {
   "cell_type": "code",
   "execution_count": 6,
   "id": "2f4ca3e3",
   "metadata": {},
   "outputs": [],
   "source": [
    "# Train test split\n",
    "X_train,X_test,y_train,y_test = train_test_split(X,y,test_size=0.2,random_state=2)"
   ]
  },
  {
   "cell_type": "code",
   "execution_count": 7,
   "id": "99c8e622",
   "metadata": {},
   "outputs": [
    {
     "data": {
      "text/plain": [
       "array([[-1.87433178],\n",
       "       [ 0.90773189],\n",
       "       [-0.81310347],\n",
       "       [-2.18874619],\n",
       "       [ 2.05850901],\n",
       "       [-2.56854383],\n",
       "       [ 2.99212043],\n",
       "       [-2.58522182],\n",
       "       [-1.24137233],\n",
       "       [ 1.90740808],\n",
       "       [-0.62543551],\n",
       "       [ 1.60728647],\n",
       "       [ 0.54927814],\n",
       "       [ 1.52232031],\n",
       "       [ 1.05497354],\n",
       "       [-2.15797416],\n",
       "       [-0.86024575],\n",
       "       [ 1.27884332],\n",
       "       [ 0.21105418],\n",
       "       [-2.42262039],\n",
       "       [-0.43369708],\n",
       "       [-0.07680283],\n",
       "       [-0.15109155],\n",
       "       [ 2.57754908],\n",
       "       [ 1.18880248],\n",
       "       [-1.05167983],\n",
       "       [-1.46301855],\n",
       "       [-1.70837502],\n",
       "       [ 2.40816567],\n",
       "       [ 2.74919141],\n",
       "       [ 1.20429223],\n",
       "       [-2.72212827],\n",
       "       [-0.59273192],\n",
       "       [ 0.68268483],\n",
       "       [-1.40024334],\n",
       "       [-2.74502195],\n",
       "       [ 0.65770194],\n",
       "       [-2.21107888],\n",
       "       [-0.68764075],\n",
       "       [-2.47443122],\n",
       "       [ 2.61417549],\n",
       "       [ 2.79197325],\n",
       "       [ 1.81032499],\n",
       "       [-1.50987963],\n",
       "       [-2.54266768],\n",
       "       [ 2.21756408],\n",
       "       [-2.86808744],\n",
       "       [ 1.68717513],\n",
       "       [-1.6154475 ],\n",
       "       [-1.22605376],\n",
       "       [-2.5746902 ],\n",
       "       [-1.51218058],\n",
       "       [ 1.13168804],\n",
       "       [-0.05450349],\n",
       "       [ 0.15191312],\n",
       "       [-1.96804921],\n",
       "       [ 2.23583311],\n",
       "       [ 2.95528091],\n",
       "       [ 0.00742147],\n",
       "       [ 1.3456556 ],\n",
       "       [-2.42676064],\n",
       "       [-0.74188753],\n",
       "       [ 0.25115815],\n",
       "       [-0.22487127],\n",
       "       [-1.94615972],\n",
       "       [ 1.5466953 ],\n",
       "       [-0.45485646],\n",
       "       [-0.6270208 ],\n",
       "       [-2.80124736],\n",
       "       [-0.16291191],\n",
       "       [-0.45912001],\n",
       "       [-2.57634944],\n",
       "       [ 0.90288957],\n",
       "       [-1.57622815],\n",
       "       [-2.2132172 ],\n",
       "       [-0.69380569],\n",
       "       [ 2.84661638],\n",
       "       [ 1.47255136],\n",
       "       [-2.95965166],\n",
       "       [ 0.73709234],\n",
       "       [-0.6486814 ],\n",
       "       [ 2.36031476],\n",
       "       [-1.98203279],\n",
       "       [ 2.21484207],\n",
       "       [-1.23431844],\n",
       "       [ 1.20699339],\n",
       "       [-1.57153096],\n",
       "       [ 0.91443715],\n",
       "       [-0.03871073],\n",
       "       [ 0.97055469],\n",
       "       [-2.19357695],\n",
       "       [ 2.69313571],\n",
       "       [ 2.9535326 ],\n",
       "       [-1.20885116],\n",
       "       [ 2.25582723],\n",
       "       [ 2.83909955],\n",
       "       [ 1.59334082],\n",
       "       [ 1.20127071],\n",
       "       [-2.09937918],\n",
       "       [-1.51244858],\n",
       "       [ 0.31783285],\n",
       "       [ 1.19192873],\n",
       "       [-0.07902471],\n",
       "       [ 2.45367529],\n",
       "       [-1.28188811],\n",
       "       [-1.66400196],\n",
       "       [ 2.04856377],\n",
       "       [ 2.7434166 ],\n",
       "       [ 0.97736485],\n",
       "       [ 0.76295491],\n",
       "       [-1.17071179],\n",
       "       [ 1.53429486],\n",
       "       [ 1.20282552],\n",
       "       [ 1.42537981],\n",
       "       [ 1.47634992],\n",
       "       [ 2.64427984],\n",
       "       [ 1.73773731],\n",
       "       [ 2.89361966],\n",
       "       [ 2.50687479],\n",
       "       [ 1.32809255],\n",
       "       [-0.38153529],\n",
       "       [-0.87894056],\n",
       "       [ 2.51460396],\n",
       "       [-2.22924774],\n",
       "       [ 1.77528759],\n",
       "       [ 0.97375187],\n",
       "       [-2.94687711],\n",
       "       [ 0.85523327],\n",
       "       [ 1.67477609],\n",
       "       [ 0.83739348],\n",
       "       [ 1.52582217],\n",
       "       [-1.09025652],\n",
       "       [-0.0551978 ],\n",
       "       [ 2.84695898],\n",
       "       [ 2.79800804],\n",
       "       [ 2.60091476],\n",
       "       [-2.23428774],\n",
       "       [ 2.96495354],\n",
       "       [ 2.30348027],\n",
       "       [ 0.67637227],\n",
       "       [-0.32870309],\n",
       "       [-2.01297466],\n",
       "       [ 1.28385991],\n",
       "       [ 1.03647165],\n",
       "       [-0.97369783],\n",
       "       [ 0.30221751],\n",
       "       [ 2.31250572],\n",
       "       [-2.41569503],\n",
       "       [ 2.42997037],\n",
       "       [ 0.89910899],\n",
       "       [-1.62347597],\n",
       "       [-1.13714376],\n",
       "       [-1.91792099],\n",
       "       [ 1.24257328],\n",
       "       [-0.21063605],\n",
       "       [-2.78787413],\n",
       "       [ 1.39095369],\n",
       "       [ 0.3754334 ],\n",
       "       [-2.79911569],\n",
       "       [ 2.76262   ]])"
      ]
     },
     "execution_count": 7,
     "metadata": {},
     "output_type": "execute_result"
    }
   ],
   "source": [
    "X_train"
   ]
  },
  {
   "cell_type": "code",
   "execution_count": 8,
   "id": "74b0ac4e",
   "metadata": {},
   "outputs": [
    {
     "data": {
      "text/plain": [
       "array([[ 2.5678103 ],\n",
       "       [-0.69497976],\n",
       "       [-0.39734256],\n",
       "       [ 2.31181386],\n",
       "       [-1.28050852],\n",
       "       [ 1.48418541],\n",
       "       [ 2.59478284],\n",
       "       [ 1.50228015],\n",
       "       [ 2.74128412],\n",
       "       [-0.79075817],\n",
       "       [-1.18639375],\n",
       "       [-2.80149256],\n",
       "       [ 0.04422256],\n",
       "       [-0.55608859],\n",
       "       [ 0.89830182],\n",
       "       [-1.45073809],\n",
       "       [-1.45497786],\n",
       "       [ 1.53298724],\n",
       "       [ 1.60826914],\n",
       "       [ 1.42542514],\n",
       "       [-0.59253053],\n",
       "       [ 0.9527261 ],\n",
       "       [ 2.54076315],\n",
       "       [ 0.92271402],\n",
       "       [-0.60199443],\n",
       "       [ 0.89725621],\n",
       "       [ 0.95692518],\n",
       "       [ 1.14383811],\n",
       "       [ 1.16639785],\n",
       "       [ 0.46752722],\n",
       "       [-2.73591083],\n",
       "       [ 1.49141613],\n",
       "       [-1.943083  ],\n",
       "       [-0.01903502],\n",
       "       [-2.92093231],\n",
       "       [ 1.20479068],\n",
       "       [-1.14611678],\n",
       "       [ 2.66256294],\n",
       "       [-0.75114348],\n",
       "       [ 0.81830778]])"
      ]
     },
     "execution_count": 8,
     "metadata": {},
     "output_type": "execute_result"
    }
   ],
   "source": [
    "X_test"
   ]
  },
  {
   "cell_type": "code",
   "execution_count": 9,
   "id": "50744e4d",
   "metadata": {},
   "outputs": [
    {
     "data": {
      "text/plain": [
       "array([[ 4.13400445],\n",
       "       [ 2.38738005],\n",
       "       [ 2.89392667],\n",
       "       [ 4.13982631],\n",
       "       [ 5.7634407 ],\n",
       "       [ 6.02693401],\n",
       "       [11.16448055],\n",
       "       [ 5.14293716],\n",
       "       [ 2.14314121],\n",
       "       [ 7.88746344],\n",
       "       [ 3.55483753],\n",
       "       [ 6.03649274],\n",
       "       [ 3.98340803],\n",
       "       [ 6.44675995],\n",
       "       [ 4.87949679],\n",
       "       [ 4.28401238],\n",
       "       [ 1.17485099],\n",
       "       [ 2.93023975],\n",
       "       [ 0.52975133],\n",
       "       [ 3.68360344],\n",
       "       [ 1.98261714],\n",
       "       [ 1.29058648],\n",
       "       [ 1.87289609],\n",
       "       [ 7.68359133],\n",
       "       [ 5.39587325],\n",
       "       [ 3.12002146],\n",
       "       [ 1.07015768],\n",
       "       [ 2.66266013],\n",
       "       [ 9.85686973],\n",
       "       [ 9.52295667],\n",
       "       [ 5.48385589],\n",
       "       [ 4.7405213 ],\n",
       "       [ 2.06254111],\n",
       "       [ 3.49885554],\n",
       "       [ 1.53044358],\n",
       "       [ 4.35135719],\n",
       "       [ 3.93154275],\n",
       "       [ 5.81096415],\n",
       "       [ 1.19337076],\n",
       "       [ 4.77878827],\n",
       "       [10.09994361],\n",
       "       [10.30388936],\n",
       "       [ 5.20579817],\n",
       "       [ 2.29626824],\n",
       "       [ 5.38656781],\n",
       "       [ 8.1172329 ],\n",
       "       [ 6.1765668 ],\n",
       "       [ 7.52782547],\n",
       "       [ 0.27121217],\n",
       "       [ 2.32506042],\n",
       "       [ 3.54518454],\n",
       "       [ 2.22571767],\n",
       "       [ 2.77718425],\n",
       "       [ 2.65231796],\n",
       "       [ 1.27850717],\n",
       "       [ 3.68099692],\n",
       "       [ 7.65871761],\n",
       "       [11.93086481],\n",
       "       [ 2.79877574],\n",
       "       [ 4.13633892],\n",
       "       [ 3.16128826],\n",
       "       [ 1.4196478 ],\n",
       "       [ 1.22107409],\n",
       "       [ 2.07385297],\n",
       "       [ 3.91346907],\n",
       "       [ 4.53082107],\n",
       "       [ 3.83946188],\n",
       "       [ 1.48524569],\n",
       "       [ 5.56127919],\n",
       "       [ 3.17892803],\n",
       "       [ 0.86444361],\n",
       "       [ 4.3931969 ],\n",
       "       [ 3.09680142],\n",
       "       [ 3.40604102],\n",
       "       [ 3.54733224],\n",
       "       [ 1.50874174],\n",
       "       [13.07466178],\n",
       "       [ 4.37691561],\n",
       "       [ 7.12443749],\n",
       "       [ 2.94073524],\n",
       "       [ 1.04107993],\n",
       "       [ 7.67097355],\n",
       "       [ 2.99361984],\n",
       "       [ 7.9474773 ],\n",
       "       [ 2.70311695],\n",
       "       [ 2.67952998],\n",
       "       [ 2.84262062],\n",
       "       [ 3.05294855],\n",
       "       [ 1.32176799],\n",
       "       [ 3.73962213],\n",
       "       [ 5.18475352],\n",
       "       [ 9.97818822],\n",
       "       [12.42313322],\n",
       "       [ 2.49155245],\n",
       "       [ 9.94406448],\n",
       "       [12.02080411],\n",
       "       [ 5.78292124],\n",
       "       [ 5.32349277],\n",
       "       [ 3.52283966],\n",
       "       [ 1.91072453],\n",
       "       [ 3.32212342],\n",
       "       [ 4.41201412],\n",
       "       [ 1.14754231],\n",
       "       [ 7.08381375],\n",
       "       [ 3.35353409],\n",
       "       [ 3.51188383],\n",
       "       [ 8.78633444],\n",
       "       [10.09806301],\n",
       "       [ 3.92516636],\n",
       "       [ 3.08963262],\n",
       "       [ 1.16260687],\n",
       "       [ 4.44154239],\n",
       "       [ 4.71452836],\n",
       "       [ 5.74624675],\n",
       "       [ 5.41455491],\n",
       "       [10.50156549],\n",
       "       [ 5.06192504],\n",
       "       [11.44689942],\n",
       "       [ 9.41014185],\n",
       "       [ 3.0470337 ],\n",
       "       [ 2.57962896],\n",
       "       [ 1.89652765],\n",
       "       [ 9.08515091],\n",
       "       [ 5.64542007],\n",
       "       [ 4.48208803],\n",
       "       [ 4.47580766],\n",
       "       [ 7.23120784],\n",
       "       [ 3.99649025],\n",
       "       [ 5.72515717],\n",
       "       [ 1.90002389],\n",
       "       [ 4.21962755],\n",
       "       [ 2.0858896 ],\n",
       "       [ 2.00190461],\n",
       "       [10.88449317],\n",
       "       [ 9.18284973],\n",
       "       [10.37293956],\n",
       "       [ 4.31261543],\n",
       "       [12.6901112 ],\n",
       "       [ 8.88684632],\n",
       "       [ 3.14320125],\n",
       "       [ 2.46117861],\n",
       "       [ 3.57745683],\n",
       "       [ 4.2826962 ],\n",
       "       [ 3.51398163],\n",
       "       [ 1.27628095],\n",
       "       [ 2.2103589 ],\n",
       "       [ 6.69373833],\n",
       "       [ 3.34821211],\n",
       "       [10.10619689],\n",
       "       [ 3.44411198],\n",
       "       [ 2.87658781],\n",
       "       [ 1.33269207],\n",
       "       [ 4.67816496],\n",
       "       [ 3.02601459],\n",
       "       [ 0.81069402],\n",
       "       [ 4.65578448],\n",
       "       [ 4.52097376],\n",
       "       [ 3.73687997],\n",
       "       [ 6.20597124],\n",
       "       [10.88679803]])"
      ]
     },
     "execution_count": 9,
     "metadata": {},
     "output_type": "execute_result"
    }
   ],
   "source": [
    "y_train"
   ]
  },
  {
   "cell_type": "code",
   "execution_count": 10,
   "id": "8c8270fb",
   "metadata": {},
   "outputs": [
    {
     "data": {
      "text/plain": [
       "array([[ 9.68922533],\n",
       "       [ 2.44924734],\n",
       "       [ 1.66870671],\n",
       "       [ 9.12159437],\n",
       "       [ 2.20335393],\n",
       "       [ 5.79162506],\n",
       "       [ 9.01007291],\n",
       "       [ 4.94016431],\n",
       "       [11.13303617],\n",
       "       [ 1.19877696],\n",
       "       [ 2.56313831],\n",
       "       [ 5.90301881],\n",
       "       [ 2.87005025],\n",
       "       [ 3.24916897],\n",
       "       [ 5.81826175],\n",
       "       [ 1.73751616],\n",
       "       [ 2.29636021],\n",
       "       [ 7.31435105],\n",
       "       [ 5.10299759],\n",
       "       [ 3.96951602],\n",
       "       [ 0.47118058],\n",
       "       [ 5.05939146],\n",
       "       [10.22839823],\n",
       "       [ 2.62312146],\n",
       "       [ 1.79545203],\n",
       "       [ 4.14773842],\n",
       "       [ 4.142118  ],\n",
       "       [ 2.3190336 ],\n",
       "       [ 2.88462727],\n",
       "       [ 3.50334855],\n",
       "       [ 6.10124239],\n",
       "       [ 3.86743309],\n",
       "       [ 3.81952159],\n",
       "       [ 2.04258211],\n",
       "       [ 5.77444995],\n",
       "       [ 3.95689615],\n",
       "       [ 1.42517885],\n",
       "       [ 9.17395418],\n",
       "       [ 1.15445713],\n",
       "       [ 2.91367268]])"
      ]
     },
     "execution_count": 10,
     "metadata": {},
     "output_type": "execute_result"
    }
   ],
   "source": [
    "\n",
    "y_test"
   ]
  },
  {
   "cell_type": "code",
   "execution_count": null,
   "id": "dd9ea319",
   "metadata": {},
   "outputs": [],
   "source": []
  },
  {
   "cell_type": "code",
   "execution_count": 11,
   "id": "ff5589f2",
   "metadata": {},
   "outputs": [],
   "source": [
    "# Applying linear regression\n",
    "lr = LinearRegression()"
   ]
  },
  {
   "cell_type": "code",
   "execution_count": 12,
   "id": "ea8a3ba9",
   "metadata": {},
   "outputs": [
    {
     "data": {
      "text/plain": [
       "LinearRegression()"
      ]
     },
     "execution_count": 12,
     "metadata": {},
     "output_type": "execute_result"
    }
   ],
   "source": [
    "lr.fit(X_train,y_train)"
   ]
  },
  {
   "cell_type": "code",
   "execution_count": 13,
   "id": "9d7f54c3",
   "metadata": {},
   "outputs": [],
   "source": [
    "y_pred = lr.predict(X_test)\n"
   ]
  },
  {
   "cell_type": "code",
   "execution_count": 14,
   "id": "b1fd3ca6",
   "metadata": {},
   "outputs": [
    {
     "data": {
      "text/plain": [
       "0.2965451287601647"
      ]
     },
     "execution_count": 14,
     "metadata": {},
     "output_type": "execute_result"
    }
   ],
   "source": [
    "r2_score(y_test,y_pred)"
   ]
  },
  {
   "cell_type": "code",
   "execution_count": 15,
   "id": "0f9dfea0",
   "metadata": {},
   "outputs": [
    {
     "data": {
      "image/png": "[encoded data removed]",
      "text/plain": [
       "<Figure size 432x288 with 1 Axes>"
      ]
     },
     "metadata": {
      "needs_background": "light"
     },
     "output_type": "display_data"
    }
   ],
   "source": [
    "plt.plot(X_train,lr.predict(X_train),color='r')\n",
    "plt.plot(X, y, \"b.\")\n",
    "plt.xlabel(\"X\")\n",
    "plt.ylabel(\"y\")\n",
    "plt.show()"
   ]
  },
  {
   "cell_type": "code",
   "execution_count": null,
   "id": "b1479c67",
   "metadata": {},
   "outputs": [],
   "source": []
  },
  {
   "cell_type": "code",
   "execution_count": null,
   "id": "95e83dd2",
   "metadata": {},
   "outputs": [],
   "source": []
  },
  {
   "cell_type": "code",
   "execution_count": 24,
   "id": "e26e8658",
   "metadata": {},
   "outputs": [],
   "source": [
    "poly = PolynomialFeatures(degree=5)\n",
    "\n",
    "X_train_trans = poly.fit_transform(X_train)\n",
    "X_test_trans = poly.transform(X_test)"
   ]
  },
  {
   "cell_type": "code",
   "execution_count": 25,
   "id": "6bfa45e6",
   "metadata": {},
   "outputs": [
    {
     "name": "stdout",
     "output_type": "stream",
     "text": [
      "[-1.87433178]\n",
      "[  1.          -1.87433178   3.51311962  -6.58475174  12.34200944\n",
      " -23.1330205 ]\n"
     ]
    }
   ],
   "source": [
    "print(X_train[0])\n",
    "print(X_train_trans[0])"
   ]
  },
  {
   "cell_type": "code",
   "execution_count": null,
   "id": "8e6d689f",
   "metadata": {},
   "outputs": [],
   "source": []
  },
  {
   "cell_type": "code",
   "execution_count": 28,
   "id": "417aab22",
   "metadata": {},
   "outputs": [
    {
     "data": {
      "text/plain": [
       "LinearRegression()"
      ]
     },
     "execution_count": 28,
     "metadata": {},
     "output_type": "execute_result"
    }
   ],
   "source": [
    "lr = LinearRegression()\n",
    "lr.fit(X_train_trans,y_train)"
   ]
  },
  {
   "cell_type": "code",
   "execution_count": 29,
   "id": "dc15aee2",
   "metadata": {},
   "outputs": [],
   "source": [
    "y_pred = lr.predict(X_test_trans)"
   ]
  },
  {
   "cell_type": "code",
   "execution_count": 30,
   "id": "e5b41d40",
   "metadata": {},
   "outputs": [
    {
     "data": {
      "text/plain": [
       "0.8896182631503091"
      ]
     },
     "execution_count": 30,
     "metadata": {},
     "output_type": "execute_result"
    }
   ],
   "source": [
    "r2_score(y_test,y_pred)"
   ]
  },
  {
   "cell_type": "code",
   "execution_count": 31,
   "id": "207fa356",
   "metadata": {},
   "outputs": [
    {
     "name": "stdout",
     "output_type": "stream",
     "text": [
      "[[ 0.          0.84354069  0.75703192 -0.01153256  0.00487709  0.00271141]]\n",
      "[2.06271686]\n"
     ]
    }
   ],
   "source": [
    "print(lr.coef_)\n",
    "print(lr.intercept_)"
   ]
  },
  {
   "cell_type": "code",
   "execution_count": null,
   "id": "218034dc",
   "metadata": {},
   "outputs": [],
   "source": []
  },
  {
   "cell_type": "code",
   "execution_count": null,
   "id": "6b167006",
   "metadata": {},
   "outputs": [],
   "source": []
  },
  {
   "cell_type": "code",
   "execution_count": 32,
   "id": "3de7f7c2",
   "metadata": {},
   "outputs": [],
   "source": [
    "X_new=np.linspace(-3, 3, 200).reshape(200, 1)\n",
    "X_new_poly = poly.transform(X_new)\n",
    "y_new = lr.predict(X_new_poly)"
   ]
  },
  {
   "cell_type": "code",
   "execution_count": 33,
   "id": "8d460ec1",
   "metadata": {},
   "outputs": [
    {
     "data": {
      "image/png": "[encoded data removed]",
      "text/plain": [
       "<Figure size 432x288 with 1 Axes>"
      ]
     },
     "metadata": {
      "needs_background": "light"
     },
     "output_type": "display_data"
    }
   ],
   "source": [
    "plt.plot(X_new, y_new, \"r-\", linewidth=2, label=\"Predictions\")\n",
    "plt.plot(X_train, y_train, \"b.\",label='Training points')\n",
    "plt.plot(X_test, y_test, \"g.\",label='Testing points')\n",
    "plt.xlabel(\"X\")\n",
    "plt.ylabel(\"y\")\n",
    "plt.legend()\n",
    "plt.show()"
   ]
  },
  {
   "cell_type": "code",
   "execution_count": null,
   "id": "812881f3",
   "metadata": {},
   "outputs": [],
   "source": []
  }
 ],
 "metadata": {
  "kernelspec": {
   "display_name": "Python 3 (ipykernel)",
   "language": "python",
   "name": "python3"
  },
  "language_info": {
   "codemirror_mode": {
    "name": "ipython",
    "version": 3
   },
   "file_extension": ".py",
   "mimetype": "text/x-python",
   "name": "python",
   "nbconvert_exporter": "python",
   "pygments_lexer": "ipython3",
   "version": "3.9.12"
  }
 },
 "nbformat": 4,
 "nbformat_minor": 5
}
