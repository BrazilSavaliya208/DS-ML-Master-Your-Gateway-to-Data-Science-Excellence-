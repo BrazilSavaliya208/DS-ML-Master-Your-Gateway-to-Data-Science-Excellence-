{
 "cells": [
  {
   "cell_type": "code",
   "execution_count": 1,
   "id": "fe593271",
   "metadata": {},
   "outputs": [],
   "source": [
    "import tensorflow as tf\n",
    "from tensorflow.keras import datasets,layers,models\n",
    "import matplotlib.pyplot as plt\n",
    "import numpy as np\n",
    "import keras"
   ]
  },
  {
   "cell_type": "markdown",
   "id": "62a2c6be",
   "metadata": {},
   "source": [
    "## Load Data"
   ]
  },
  {
   "cell_type": "code",
   "execution_count": 2,
   "id": "3613790f",
   "metadata": {},
   "outputs": [
    {
     "name": "stdout",
     "output_type": "stream",
     "text": [
      "Downloading data from https://storage.googleapis.com/tensorflow/tf-keras-datasets/train-labels-idx1-ubyte.gz\n",
      "29515/29515 [==============================] - 0s 1us/step\n",
      "Downloading data from https://storage.googleapis.com/tensorflow/tf-keras-datasets/train-images-idx3-ubyte.gz\n",
      "26421880/26421880 [==============================] - 5s 0us/step\n",
      "Downloading data from https://storage.googleapis.com/tensorflow/tf-keras-datasets/t10k-labels-idx1-ubyte.gz\n",
      "5148/5148 [==============================] - 0s 0s/step\n",
      "Downloading data from https://storage.googleapis.com/tensorflow/tf-keras-datasets/t10k-images-idx3-ubyte.gz\n",
      "4422102/4422102 [==============================] - 1s 0us/step\n"
     ]
    }
   ],
   "source": [
    "(X_train,y_train), (X_test,y_test) = keras.datasets.fashion_mnist.load_data()"
   ]
  },
  {
   "cell_type": "code",
   "execution_count": 3,
   "id": "95ff4af0",
   "metadata": {},
   "outputs": [
    {
     "data": {
      "text/plain": [
       "((60000, 28, 28), (60000,))"
      ]
     },
     "execution_count": 3,
     "metadata": {},
     "output_type": "execute_result"
    }
   ],
   "source": [
    "X_train.shape, y_train.shape    # X_train output ma   (6000,28,28)  =  6000 image,  28x28 pixel"
   ]
  },
  {
   "cell_type": "code",
   "execution_count": 4,
   "id": "c9e33af6",
   "metadata": {},
   "outputs": [
    {
     "data": {
      "text/plain": [
       "((10000, 28, 28), (10000,))"
      ]
     },
     "execution_count": 4,
     "metadata": {},
     "output_type": "execute_result"
    }
   ],
   "source": [
    "X_test.shape,y_test.shape"
   ]
  },
  {
   "cell_type": "code",
   "execution_count": 5,
   "id": "734ee2ed",
   "metadata": {},
   "outputs": [
    {
     "data": {
      "text/plain": [
       "array([[[0, 0, 0, ..., 0, 0, 0],\n",
       "        [0, 0, 0, ..., 0, 0, 0],\n",
       "        [0, 0, 0, ..., 0, 0, 0],\n",
       "        ...,\n",
       "        [0, 0, 0, ..., 0, 0, 0],\n",
       "        [0, 0, 0, ..., 0, 0, 0],\n",
       "        [0, 0, 0, ..., 0, 0, 0]],\n",
       "\n",
       "       [[0, 0, 0, ..., 0, 0, 0],\n",
       "        [0, 0, 0, ..., 0, 0, 0],\n",
       "        [0, 0, 0, ..., 0, 0, 0],\n",
       "        ...,\n",
       "        [0, 0, 0, ..., 0, 0, 0],\n",
       "        [0, 0, 0, ..., 0, 0, 0],\n",
       "        [0, 0, 0, ..., 0, 0, 0]],\n",
       "\n",
       "       [[0, 0, 0, ..., 0, 0, 0],\n",
       "        [0, 0, 0, ..., 0, 0, 0],\n",
       "        [0, 0, 0, ..., 0, 0, 0],\n",
       "        ...,\n",
       "        [0, 0, 0, ..., 0, 0, 0],\n",
       "        [0, 0, 0, ..., 0, 0, 0],\n",
       "        [0, 0, 0, ..., 0, 0, 0]],\n",
       "\n",
       "       ...,\n",
       "\n",
       "       [[0, 0, 0, ..., 0, 0, 0],\n",
       "        [0, 0, 0, ..., 0, 0, 0],\n",
       "        [0, 0, 0, ..., 0, 0, 0],\n",
       "        ...,\n",
       "        [0, 0, 0, ..., 0, 0, 0],\n",
       "        [0, 0, 0, ..., 0, 0, 0],\n",
       "        [0, 0, 0, ..., 0, 0, 0]],\n",
       "\n",
       "       [[0, 0, 0, ..., 0, 0, 0],\n",
       "        [0, 0, 0, ..., 0, 0, 0],\n",
       "        [0, 0, 0, ..., 0, 0, 0],\n",
       "        ...,\n",
       "        [0, 0, 0, ..., 0, 0, 0],\n",
       "        [0, 0, 0, ..., 0, 0, 0],\n",
       "        [0, 0, 0, ..., 0, 0, 0]],\n",
       "\n",
       "       [[0, 0, 0, ..., 0, 0, 0],\n",
       "        [0, 0, 0, ..., 0, 0, 0],\n",
       "        [0, 0, 0, ..., 0, 0, 0],\n",
       "        ...,\n",
       "        [0, 0, 0, ..., 0, 0, 0],\n",
       "        [0, 0, 0, ..., 0, 0, 0],\n",
       "        [0, 0, 0, ..., 0, 0, 0]]], dtype=uint8)"
      ]
     },
     "execution_count": 5,
     "metadata": {},
     "output_type": "execute_result"
    }
   ],
   "source": [
    "X_train"
   ]
  },
  {
   "cell_type": "code",
   "execution_count": 6,
   "id": "6e70f0a3",
   "metadata": {},
   "outputs": [
    {
     "data": {
      "text/plain": [
       "array([[  0,   0,   0,   0,   0,   0,   0,   0,   0,   0,   0,   0,   0,\n",
       "          0,   0,   0,   0,   0,   0,   0,   0,   0,   0,   0,   0,   0,\n",
       "          0,   0],\n",
       "       [  0,   0,   0,   0,   0,   0,   0,   0,   0,   0,   0,   0,   0,\n",
       "          0,   0,   0,   0,   0,   0,   0,   0,   0,   0,   0,   0,   0,\n",
       "          0,   0],\n",
       "       [  0,   0,   0,   0,   0,   0,   0,   0,   0,   0,   0,   0,   0,\n",
       "          0,   0,   0,   0,   0,   0,   0,   0,   0,   0,   0,   0,   0,\n",
       "          0,   0],\n",
       "       [  0,   0,   0,   0,   0,   0,   0,   0,   0,   0,   0,   0,   1,\n",
       "          0,   0,  13,  73,   0,   0,   1,   4,   0,   0,   0,   0,   1,\n",
       "          1,   0],\n",
       "       [  0,   0,   0,   0,   0,   0,   0,   0,   0,   0,   0,   0,   3,\n",
       "          0,  36, 136, 127,  62,  54,   0,   0,   0,   1,   3,   4,   0,\n",
       "          0,   3],\n",
       "       [  0,   0,   0,   0,   0,   0,   0,   0,   0,   0,   0,   0,   6,\n",
       "          0, 102, 204, 176, 134, 144, 123,  23,   0,   0,   0,   0,  12,\n",
       "         10,   0],\n",
       "       [  0,   0,   0,   0,   0,   0,   0,   0,   0,   0,   0,   0,   0,\n",
       "          0, 155, 236, 207, 178, 107, 156, 161, 109,  64,  23,  77, 130,\n",
       "         72,  15],\n",
       "       [  0,   0,   0,   0,   0,   0,   0,   0,   0,   0,   0,   1,   0,\n",
       "         69, 207, 223, 218, 216, 216, 163, 127, 121, 122, 146, 141,  88,\n",
       "        172,  66],\n",
       "       [  0,   0,   0,   0,   0,   0,   0,   0,   0,   1,   1,   1,   0,\n",
       "        200, 232, 232, 233, 229, 223, 223, 215, 213, 164, 127, 123, 196,\n",
       "        229,   0],\n",
       "       [  0,   0,   0,   0,   0,   0,   0,   0,   0,   0,   0,   0,   0,\n",
       "        183, 225, 216, 223, 228, 235, 227, 224, 222, 224, 221, 223, 245,\n",
       "        173,   0],\n",
       "       [  0,   0,   0,   0,   0,   0,   0,   0,   0,   0,   0,   0,   0,\n",
       "        193, 228, 218, 213, 198, 180, 212, 210, 211, 213, 223, 220, 243,\n",
       "        202,   0],\n",
       "       [  0,   0,   0,   0,   0,   0,   0,   0,   0,   1,   3,   0,  12,\n",
       "        219, 220, 212, 218, 192, 169, 227, 208, 218, 224, 212, 226, 197,\n",
       "        209,  52],\n",
       "       [  0,   0,   0,   0,   0,   0,   0,   0,   0,   0,   6,   0,  99,\n",
       "        244, 222, 220, 218, 203, 198, 221, 215, 213, 222, 220, 245, 119,\n",
       "        167,  56],\n",
       "       [  0,   0,   0,   0,   0,   0,   0,   0,   0,   4,   0,   0,  55,\n",
       "        236, 228, 230, 228, 240, 232, 213, 218, 223, 234, 217, 217, 209,\n",
       "         92,   0],\n",
       "       [  0,   0,   1,   4,   6,   7,   2,   0,   0,   0,   0,   0, 237,\n",
       "        226, 217, 223, 222, 219, 222, 221, 216, 223, 229, 215, 218, 255,\n",
       "         77,   0],\n",
       "       [  0,   3,   0,   0,   0,   0,   0,   0,   0,  62, 145, 204, 228,\n",
       "        207, 213, 221, 218, 208, 211, 218, 224, 223, 219, 215, 224, 244,\n",
       "        159,   0],\n",
       "       [  0,   0,   0,   0,  18,  44,  82, 107, 189, 228, 220, 222, 217,\n",
       "        226, 200, 205, 211, 230, 224, 234, 176, 188, 250, 248, 233, 238,\n",
       "        215,   0],\n",
       "       [  0,  57, 187, 208, 224, 221, 224, 208, 204, 214, 208, 209, 200,\n",
       "        159, 245, 193, 206, 223, 255, 255, 221, 234, 221, 211, 220, 232,\n",
       "        246,   0],\n",
       "       [  3, 202, 228, 224, 221, 211, 211, 214, 205, 205, 205, 220, 240,\n",
       "         80, 150, 255, 229, 221, 188, 154, 191, 210, 204, 209, 222, 228,\n",
       "        225,   0],\n",
       "       [ 98, 233, 198, 210, 222, 229, 229, 234, 249, 220, 194, 215, 217,\n",
       "        241,  65,  73, 106, 117, 168, 219, 221, 215, 217, 223, 223, 224,\n",
       "        229,  29],\n",
       "       [ 75, 204, 212, 204, 193, 205, 211, 225, 216, 185, 197, 206, 198,\n",
       "        213, 240, 195, 227, 245, 239, 223, 218, 212, 209, 222, 220, 221,\n",
       "        230,  67],\n",
       "       [ 48, 203, 183, 194, 213, 197, 185, 190, 194, 192, 202, 214, 219,\n",
       "        221, 220, 236, 225, 216, 199, 206, 186, 181, 177, 172, 181, 205,\n",
       "        206, 115],\n",
       "       [  0, 122, 219, 193, 179, 171, 183, 196, 204, 210, 213, 207, 211,\n",
       "        210, 200, 196, 194, 191, 195, 191, 198, 192, 176, 156, 167, 177,\n",
       "        210,  92],\n",
       "       [  0,   0,  74, 189, 212, 191, 175, 172, 175, 181, 185, 188, 189,\n",
       "        188, 193, 198, 204, 209, 210, 210, 211, 188, 188, 194, 192, 216,\n",
       "        170,   0],\n",
       "       [  2,   0,   0,   0,  66, 200, 222, 237, 239, 242, 246, 243, 244,\n",
       "        221, 220, 193, 191, 179, 182, 182, 181, 176, 166, 168,  99,  58,\n",
       "          0,   0],\n",
       "       [  0,   0,   0,   0,   0,   0,   0,  40,  61,  44,  72,  41,  35,\n",
       "          0,   0,   0,   0,   0,   0,   0,   0,   0,   0,   0,   0,   0,\n",
       "          0,   0],\n",
       "       [  0,   0,   0,   0,   0,   0,   0,   0,   0,   0,   0,   0,   0,\n",
       "          0,   0,   0,   0,   0,   0,   0,   0,   0,   0,   0,   0,   0,\n",
       "          0,   0],\n",
       "       [  0,   0,   0,   0,   0,   0,   0,   0,   0,   0,   0,   0,   0,\n",
       "          0,   0,   0,   0,   0,   0,   0,   0,   0,   0,   0,   0,   0,\n",
       "          0,   0]], dtype=uint8)"
      ]
     },
     "execution_count": 6,
     "metadata": {},
     "output_type": "execute_result"
    }
   ],
   "source": [
    "X_train[0]"
   ]
  },
  {
   "cell_type": "code",
   "execution_count": 7,
   "id": "288e1d7c",
   "metadata": {},
   "outputs": [
    {
     "data": {
      "text/plain": [
       "9"
      ]
     },
     "execution_count": 7,
     "metadata": {},
     "output_type": "execute_result"
    }
   ],
   "source": [
    "y_train[0]"
   ]
  },
  {
   "cell_type": "code",
   "execution_count": 8,
   "id": "0c187ad5",
   "metadata": {},
   "outputs": [
    {
     "data": {
      "text/plain": [
       "'\\n0 => T-shirt/top \\n1 => Trouser \\n2 => Pullover \\n3 => Dress \\n4 => Coat \\n5 => Sandal \\n6 => Shirt \\n7 => Sneaker \\n8 => Bag \\n9 => Ankle boot '"
      ]
     },
     "execution_count": 8,
     "metadata": {},
     "output_type": "execute_result"
    }
   ],
   "source": [
    "class_labels = [\"T-shirt/top\",\"Trouser\",\"Pullover\",\"Dress\",\"Coat\",\"Sandal\",\"Shirt\",\"Sneaker\",\"Bag\",\"Ankle boot\"]\n",
    "'''\n",
    "0 => T-shirt/top \n",
    "1 => Trouser \n",
    "2 => Pullover \n",
    "3 => Dress \n",
    "4 => Coat \n",
    "5 => Sandal \n",
    "6 => Shirt \n",
    "7 => Sneaker \n",
    "8 => Bag \n",
    "9 => Ankle boot '''"
   ]
  },
  {
   "cell_type": "markdown",
   "id": "fa5b19a5",
   "metadata": {},
   "source": [
    "## Show Image"
   ]
  },
  {
   "cell_type": "code",
   "execution_count": 9,
   "id": "f27e7e1a",
   "metadata": {},
   "outputs": [
    {
     "data": {
      "text/plain": [
       "<matplotlib.image.AxesImage at 0x1474c7975e0>"
      ]
     },
     "execution_count": 9,
     "metadata": {},
     "output_type": "execute_result"
    },
    {
     "data": {
      "image/png": "[encoded data removed]",
      "text/plain": [
       "<Figure size 432x288 with 1 Axes>"
      ]
     },
     "metadata": {
      "needs_background": "light"
     },
     "output_type": "display_data"
    }
   ],
   "source": [
    "plt.imshow(X_train[0])"
   ]
  },
  {
   "cell_type": "code",
   "execution_count": 10,
   "id": "a1cb1c65",
   "metadata": {},
   "outputs": [
    {
     "data": {
      "text/plain": [
       "<matplotlib.image.AxesImage at 0x1474cf37220>"
      ]
     },
     "execution_count": 10,
     "metadata": {},
     "output_type": "execute_result"
    },
    {
     "data": {
      "image/png": "[encoded data removed]",
      "text/plain": [
       "<Figure size 432x288 with 1 Axes>"
      ]
     },
     "metadata": {
      "needs_background": "light"
     },
     "output_type": "display_data"
    }
   ],
   "source": [
    "plt.imshow(X_train[0], cmap = 'Greys')"
   ]
  },
  {
   "cell_type": "code",
   "execution_count": null,
   "id": "c14ae31b",
   "metadata": {},
   "outputs": [],
   "source": []
  },
  {
   "cell_type": "code",
   "execution_count": null,
   "id": "94a5732d",
   "metadata": {},
   "outputs": [],
   "source": []
  },
  {
   "cell_type": "code",
   "execution_count": 11,
   "id": "7adff412",
   "metadata": {},
   "outputs": [
    {
     "data": {
      "text/plain": [
       "<matplotlib.image.AxesImage at 0x1474cf9bb50>"
      ]
     },
     "execution_count": 11,
     "metadata": {},
     "output_type": "execute_result"
    },
    {
     "data": {
      "image/png": "[encoded data removed]",
      "text/plain": [
       "<Figure size 432x288 with 1 Axes>"
      ]
     },
     "metadata": {
      "needs_background": "light"
     },
     "output_type": "display_data"
    }
   ],
   "source": [
    "plt.imshow(X_train[1], cmap = 'Greys')"
   ]
  },
  {
   "cell_type": "code",
   "execution_count": 12,
   "id": "9c40274d",
   "metadata": {},
   "outputs": [
    {
     "data": {
      "text/plain": [
       "0"
      ]
     },
     "execution_count": 12,
     "metadata": {},
     "output_type": "execute_result"
    }
   ],
   "source": [
    "y_train[1]"
   ]
  },
  {
   "cell_type": "code",
   "execution_count": 11,
   "id": "20811bef",
   "metadata": {},
   "outputs": [
    {
     "data": {
      "text/plain": [
       "<matplotlib.image.AxesImage at 0x22b5e3cac70>"
      ]
     },
     "execution_count": 11,
     "metadata": {},
     "output_type": "execute_result"
    },
    {
     "data": {
      "image/png": "[encoded data removed]",
      "text/plain": [
       "<Figure size 432x288 with 1 Axes>"
      ]
     },
     "metadata": {
      "needs_background": "light"
     },
     "output_type": "display_data"
    }
   ],
   "source": [
    "plt.imshow(X_train[2], cmap = 'Greys')"
   ]
  },
  {
   "cell_type": "code",
   "execution_count": 13,
   "id": "f6570a45",
   "metadata": {},
   "outputs": [
    {
     "data": {
      "image/png": "[encoded data removed]",
      "text/plain": [
       "<Figure size 1152x1152 with 25 Axes>"
      ]
     },
     "metadata": {
      "needs_background": "light"
     },
     "output_type": "display_data"
    }
   ],
   "source": [
    "plt.figure(figsize = (16,16))\n",
    "\n",
    "j = 1\n",
    "for i in np.random.randint(0,1000,25):\n",
    "    plt.subplot(5,5,j); j+=1\n",
    "    plt.imshow(X_train[i], cmap='Greys')\n",
    "    plt.axis('off')\n",
    "    plt.title('{} / {}'. format(class_labels[y_train[i]], y_train[i]))"
   ]
  },
  {
   "cell_type": "markdown",
   "id": "2246cd40",
   "metadata": {},
   "source": [
    "## Change Dimention"
   ]
  },
  {
   "cell_type": "code",
   "execution_count": 14,
   "id": "6da1d509",
   "metadata": {},
   "outputs": [
    {
     "data": {
      "text/plain": [
       "3"
      ]
     },
     "execution_count": 14,
     "metadata": {},
     "output_type": "execute_result"
    }
   ],
   "source": [
    "X_train.ndim"
   ]
  },
  {
   "cell_type": "code",
   "execution_count": 15,
   "id": "f11be45c",
   "metadata": {},
   "outputs": [
    {
     "data": {
      "text/plain": [
       "(60000, 28, 28)"
      ]
     },
     "execution_count": 15,
     "metadata": {},
     "output_type": "execute_result"
    }
   ],
   "source": [
    "X_train.shape"
   ]
  },
  {
   "cell_type": "code",
   "execution_count": 17,
   "id": "07140498",
   "metadata": {},
   "outputs": [
    {
     "data": {
      "text/plain": [
       "array([[[0, 0, 0, ..., 0, 0, 0],\n",
       "        [0, 0, 0, ..., 0, 0, 0],\n",
       "        [0, 0, 0, ..., 0, 0, 0],\n",
       "        ...,\n",
       "        [0, 0, 0, ..., 0, 0, 0],\n",
       "        [0, 0, 0, ..., 0, 0, 0],\n",
       "        [0, 0, 0, ..., 0, 0, 0]],\n",
       "\n",
       "       [[0, 0, 0, ..., 0, 0, 0],\n",
       "        [0, 0, 0, ..., 0, 0, 0],\n",
       "        [0, 0, 0, ..., 0, 0, 0],\n",
       "        ...,\n",
       "        [0, 0, 0, ..., 0, 0, 0],\n",
       "        [0, 0, 0, ..., 0, 0, 0],\n",
       "        [0, 0, 0, ..., 0, 0, 0]],\n",
       "\n",
       "       [[0, 0, 0, ..., 0, 0, 0],\n",
       "        [0, 0, 0, ..., 0, 0, 0],\n",
       "        [0, 0, 0, ..., 0, 0, 0],\n",
       "        ...,\n",
       "        [0, 0, 0, ..., 0, 0, 0],\n",
       "        [0, 0, 0, ..., 0, 0, 0],\n",
       "        [0, 0, 0, ..., 0, 0, 0]],\n",
       "\n",
       "       ...,\n",
       "\n",
       "       [[0, 0, 0, ..., 0, 0, 0],\n",
       "        [0, 0, 0, ..., 0, 0, 0],\n",
       "        [0, 0, 0, ..., 0, 0, 0],\n",
       "        ...,\n",
       "        [0, 0, 0, ..., 0, 0, 0],\n",
       "        [0, 0, 0, ..., 0, 0, 0],\n",
       "        [0, 0, 0, ..., 0, 0, 0]],\n",
       "\n",
       "       [[0, 0, 0, ..., 0, 0, 0],\n",
       "        [0, 0, 0, ..., 0, 0, 0],\n",
       "        [0, 0, 0, ..., 0, 0, 0],\n",
       "        ...,\n",
       "        [0, 0, 0, ..., 0, 0, 0],\n",
       "        [0, 0, 0, ..., 0, 0, 0],\n",
       "        [0, 0, 0, ..., 0, 0, 0]],\n",
       "\n",
       "       [[0, 0, 0, ..., 0, 0, 0],\n",
       "        [0, 0, 0, ..., 0, 0, 0],\n",
       "        [0, 0, 0, ..., 0, 0, 0],\n",
       "        ...,\n",
       "        [0, 0, 0, ..., 0, 0, 0],\n",
       "        [0, 0, 0, ..., 0, 0, 0],\n",
       "        [0, 0, 0, ..., 0, 0, 0]]], dtype=uint8)"
      ]
     },
     "execution_count": 17,
     "metadata": {},
     "output_type": "execute_result"
    }
   ],
   "source": [
    "X_train"
   ]
  },
  {
   "cell_type": "code",
   "execution_count": 16,
   "id": "eda61dfc",
   "metadata": {},
   "outputs": [],
   "source": [
    "# 3 dimention mathi 4 dimention karvanu"
   ]
  },
  {
   "cell_type": "code",
   "execution_count": 18,
   "id": "3dab5fe2",
   "metadata": {},
   "outputs": [],
   "source": [
    "X_train = np.expand_dims(X_train, -1)\n",
    "X_test = np.expand_dims(X_test, -1)"
   ]
  },
  {
   "cell_type": "code",
   "execution_count": 19,
   "id": "f3b8f3d3",
   "metadata": {},
   "outputs": [
    {
     "data": {
      "text/plain": [
       "4"
      ]
     },
     "execution_count": 19,
     "metadata": {},
     "output_type": "execute_result"
    }
   ],
   "source": [
    "X_train.ndim"
   ]
  },
  {
   "cell_type": "code",
   "execution_count": 20,
   "id": "ea080e6e",
   "metadata": {},
   "outputs": [
    {
     "data": {
      "text/plain": [
       "(60000, 28, 28, 1)"
      ]
     },
     "execution_count": 20,
     "metadata": {},
     "output_type": "execute_result"
    }
   ],
   "source": [
    "X_train.shape"
   ]
  },
  {
   "cell_type": "code",
   "execution_count": 22,
   "id": "ae1b5d46",
   "metadata": {},
   "outputs": [
    {
     "data": {
      "text/plain": [
       "array([[[  0],\n",
       "        [  0],\n",
       "        [  0],\n",
       "        [  0],\n",
       "        [  0],\n",
       "        [  0],\n",
       "        [  0],\n",
       "        [  0],\n",
       "        [  0],\n",
       "        [  0],\n",
       "        [  0],\n",
       "        [  0],\n",
       "        [  0],\n",
       "        [  0],\n",
       "        [  0],\n",
       "        [  0],\n",
       "        [  0],\n",
       "        [  0],\n",
       "        [  0],\n",
       "        [  0],\n",
       "        [  0],\n",
       "        [  0],\n",
       "        [  0],\n",
       "        [  0],\n",
       "        [  0],\n",
       "        [  0],\n",
       "        [  0],\n",
       "        [  0]],\n",
       "\n",
       "       [[  0],\n",
       "        [  0],\n",
       "        [  0],\n",
       "        [  0],\n",
       "        [  0],\n",
       "        [  0],\n",
       "        [  0],\n",
       "        [  0],\n",
       "        [  0],\n",
       "        [  0],\n",
       "        [  0],\n",
       "        [  0],\n",
       "        [  0],\n",
       "        [  0],\n",
       "        [  0],\n",
       "        [  0],\n",
       "        [  0],\n",
       "        [  0],\n",
       "        [  0],\n",
       "        [  0],\n",
       "        [  0],\n",
       "        [  0],\n",
       "        [  0],\n",
       "        [  0],\n",
       "        [  0],\n",
       "        [  0],\n",
       "        [  0],\n",
       "        [  0]],\n",
       "\n",
       "       [[  0],\n",
       "        [  0],\n",
       "        [  0],\n",
       "        [  0],\n",
       "        [  0],\n",
       "        [  0],\n",
       "        [  0],\n",
       "        [  0],\n",
       "        [  0],\n",
       "        [  0],\n",
       "        [  0],\n",
       "        [  0],\n",
       "        [  0],\n",
       "        [  0],\n",
       "        [  0],\n",
       "        [  0],\n",
       "        [  0],\n",
       "        [  0],\n",
       "        [  0],\n",
       "        [  0],\n",
       "        [  0],\n",
       "        [  0],\n",
       "        [  0],\n",
       "        [  0],\n",
       "        [  0],\n",
       "        [  0],\n",
       "        [  0],\n",
       "        [  0]],\n",
       "\n",
       "       [[  0],\n",
       "        [  0],\n",
       "        [  0],\n",
       "        [  0],\n",
       "        [  0],\n",
       "        [  0],\n",
       "        [  0],\n",
       "        [  0],\n",
       "        [  0],\n",
       "        [  0],\n",
       "        [  0],\n",
       "        [  0],\n",
       "        [  1],\n",
       "        [  0],\n",
       "        [  0],\n",
       "        [ 13],\n",
       "        [ 73],\n",
       "        [  0],\n",
       "        [  0],\n",
       "        [  1],\n",
       "        [  4],\n",
       "        [  0],\n",
       "        [  0],\n",
       "        [  0],\n",
       "        [  0],\n",
       "        [  1],\n",
       "        [  1],\n",
       "        [  0]],\n",
       "\n",
       "       [[  0],\n",
       "        [  0],\n",
       "        [  0],\n",
       "        [  0],\n",
       "        [  0],\n",
       "        [  0],\n",
       "        [  0],\n",
       "        [  0],\n",
       "        [  0],\n",
       "        [  0],\n",
       "        [  0],\n",
       "        [  0],\n",
       "        [  3],\n",
       "        [  0],\n",
       "        [ 36],\n",
       "        [136],\n",
       "        [127],\n",
       "        [ 62],\n",
       "        [ 54],\n",
       "        [  0],\n",
       "        [  0],\n",
       "        [  0],\n",
       "        [  1],\n",
       "        [  3],\n",
       "        [  4],\n",
       "        [  0],\n",
       "        [  0],\n",
       "        [  3]],\n",
       "\n",
       "       [[  0],\n",
       "        [  0],\n",
       "        [  0],\n",
       "        [  0],\n",
       "        [  0],\n",
       "        [  0],\n",
       "        [  0],\n",
       "        [  0],\n",
       "        [  0],\n",
       "        [  0],\n",
       "        [  0],\n",
       "        [  0],\n",
       "        [  6],\n",
       "        [  0],\n",
       "        [102],\n",
       "        [204],\n",
       "        [176],\n",
       "        [134],\n",
       "        [144],\n",
       "        [123],\n",
       "        [ 23],\n",
       "        [  0],\n",
       "        [  0],\n",
       "        [  0],\n",
       "        [  0],\n",
       "        [ 12],\n",
       "        [ 10],\n",
       "        [  0]],\n",
       "\n",
       "       [[  0],\n",
       "        [  0],\n",
       "        [  0],\n",
       "        [  0],\n",
       "        [  0],\n",
       "        [  0],\n",
       "        [  0],\n",
       "        [  0],\n",
       "        [  0],\n",
       "        [  0],\n",
       "        [  0],\n",
       "        [  0],\n",
       "        [  0],\n",
       "        [  0],\n",
       "        [155],\n",
       "        [236],\n",
       "        [207],\n",
       "        [178],\n",
       "        [107],\n",
       "        [156],\n",
       "        [161],\n",
       "        [109],\n",
       "        [ 64],\n",
       "        [ 23],\n",
       "        [ 77],\n",
       "        [130],\n",
       "        [ 72],\n",
       "        [ 15]],\n",
       "\n",
       "       [[  0],\n",
       "        [  0],\n",
       "        [  0],\n",
       "        [  0],\n",
       "        [  0],\n",
       "        [  0],\n",
       "        [  0],\n",
       "        [  0],\n",
       "        [  0],\n",
       "        [  0],\n",
       "        [  0],\n",
       "        [  1],\n",
       "        [  0],\n",
       "        [ 69],\n",
       "        [207],\n",
       "        [223],\n",
       "        [218],\n",
       "        [216],\n",
       "        [216],\n",
       "        [163],\n",
       "        [127],\n",
       "        [121],\n",
       "        [122],\n",
       "        [146],\n",
       "        [141],\n",
       "        [ 88],\n",
       "        [172],\n",
       "        [ 66]],\n",
       "\n",
       "       [[  0],\n",
       "        [  0],\n",
       "        [  0],\n",
       "        [  0],\n",
       "        [  0],\n",
       "        [  0],\n",
       "        [  0],\n",
       "        [  0],\n",
       "        [  0],\n",
       "        [  1],\n",
       "        [  1],\n",
       "        [  1],\n",
       "        [  0],\n",
       "        [200],\n",
       "        [232],\n",
       "        [232],\n",
       "        [233],\n",
       "        [229],\n",
       "        [223],\n",
       "        [223],\n",
       "        [215],\n",
       "        [213],\n",
       "        [164],\n",
       "        [127],\n",
       "        [123],\n",
       "        [196],\n",
       "        [229],\n",
       "        [  0]],\n",
       "\n",
       "       [[  0],\n",
       "        [  0],\n",
       "        [  0],\n",
       "        [  0],\n",
       "        [  0],\n",
       "        [  0],\n",
       "        [  0],\n",
       "        [  0],\n",
       "        [  0],\n",
       "        [  0],\n",
       "        [  0],\n",
       "        [  0],\n",
       "        [  0],\n",
       "        [183],\n",
       "        [225],\n",
       "        [216],\n",
       "        [223],\n",
       "        [228],\n",
       "        [235],\n",
       "        [227],\n",
       "        [224],\n",
       "        [222],\n",
       "        [224],\n",
       "        [221],\n",
       "        [223],\n",
       "        [245],\n",
       "        [173],\n",
       "        [  0]],\n",
       "\n",
       "       [[  0],\n",
       "        [  0],\n",
       "        [  0],\n",
       "        [  0],\n",
       "        [  0],\n",
       "        [  0],\n",
       "        [  0],\n",
       "        [  0],\n",
       "        [  0],\n",
       "        [  0],\n",
       "        [  0],\n",
       "        [  0],\n",
       "        [  0],\n",
       "        [193],\n",
       "        [228],\n",
       "        [218],\n",
       "        [213],\n",
       "        [198],\n",
       "        [180],\n",
       "        [212],\n",
       "        [210],\n",
       "        [211],\n",
       "        [213],\n",
       "        [223],\n",
       "        [220],\n",
       "        [243],\n",
       "        [202],\n",
       "        [  0]],\n",
       "\n",
       "       [[  0],\n",
       "        [  0],\n",
       "        [  0],\n",
       "        [  0],\n",
       "        [  0],\n",
       "        [  0],\n",
       "        [  0],\n",
       "        [  0],\n",
       "        [  0],\n",
       "        [  1],\n",
       "        [  3],\n",
       "        [  0],\n",
       "        [ 12],\n",
       "        [219],\n",
       "        [220],\n",
       "        [212],\n",
       "        [218],\n",
       "        [192],\n",
       "        [169],\n",
       "        [227],\n",
       "        [208],\n",
       "        [218],\n",
       "        [224],\n",
       "        [212],\n",
       "        [226],\n",
       "        [197],\n",
       "        [209],\n",
       "        [ 52]],\n",
       "\n",
       "       [[  0],\n",
       "        [  0],\n",
       "        [  0],\n",
       "        [  0],\n",
       "        [  0],\n",
       "        [  0],\n",
       "        [  0],\n",
       "        [  0],\n",
       "        [  0],\n",
       "        [  0],\n",
       "        [  6],\n",
       "        [  0],\n",
       "        [ 99],\n",
       "        [244],\n",
       "        [222],\n",
       "        [220],\n",
       "        [218],\n",
       "        [203],\n",
       "        [198],\n",
       "        [221],\n",
       "        [215],\n",
       "        [213],\n",
       "        [222],\n",
       "        [220],\n",
       "        [245],\n",
       "        [119],\n",
       "        [167],\n",
       "        [ 56]],\n",
       "\n",
       "       [[  0],\n",
       "        [  0],\n",
       "        [  0],\n",
       "        [  0],\n",
       "        [  0],\n",
       "        [  0],\n",
       "        [  0],\n",
       "        [  0],\n",
       "        [  0],\n",
       "        [  4],\n",
       "        [  0],\n",
       "        [  0],\n",
       "        [ 55],\n",
       "        [236],\n",
       "        [228],\n",
       "        [230],\n",
       "        [228],\n",
       "        [240],\n",
       "        [232],\n",
       "        [213],\n",
       "        [218],\n",
       "        [223],\n",
       "        [234],\n",
       "        [217],\n",
       "        [217],\n",
       "        [209],\n",
       "        [ 92],\n",
       "        [  0]],\n",
       "\n",
       "       [[  0],\n",
       "        [  0],\n",
       "        [  1],\n",
       "        [  4],\n",
       "        [  6],\n",
       "        [  7],\n",
       "        [  2],\n",
       "        [  0],\n",
       "        [  0],\n",
       "        [  0],\n",
       "        [  0],\n",
       "        [  0],\n",
       "        [237],\n",
       "        [226],\n",
       "        [217],\n",
       "        [223],\n",
       "        [222],\n",
       "        [219],\n",
       "        [222],\n",
       "        [221],\n",
       "        [216],\n",
       "        [223],\n",
       "        [229],\n",
       "        [215],\n",
       "        [218],\n",
       "        [255],\n",
       "        [ 77],\n",
       "        [  0]],\n",
       "\n",
       "       [[  0],\n",
       "        [  3],\n",
       "        [  0],\n",
       "        [  0],\n",
       "        [  0],\n",
       "        [  0],\n",
       "        [  0],\n",
       "        [  0],\n",
       "        [  0],\n",
       "        [ 62],\n",
       "        [145],\n",
       "        [204],\n",
       "        [228],\n",
       "        [207],\n",
       "        [213],\n",
       "        [221],\n",
       "        [218],\n",
       "        [208],\n",
       "        [211],\n",
       "        [218],\n",
       "        [224],\n",
       "        [223],\n",
       "        [219],\n",
       "        [215],\n",
       "        [224],\n",
       "        [244],\n",
       "        [159],\n",
       "        [  0]],\n",
       "\n",
       "       [[  0],\n",
       "        [  0],\n",
       "        [  0],\n",
       "        [  0],\n",
       "        [ 18],\n",
       "        [ 44],\n",
       "        [ 82],\n",
       "        [107],\n",
       "        [189],\n",
       "        [228],\n",
       "        [220],\n",
       "        [222],\n",
       "        [217],\n",
       "        [226],\n",
       "        [200],\n",
       "        [205],\n",
       "        [211],\n",
       "        [230],\n",
       "        [224],\n",
       "        [234],\n",
       "        [176],\n",
       "        [188],\n",
       "        [250],\n",
       "        [248],\n",
       "        [233],\n",
       "        [238],\n",
       "        [215],\n",
       "        [  0]],\n",
       "\n",
       "       [[  0],\n",
       "        [ 57],\n",
       "        [187],\n",
       "        [208],\n",
       "        [224],\n",
       "        [221],\n",
       "        [224],\n",
       "        [208],\n",
       "        [204],\n",
       "        [214],\n",
       "        [208],\n",
       "        [209],\n",
       "        [200],\n",
       "        [159],\n",
       "        [245],\n",
       "        [193],\n",
       "        [206],\n",
       "        [223],\n",
       "        [255],\n",
       "        [255],\n",
       "        [221],\n",
       "        [234],\n",
       "        [221],\n",
       "        [211],\n",
       "        [220],\n",
       "        [232],\n",
       "        [246],\n",
       "        [  0]],\n",
       "\n",
       "       [[  3],\n",
       "        [202],\n",
       "        [228],\n",
       "        [224],\n",
       "        [221],\n",
       "        [211],\n",
       "        [211],\n",
       "        [214],\n",
       "        [205],\n",
       "        [205],\n",
       "        [205],\n",
       "        [220],\n",
       "        [240],\n",
       "        [ 80],\n",
       "        [150],\n",
       "        [255],\n",
       "        [229],\n",
       "        [221],\n",
       "        [188],\n",
       "        [154],\n",
       "        [191],\n",
       "        [210],\n",
       "        [204],\n",
       "        [209],\n",
       "        [222],\n",
       "        [228],\n",
       "        [225],\n",
       "        [  0]],\n",
       "\n",
       "       [[ 98],\n",
       "        [233],\n",
       "        [198],\n",
       "        [210],\n",
       "        [222],\n",
       "        [229],\n",
       "        [229],\n",
       "        [234],\n",
       "        [249],\n",
       "        [220],\n",
       "        [194],\n",
       "        [215],\n",
       "        [217],\n",
       "        [241],\n",
       "        [ 65],\n",
       "        [ 73],\n",
       "        [106],\n",
       "        [117],\n",
       "        [168],\n",
       "        [219],\n",
       "        [221],\n",
       "        [215],\n",
       "        [217],\n",
       "        [223],\n",
       "        [223],\n",
       "        [224],\n",
       "        [229],\n",
       "        [ 29]],\n",
       "\n",
       "       [[ 75],\n",
       "        [204],\n",
       "        [212],\n",
       "        [204],\n",
       "        [193],\n",
       "        [205],\n",
       "        [211],\n",
       "        [225],\n",
       "        [216],\n",
       "        [185],\n",
       "        [197],\n",
       "        [206],\n",
       "        [198],\n",
       "        [213],\n",
       "        [240],\n",
       "        [195],\n",
       "        [227],\n",
       "        [245],\n",
       "        [239],\n",
       "        [223],\n",
       "        [218],\n",
       "        [212],\n",
       "        [209],\n",
       "        [222],\n",
       "        [220],\n",
       "        [221],\n",
       "        [230],\n",
       "        [ 67]],\n",
       "\n",
       "       [[ 48],\n",
       "        [203],\n",
       "        [183],\n",
       "        [194],\n",
       "        [213],\n",
       "        [197],\n",
       "        [185],\n",
       "        [190],\n",
       "        [194],\n",
       "        [192],\n",
       "        [202],\n",
       "        [214],\n",
       "        [219],\n",
       "        [221],\n",
       "        [220],\n",
       "        [236],\n",
       "        [225],\n",
       "        [216],\n",
       "        [199],\n",
       "        [206],\n",
       "        [186],\n",
       "        [181],\n",
       "        [177],\n",
       "        [172],\n",
       "        [181],\n",
       "        [205],\n",
       "        [206],\n",
       "        [115]],\n",
       "\n",
       "       [[  0],\n",
       "        [122],\n",
       "        [219],\n",
       "        [193],\n",
       "        [179],\n",
       "        [171],\n",
       "        [183],\n",
       "        [196],\n",
       "        [204],\n",
       "        [210],\n",
       "        [213],\n",
       "        [207],\n",
       "        [211],\n",
       "        [210],\n",
       "        [200],\n",
       "        [196],\n",
       "        [194],\n",
       "        [191],\n",
       "        [195],\n",
       "        [191],\n",
       "        [198],\n",
       "        [192],\n",
       "        [176],\n",
       "        [156],\n",
       "        [167],\n",
       "        [177],\n",
       "        [210],\n",
       "        [ 92]],\n",
       "\n",
       "       [[  0],\n",
       "        [  0],\n",
       "        [ 74],\n",
       "        [189],\n",
       "        [212],\n",
       "        [191],\n",
       "        [175],\n",
       "        [172],\n",
       "        [175],\n",
       "        [181],\n",
       "        [185],\n",
       "        [188],\n",
       "        [189],\n",
       "        [188],\n",
       "        [193],\n",
       "        [198],\n",
       "        [204],\n",
       "        [209],\n",
       "        [210],\n",
       "        [210],\n",
       "        [211],\n",
       "        [188],\n",
       "        [188],\n",
       "        [194],\n",
       "        [192],\n",
       "        [216],\n",
       "        [170],\n",
       "        [  0]],\n",
       "\n",
       "       [[  2],\n",
       "        [  0],\n",
       "        [  0],\n",
       "        [  0],\n",
       "        [ 66],\n",
       "        [200],\n",
       "        [222],\n",
       "        [237],\n",
       "        [239],\n",
       "        [242],\n",
       "        [246],\n",
       "        [243],\n",
       "        [244],\n",
       "        [221],\n",
       "        [220],\n",
       "        [193],\n",
       "        [191],\n",
       "        [179],\n",
       "        [182],\n",
       "        [182],\n",
       "        [181],\n",
       "        [176],\n",
       "        [166],\n",
       "        [168],\n",
       "        [ 99],\n",
       "        [ 58],\n",
       "        [  0],\n",
       "        [  0]],\n",
       "\n",
       "       [[  0],\n",
       "        [  0],\n",
       "        [  0],\n",
       "        [  0],\n",
       "        [  0],\n",
       "        [  0],\n",
       "        [  0],\n",
       "        [ 40],\n",
       "        [ 61],\n",
       "        [ 44],\n",
       "        [ 72],\n",
       "        [ 41],\n",
       "        [ 35],\n",
       "        [  0],\n",
       "        [  0],\n",
       "        [  0],\n",
       "        [  0],\n",
       "        [  0],\n",
       "        [  0],\n",
       "        [  0],\n",
       "        [  0],\n",
       "        [  0],\n",
       "        [  0],\n",
       "        [  0],\n",
       "        [  0],\n",
       "        [  0],\n",
       "        [  0],\n",
       "        [  0]],\n",
       "\n",
       "       [[  0],\n",
       "        [  0],\n",
       "        [  0],\n",
       "        [  0],\n",
       "        [  0],\n",
       "        [  0],\n",
       "        [  0],\n",
       "        [  0],\n",
       "        [  0],\n",
       "        [  0],\n",
       "        [  0],\n",
       "        [  0],\n",
       "        [  0],\n",
       "        [  0],\n",
       "        [  0],\n",
       "        [  0],\n",
       "        [  0],\n",
       "        [  0],\n",
       "        [  0],\n",
       "        [  0],\n",
       "        [  0],\n",
       "        [  0],\n",
       "        [  0],\n",
       "        [  0],\n",
       "        [  0],\n",
       "        [  0],\n",
       "        [  0],\n",
       "        [  0]],\n",
       "\n",
       "       [[  0],\n",
       "        [  0],\n",
       "        [  0],\n",
       "        [  0],\n",
       "        [  0],\n",
       "        [  0],\n",
       "        [  0],\n",
       "        [  0],\n",
       "        [  0],\n",
       "        [  0],\n",
       "        [  0],\n",
       "        [  0],\n",
       "        [  0],\n",
       "        [  0],\n",
       "        [  0],\n",
       "        [  0],\n",
       "        [  0],\n",
       "        [  0],\n",
       "        [  0],\n",
       "        [  0],\n",
       "        [  0],\n",
       "        [  0],\n",
       "        [  0],\n",
       "        [  0],\n",
       "        [  0],\n",
       "        [  0],\n",
       "        [  0],\n",
       "        [  0]]], dtype=uint8)"
      ]
     },
     "execution_count": 22,
     "metadata": {},
     "output_type": "execute_result"
    }
   ],
   "source": [
    "X_train[0]"
   ]
  },
  {
   "cell_type": "markdown",
   "id": "4be95630",
   "metadata": {},
   "source": [
    "## Feature Scaling"
   ]
  },
  {
   "cell_type": "code",
   "execution_count": 23,
   "id": "37c526fe",
   "metadata": {},
   "outputs": [],
   "source": [
    "X_train = X_train/255\n",
    "X_test = X_test/255"
   ]
  },
  {
   "cell_type": "code",
   "execution_count": 24,
   "id": "f93b49db",
   "metadata": {},
   "outputs": [
    {
     "data": {
      "text/plain": [
       "array([[[0.        ],\n",
       "        [0.        ],\n",
       "        [0.        ],\n",
       "        [0.        ],\n",
       "        [0.        ],\n",
       "        [0.        ],\n",
       "        [0.        ],\n",
       "        [0.        ],\n",
       "        [0.        ],\n",
       "        [0.        ],\n",
       "        [0.        ],\n",
       "        [0.        ],\n",
       "        [0.        ],\n",
       "        [0.        ],\n",
       "        [0.        ],\n",
       "        [0.        ],\n",
       "        [0.        ],\n",
       "        [0.        ],\n",
       "        [0.        ],\n",
       "        [0.        ],\n",
       "        [0.        ],\n",
       "        [0.        ],\n",
       "        [0.        ],\n",
       "        [0.        ],\n",
       "        [0.        ],\n",
       "        [0.        ],\n",
       "        [0.        ],\n",
       "        [0.        ]],\n",
       "\n",
       "       [[0.        ],\n",
       "        [0.        ],\n",
       "        [0.        ],\n",
       "        [0.        ],\n",
       "        [0.        ],\n",
       "        [0.        ],\n",
       "        [0.        ],\n",
       "        [0.        ],\n",
       "        [0.        ],\n",
       "        [0.        ],\n",
       "        [0.        ],\n",
       "        [0.        ],\n",
       "        [0.        ],\n",
       "        [0.        ],\n",
       "        [0.        ],\n",
       "        [0.        ],\n",
       "        [0.        ],\n",
       "        [0.        ],\n",
       "        [0.        ],\n",
       "        [0.        ],\n",
       "        [0.        ],\n",
       "        [0.        ],\n",
       "        [0.        ],\n",
       "        [0.        ],\n",
       "        [0.        ],\n",
       "        [0.        ],\n",
       "        [0.        ],\n",
       "        [0.        ]],\n",
       "\n",
       "       [[0.        ],\n",
       "        [0.        ],\n",
       "        [0.        ],\n",
       "        [0.        ],\n",
       "        [0.        ],\n",
       "        [0.        ],\n",
       "        [0.        ],\n",
       "        [0.        ],\n",
       "        [0.        ],\n",
       "        [0.        ],\n",
       "        [0.        ],\n",
       "        [0.        ],\n",
       "        [0.        ],\n",
       "        [0.        ],\n",
       "        [0.        ],\n",
       "        [0.        ],\n",
       "        [0.        ],\n",
       "        [0.        ],\n",
       "        [0.        ],\n",
       "        [0.        ],\n",
       "        [0.        ],\n",
       "        [0.        ],\n",
       "        [0.        ],\n",
       "        [0.        ],\n",
       "        [0.        ],\n",
       "        [0.        ],\n",
       "        [0.        ],\n",
       "        [0.        ]],\n",
       "\n",
       "       [[0.        ],\n",
       "        [0.        ],\n",
       "        [0.        ],\n",
       "        [0.        ],\n",
       "        [0.        ],\n",
       "        [0.        ],\n",
       "        [0.        ],\n",
       "        [0.        ],\n",
       "        [0.        ],\n",
       "        [0.        ],\n",
       "        [0.        ],\n",
       "        [0.        ],\n",
       "        [0.00392157],\n",
       "        [0.        ],\n",
       "        [0.        ],\n",
       "        [0.05098039],\n",
       "        [0.28627451],\n",
       "        [0.        ],\n",
       "        [0.        ],\n",
       "        [0.00392157],\n",
       "        [0.01568627],\n",
       "        [0.        ],\n",
       "        [0.        ],\n",
       "        [0.        ],\n",
       "        [0.        ],\n",
       "        [0.00392157],\n",
       "        [0.00392157],\n",
       "        [0.        ]],\n",
       "\n",
       "       [[0.        ],\n",
       "        [0.        ],\n",
       "        [0.        ],\n",
       "        [0.        ],\n",
       "        [0.        ],\n",
       "        [0.        ],\n",
       "        [0.        ],\n",
       "        [0.        ],\n",
       "        [0.        ],\n",
       "        [0.        ],\n",
       "        [0.        ],\n",
       "        [0.        ],\n",
       "        [0.01176471],\n",
       "        [0.        ],\n",
       "        [0.14117647],\n",
       "        [0.53333333],\n",
       "        [0.49803922],\n",
       "        [0.24313725],\n",
       "        [0.21176471],\n",
       "        [0.        ],\n",
       "        [0.        ],\n",
       "        [0.        ],\n",
       "        [0.00392157],\n",
       "        [0.01176471],\n",
       "        [0.01568627],\n",
       "        [0.        ],\n",
       "        [0.        ],\n",
       "        [0.01176471]],\n",
       "\n",
       "       [[0.        ],\n",
       "        [0.        ],\n",
       "        [0.        ],\n",
       "        [0.        ],\n",
       "        [0.        ],\n",
       "        [0.        ],\n",
       "        [0.        ],\n",
       "        [0.        ],\n",
       "        [0.        ],\n",
       "        [0.        ],\n",
       "        [0.        ],\n",
       "        [0.        ],\n",
       "        [0.02352941],\n",
       "        [0.        ],\n",
       "        [0.4       ],\n",
       "        [0.8       ],\n",
       "        [0.69019608],\n",
       "        [0.5254902 ],\n",
       "        [0.56470588],\n",
       "        [0.48235294],\n",
       "        [0.09019608],\n",
       "        [0.        ],\n",
       "        [0.        ],\n",
       "        [0.        ],\n",
       "        [0.        ],\n",
       "        [0.04705882],\n",
       "        [0.03921569],\n",
       "        [0.        ]],\n",
       "\n",
       "       [[0.        ],\n",
       "        [0.        ],\n",
       "        [0.        ],\n",
       "        [0.        ],\n",
       "        [0.        ],\n",
       "        [0.        ],\n",
       "        [0.        ],\n",
       "        [0.        ],\n",
       "        [0.        ],\n",
       "        [0.        ],\n",
       "        [0.        ],\n",
       "        [0.        ],\n",
       "        [0.        ],\n",
       "        [0.        ],\n",
       "        [0.60784314],\n",
       "        [0.9254902 ],\n",
       "        [0.81176471],\n",
       "        [0.69803922],\n",
       "        [0.41960784],\n",
       "        [0.61176471],\n",
       "        [0.63137255],\n",
       "        [0.42745098],\n",
       "        [0.25098039],\n",
       "        [0.09019608],\n",
       "        [0.30196078],\n",
       "        [0.50980392],\n",
       "        [0.28235294],\n",
       "        [0.05882353]],\n",
       "\n",
       "       [[0.        ],\n",
       "        [0.        ],\n",
       "        [0.        ],\n",
       "        [0.        ],\n",
       "        [0.        ],\n",
       "        [0.        ],\n",
       "        [0.        ],\n",
       "        [0.        ],\n",
       "        [0.        ],\n",
       "        [0.        ],\n",
       "        [0.        ],\n",
       "        [0.00392157],\n",
       "        [0.        ],\n",
       "        [0.27058824],\n",
       "        [0.81176471],\n",
       "        [0.8745098 ],\n",
       "        [0.85490196],\n",
       "        [0.84705882],\n",
       "        [0.84705882],\n",
       "        [0.63921569],\n",
       "        [0.49803922],\n",
       "        [0.4745098 ],\n",
       "        [0.47843137],\n",
       "        [0.57254902],\n",
       "        [0.55294118],\n",
       "        [0.34509804],\n",
       "        [0.6745098 ],\n",
       "        [0.25882353]],\n",
       "\n",
       "       [[0.        ],\n",
       "        [0.        ],\n",
       "        [0.        ],\n",
       "        [0.        ],\n",
       "        [0.        ],\n",
       "        [0.        ],\n",
       "        [0.        ],\n",
       "        [0.        ],\n",
       "        [0.        ],\n",
       "        [0.00392157],\n",
       "        [0.00392157],\n",
       "        [0.00392157],\n",
       "        [0.        ],\n",
       "        [0.78431373],\n",
       "        [0.90980392],\n",
       "        [0.90980392],\n",
       "        [0.91372549],\n",
       "        [0.89803922],\n",
       "        [0.8745098 ],\n",
       "        [0.8745098 ],\n",
       "        [0.84313725],\n",
       "        [0.83529412],\n",
       "        [0.64313725],\n",
       "        [0.49803922],\n",
       "        [0.48235294],\n",
       "        [0.76862745],\n",
       "        [0.89803922],\n",
       "        [0.        ]],\n",
       "\n",
       "       [[0.        ],\n",
       "        [0.        ],\n",
       "        [0.        ],\n",
       "        [0.        ],\n",
       "        [0.        ],\n",
       "        [0.        ],\n",
       "        [0.        ],\n",
       "        [0.        ],\n",
       "        [0.        ],\n",
       "        [0.        ],\n",
       "        [0.        ],\n",
       "        [0.        ],\n",
       "        [0.        ],\n",
       "        [0.71764706],\n",
       "        [0.88235294],\n",
       "        [0.84705882],\n",
       "        [0.8745098 ],\n",
       "        [0.89411765],\n",
       "        [0.92156863],\n",
       "        [0.89019608],\n",
       "        [0.87843137],\n",
       "        [0.87058824],\n",
       "        [0.87843137],\n",
       "        [0.86666667],\n",
       "        [0.8745098 ],\n",
       "        [0.96078431],\n",
       "        [0.67843137],\n",
       "        [0.        ]],\n",
       "\n",
       "       [[0.        ],\n",
       "        [0.        ],\n",
       "        [0.        ],\n",
       "        [0.        ],\n",
       "        [0.        ],\n",
       "        [0.        ],\n",
       "        [0.        ],\n",
       "        [0.        ],\n",
       "        [0.        ],\n",
       "        [0.        ],\n",
       "        [0.        ],\n",
       "        [0.        ],\n",
       "        [0.        ],\n",
       "        [0.75686275],\n",
       "        [0.89411765],\n",
       "        [0.85490196],\n",
       "        [0.83529412],\n",
       "        [0.77647059],\n",
       "        [0.70588235],\n",
       "        [0.83137255],\n",
       "        [0.82352941],\n",
       "        [0.82745098],\n",
       "        [0.83529412],\n",
       "        [0.8745098 ],\n",
       "        [0.8627451 ],\n",
       "        [0.95294118],\n",
       "        [0.79215686],\n",
       "        [0.        ]],\n",
       "\n",
       "       [[0.        ],\n",
       "        [0.        ],\n",
       "        [0.        ],\n",
       "        [0.        ],\n",
       "        [0.        ],\n",
       "        [0.        ],\n",
       "        [0.        ],\n",
       "        [0.        ],\n",
       "        [0.        ],\n",
       "        [0.00392157],\n",
       "        [0.01176471],\n",
       "        [0.        ],\n",
       "        [0.04705882],\n",
       "        [0.85882353],\n",
       "        [0.8627451 ],\n",
       "        [0.83137255],\n",
       "        [0.85490196],\n",
       "        [0.75294118],\n",
       "        [0.6627451 ],\n",
       "        [0.89019608],\n",
       "        [0.81568627],\n",
       "        [0.85490196],\n",
       "        [0.87843137],\n",
       "        [0.83137255],\n",
       "        [0.88627451],\n",
       "        [0.77254902],\n",
       "        [0.81960784],\n",
       "        [0.20392157]],\n",
       "\n",
       "       [[0.        ],\n",
       "        [0.        ],\n",
       "        [0.        ],\n",
       "        [0.        ],\n",
       "        [0.        ],\n",
       "        [0.        ],\n",
       "        [0.        ],\n",
       "        [0.        ],\n",
       "        [0.        ],\n",
       "        [0.        ],\n",
       "        [0.02352941],\n",
       "        [0.        ],\n",
       "        [0.38823529],\n",
       "        [0.95686275],\n",
       "        [0.87058824],\n",
       "        [0.8627451 ],\n",
       "        [0.85490196],\n",
       "        [0.79607843],\n",
       "        [0.77647059],\n",
       "        [0.86666667],\n",
       "        [0.84313725],\n",
       "        [0.83529412],\n",
       "        [0.87058824],\n",
       "        [0.8627451 ],\n",
       "        [0.96078431],\n",
       "        [0.46666667],\n",
       "        [0.65490196],\n",
       "        [0.21960784]],\n",
       "\n",
       "       [[0.        ],\n",
       "        [0.        ],\n",
       "        [0.        ],\n",
       "        [0.        ],\n",
       "        [0.        ],\n",
       "        [0.        ],\n",
       "        [0.        ],\n",
       "        [0.        ],\n",
       "        [0.        ],\n",
       "        [0.01568627],\n",
       "        [0.        ],\n",
       "        [0.        ],\n",
       "        [0.21568627],\n",
       "        [0.9254902 ],\n",
       "        [0.89411765],\n",
       "        [0.90196078],\n",
       "        [0.89411765],\n",
       "        [0.94117647],\n",
       "        [0.90980392],\n",
       "        [0.83529412],\n",
       "        [0.85490196],\n",
       "        [0.8745098 ],\n",
       "        [0.91764706],\n",
       "        [0.85098039],\n",
       "        [0.85098039],\n",
       "        [0.81960784],\n",
       "        [0.36078431],\n",
       "        [0.        ]],\n",
       "\n",
       "       [[0.        ],\n",
       "        [0.        ],\n",
       "        [0.00392157],\n",
       "        [0.01568627],\n",
       "        [0.02352941],\n",
       "        [0.02745098],\n",
       "        [0.00784314],\n",
       "        [0.        ],\n",
       "        [0.        ],\n",
       "        [0.        ],\n",
       "        [0.        ],\n",
       "        [0.        ],\n",
       "        [0.92941176],\n",
       "        [0.88627451],\n",
       "        [0.85098039],\n",
       "        [0.8745098 ],\n",
       "        [0.87058824],\n",
       "        [0.85882353],\n",
       "        [0.87058824],\n",
       "        [0.86666667],\n",
       "        [0.84705882],\n",
       "        [0.8745098 ],\n",
       "        [0.89803922],\n",
       "        [0.84313725],\n",
       "        [0.85490196],\n",
       "        [1.        ],\n",
       "        [0.30196078],\n",
       "        [0.        ]],\n",
       "\n",
       "       [[0.        ],\n",
       "        [0.01176471],\n",
       "        [0.        ],\n",
       "        [0.        ],\n",
       "        [0.        ],\n",
       "        [0.        ],\n",
       "        [0.        ],\n",
       "        [0.        ],\n",
       "        [0.        ],\n",
       "        [0.24313725],\n",
       "        [0.56862745],\n",
       "        [0.8       ],\n",
       "        [0.89411765],\n",
       "        [0.81176471],\n",
       "        [0.83529412],\n",
       "        [0.86666667],\n",
       "        [0.85490196],\n",
       "        [0.81568627],\n",
       "        [0.82745098],\n",
       "        [0.85490196],\n",
       "        [0.87843137],\n",
       "        [0.8745098 ],\n",
       "        [0.85882353],\n",
       "        [0.84313725],\n",
       "        [0.87843137],\n",
       "        [0.95686275],\n",
       "        [0.62352941],\n",
       "        [0.        ]],\n",
       "\n",
       "       [[0.        ],\n",
       "        [0.        ],\n",
       "        [0.        ],\n",
       "        [0.        ],\n",
       "        [0.07058824],\n",
       "        [0.17254902],\n",
       "        [0.32156863],\n",
       "        [0.41960784],\n",
       "        [0.74117647],\n",
       "        [0.89411765],\n",
       "        [0.8627451 ],\n",
       "        [0.87058824],\n",
       "        [0.85098039],\n",
       "        [0.88627451],\n",
       "        [0.78431373],\n",
       "        [0.80392157],\n",
       "        [0.82745098],\n",
       "        [0.90196078],\n",
       "        [0.87843137],\n",
       "        [0.91764706],\n",
       "        [0.69019608],\n",
       "        [0.7372549 ],\n",
       "        [0.98039216],\n",
       "        [0.97254902],\n",
       "        [0.91372549],\n",
       "        [0.93333333],\n",
       "        [0.84313725],\n",
       "        [0.        ]],\n",
       "\n",
       "       [[0.        ],\n",
       "        [0.22352941],\n",
       "        [0.73333333],\n",
       "        [0.81568627],\n",
       "        [0.87843137],\n",
       "        [0.86666667],\n",
       "        [0.87843137],\n",
       "        [0.81568627],\n",
       "        [0.8       ],\n",
       "        [0.83921569],\n",
       "        [0.81568627],\n",
       "        [0.81960784],\n",
       "        [0.78431373],\n",
       "        [0.62352941],\n",
       "        [0.96078431],\n",
       "        [0.75686275],\n",
       "        [0.80784314],\n",
       "        [0.8745098 ],\n",
       "        [1.        ],\n",
       "        [1.        ],\n",
       "        [0.86666667],\n",
       "        [0.91764706],\n",
       "        [0.86666667],\n",
       "        [0.82745098],\n",
       "        [0.8627451 ],\n",
       "        [0.90980392],\n",
       "        [0.96470588],\n",
       "        [0.        ]],\n",
       "\n",
       "       [[0.01176471],\n",
       "        [0.79215686],\n",
       "        [0.89411765],\n",
       "        [0.87843137],\n",
       "        [0.86666667],\n",
       "        [0.82745098],\n",
       "        [0.82745098],\n",
       "        [0.83921569],\n",
       "        [0.80392157],\n",
       "        [0.80392157],\n",
       "        [0.80392157],\n",
       "        [0.8627451 ],\n",
       "        [0.94117647],\n",
       "        [0.31372549],\n",
       "        [0.58823529],\n",
       "        [1.        ],\n",
       "        [0.89803922],\n",
       "        [0.86666667],\n",
       "        [0.7372549 ],\n",
       "        [0.60392157],\n",
       "        [0.74901961],\n",
       "        [0.82352941],\n",
       "        [0.8       ],\n",
       "        [0.81960784],\n",
       "        [0.87058824],\n",
       "        [0.89411765],\n",
       "        [0.88235294],\n",
       "        [0.        ]],\n",
       "\n",
       "       [[0.38431373],\n",
       "        [0.91372549],\n",
       "        [0.77647059],\n",
       "        [0.82352941],\n",
       "        [0.87058824],\n",
       "        [0.89803922],\n",
       "        [0.89803922],\n",
       "        [0.91764706],\n",
       "        [0.97647059],\n",
       "        [0.8627451 ],\n",
       "        [0.76078431],\n",
       "        [0.84313725],\n",
       "        [0.85098039],\n",
       "        [0.94509804],\n",
       "        [0.25490196],\n",
       "        [0.28627451],\n",
       "        [0.41568627],\n",
       "        [0.45882353],\n",
       "        [0.65882353],\n",
       "        [0.85882353],\n",
       "        [0.86666667],\n",
       "        [0.84313725],\n",
       "        [0.85098039],\n",
       "        [0.8745098 ],\n",
       "        [0.8745098 ],\n",
       "        [0.87843137],\n",
       "        [0.89803922],\n",
       "        [0.11372549]],\n",
       "\n",
       "       [[0.29411765],\n",
       "        [0.8       ],\n",
       "        [0.83137255],\n",
       "        [0.8       ],\n",
       "        [0.75686275],\n",
       "        [0.80392157],\n",
       "        [0.82745098],\n",
       "        [0.88235294],\n",
       "        [0.84705882],\n",
       "        [0.7254902 ],\n",
       "        [0.77254902],\n",
       "        [0.80784314],\n",
       "        [0.77647059],\n",
       "        [0.83529412],\n",
       "        [0.94117647],\n",
       "        [0.76470588],\n",
       "        [0.89019608],\n",
       "        [0.96078431],\n",
       "        [0.9372549 ],\n",
       "        [0.8745098 ],\n",
       "        [0.85490196],\n",
       "        [0.83137255],\n",
       "        [0.81960784],\n",
       "        [0.87058824],\n",
       "        [0.8627451 ],\n",
       "        [0.86666667],\n",
       "        [0.90196078],\n",
       "        [0.2627451 ]],\n",
       "\n",
       "       [[0.18823529],\n",
       "        [0.79607843],\n",
       "        [0.71764706],\n",
       "        [0.76078431],\n",
       "        [0.83529412],\n",
       "        [0.77254902],\n",
       "        [0.7254902 ],\n",
       "        [0.74509804],\n",
       "        [0.76078431],\n",
       "        [0.75294118],\n",
       "        [0.79215686],\n",
       "        [0.83921569],\n",
       "        [0.85882353],\n",
       "        [0.86666667],\n",
       "        [0.8627451 ],\n",
       "        [0.9254902 ],\n",
       "        [0.88235294],\n",
       "        [0.84705882],\n",
       "        [0.78039216],\n",
       "        [0.80784314],\n",
       "        [0.72941176],\n",
       "        [0.70980392],\n",
       "        [0.69411765],\n",
       "        [0.6745098 ],\n",
       "        [0.70980392],\n",
       "        [0.80392157],\n",
       "        [0.80784314],\n",
       "        [0.45098039]],\n",
       "\n",
       "       [[0.        ],\n",
       "        [0.47843137],\n",
       "        [0.85882353],\n",
       "        [0.75686275],\n",
       "        [0.70196078],\n",
       "        [0.67058824],\n",
       "        [0.71764706],\n",
       "        [0.76862745],\n",
       "        [0.8       ],\n",
       "        [0.82352941],\n",
       "        [0.83529412],\n",
       "        [0.81176471],\n",
       "        [0.82745098],\n",
       "        [0.82352941],\n",
       "        [0.78431373],\n",
       "        [0.76862745],\n",
       "        [0.76078431],\n",
       "        [0.74901961],\n",
       "        [0.76470588],\n",
       "        [0.74901961],\n",
       "        [0.77647059],\n",
       "        [0.75294118],\n",
       "        [0.69019608],\n",
       "        [0.61176471],\n",
       "        [0.65490196],\n",
       "        [0.69411765],\n",
       "        [0.82352941],\n",
       "        [0.36078431]],\n",
       "\n",
       "       [[0.        ],\n",
       "        [0.        ],\n",
       "        [0.29019608],\n",
       "        [0.74117647],\n",
       "        [0.83137255],\n",
       "        [0.74901961],\n",
       "        [0.68627451],\n",
       "        [0.6745098 ],\n",
       "        [0.68627451],\n",
       "        [0.70980392],\n",
       "        [0.7254902 ],\n",
       "        [0.7372549 ],\n",
       "        [0.74117647],\n",
       "        [0.7372549 ],\n",
       "        [0.75686275],\n",
       "        [0.77647059],\n",
       "        [0.8       ],\n",
       "        [0.81960784],\n",
       "        [0.82352941],\n",
       "        [0.82352941],\n",
       "        [0.82745098],\n",
       "        [0.7372549 ],\n",
       "        [0.7372549 ],\n",
       "        [0.76078431],\n",
       "        [0.75294118],\n",
       "        [0.84705882],\n",
       "        [0.66666667],\n",
       "        [0.        ]],\n",
       "\n",
       "       [[0.00784314],\n",
       "        [0.        ],\n",
       "        [0.        ],\n",
       "        [0.        ],\n",
       "        [0.25882353],\n",
       "        [0.78431373],\n",
       "        [0.87058824],\n",
       "        [0.92941176],\n",
       "        [0.9372549 ],\n",
       "        [0.94901961],\n",
       "        [0.96470588],\n",
       "        [0.95294118],\n",
       "        [0.95686275],\n",
       "        [0.86666667],\n",
       "        [0.8627451 ],\n",
       "        [0.75686275],\n",
       "        [0.74901961],\n",
       "        [0.70196078],\n",
       "        [0.71372549],\n",
       "        [0.71372549],\n",
       "        [0.70980392],\n",
       "        [0.69019608],\n",
       "        [0.65098039],\n",
       "        [0.65882353],\n",
       "        [0.38823529],\n",
       "        [0.22745098],\n",
       "        [0.        ],\n",
       "        [0.        ]],\n",
       "\n",
       "       [[0.        ],\n",
       "        [0.        ],\n",
       "        [0.        ],\n",
       "        [0.        ],\n",
       "        [0.        ],\n",
       "        [0.        ],\n",
       "        [0.        ],\n",
       "        [0.15686275],\n",
       "        [0.23921569],\n",
       "        [0.17254902],\n",
       "        [0.28235294],\n",
       "        [0.16078431],\n",
       "        [0.1372549 ],\n",
       "        [0.        ],\n",
       "        [0.        ],\n",
       "        [0.        ],\n",
       "        [0.        ],\n",
       "        [0.        ],\n",
       "        [0.        ],\n",
       "        [0.        ],\n",
       "        [0.        ],\n",
       "        [0.        ],\n",
       "        [0.        ],\n",
       "        [0.        ],\n",
       "        [0.        ],\n",
       "        [0.        ],\n",
       "        [0.        ],\n",
       "        [0.        ]],\n",
       "\n",
       "       [[0.        ],\n",
       "        [0.        ],\n",
       "        [0.        ],\n",
       "        [0.        ],\n",
       "        [0.        ],\n",
       "        [0.        ],\n",
       "        [0.        ],\n",
       "        [0.        ],\n",
       "        [0.        ],\n",
       "        [0.        ],\n",
       "        [0.        ],\n",
       "        [0.        ],\n",
       "        [0.        ],\n",
       "        [0.        ],\n",
       "        [0.        ],\n",
       "        [0.        ],\n",
       "        [0.        ],\n",
       "        [0.        ],\n",
       "        [0.        ],\n",
       "        [0.        ],\n",
       "        [0.        ],\n",
       "        [0.        ],\n",
       "        [0.        ],\n",
       "        [0.        ],\n",
       "        [0.        ],\n",
       "        [0.        ],\n",
       "        [0.        ],\n",
       "        [0.        ]],\n",
       "\n",
       "       [[0.        ],\n",
       "        [0.        ],\n",
       "        [0.        ],\n",
       "        [0.        ],\n",
       "        [0.        ],\n",
       "        [0.        ],\n",
       "        [0.        ],\n",
       "        [0.        ],\n",
       "        [0.        ],\n",
       "        [0.        ],\n",
       "        [0.        ],\n",
       "        [0.        ],\n",
       "        [0.        ],\n",
       "        [0.        ],\n",
       "        [0.        ],\n",
       "        [0.        ],\n",
       "        [0.        ],\n",
       "        [0.        ],\n",
       "        [0.        ],\n",
       "        [0.        ],\n",
       "        [0.        ],\n",
       "        [0.        ],\n",
       "        [0.        ],\n",
       "        [0.        ],\n",
       "        [0.        ],\n",
       "        [0.        ],\n",
       "        [0.        ],\n",
       "        [0.        ]]])"
      ]
     },
     "execution_count": 24,
     "metadata": {},
     "output_type": "execute_result"
    }
   ],
   "source": [
    "X_train[0]"
   ]
  },
  {
   "cell_type": "markdown",
   "id": "bfa5818e",
   "metadata": {},
   "source": [
    "## Split Dataset"
   ]
  },
  {
   "cell_type": "code",
   "execution_count": 25,
   "id": "2f419d68",
   "metadata": {},
   "outputs": [],
   "source": [
    "from sklearn.model_selection import train_test_split"
   ]
  },
  {
   "cell_type": "code",
   "execution_count": 26,
   "id": "bc8784bb",
   "metadata": {},
   "outputs": [],
   "source": [
    "X_train,X_val,y_train,y_val = train_test_split(X_train,y_train, test_size=0.2, random_state=2020)\n"
   ]
  },
  {
   "cell_type": "code",
   "execution_count": 27,
   "id": "5c758ac5",
   "metadata": {},
   "outputs": [
    {
     "data": {
      "text/plain": [
       "((48000, 28, 28, 1), (48000,))"
      ]
     },
     "execution_count": 27,
     "metadata": {},
     "output_type": "execute_result"
    }
   ],
   "source": [
    "X_train.shape,y_train.shape"
   ]
  },
  {
   "cell_type": "code",
   "execution_count": 28,
   "id": "bd076a59",
   "metadata": {},
   "outputs": [
    {
     "data": {
      "text/plain": [
       "((12000, 28, 28, 1), (12000,))"
      ]
     },
     "execution_count": 28,
     "metadata": {},
     "output_type": "execute_result"
    }
   ],
   "source": [
    "X_val.shape,y_val.shape"
   ]
  },
  {
   "cell_type": "markdown",
   "id": "ab3521fa",
   "metadata": {},
   "source": [
    "## Convolutional Neural Network - Model building"
   ]
  },
  {
   "cell_type": "code",
   "execution_count": 29,
   "id": "09c2f408",
   "metadata": {},
   "outputs": [],
   "source": [
    "model = keras.models.Sequential([keras.layers.Conv2D(filters = 32, kernel_size = 3, strides = (1,1), padding = 'valid', activation='relu', input_shape = [28,28,1]),\n",
    "                        keras.layers.MaxPooling2D(pool_size=(2,2)),\n",
    "                        keras.layers.Flatten(),\n",
    "                        keras.layers.Dense(units=128, activation='relu'),\n",
    "                        keras.layers.Dense(units = 10, activation='softmax')])\n",
    "\n",
    "\n",
    "# filter = metrix \n",
    "# kernel_size = (3,3) metrix\n",
    "# striders = (1,1) = 1 pixel columns ma khase  bija 1 thi 1 pixel row ma khase\n",
    "# padding = last ma column ghate tyre automatic column value fine thai ae kernel solution thai jay\n",
    "# activation = ma formula use thay\n",
    "# input_shape = [28,28,1]  =  28,28 ae image pixel chhe    and  1 aetle black and withe shade or 3 aetle red,blue,green\n",
    "# units = 10 diffiernts names products"
   ]
  },
  {
   "cell_type": "code",
   "execution_count": 30,
   "id": "2f69a95e",
   "metadata": {},
   "outputs": [
    {
     "name": "stdout",
     "output_type": "stream",
     "text": [
      "Model: \"sequential\"\n",
      "_________________________________________________________________\n",
      " Layer (type)                Output Shape              Param #   \n",
      "=================================================================\n",
      " conv2d (Conv2D)             (None, 26, 26, 32)        320       \n",
      "                                                                 \n",
      " max_pooling2d (MaxPooling2D  (None, 13, 13, 32)       0         \n",
      " )                                                               \n",
      "                                                                 \n",
      " flatten (Flatten)           (None, 5408)              0         \n",
      "                                                                 \n",
      " dense (Dense)               (None, 128)               692352    \n",
      "                                                                 \n",
      " dense_1 (Dense)             (None, 10)                1290      \n",
      "                                                                 \n",
      "=================================================================\n",
      "Total params: 693,962\n",
      "Trainable params: 693,962\n",
      "Non-trainable params: 0\n",
      "_________________________________________________________________\n"
     ]
    }
   ],
   "source": [
    "model.summary()"
   ]
  },
  {
   "cell_type": "code",
   "execution_count": 31,
   "id": "fcf9dedf",
   "metadata": {},
   "outputs": [],
   "source": [
    "model.compile(optimizer='adam', loss='sparse_categorical_crossentropy', metrics = ['accuracy'])"
   ]
  },
  {
   "cell_type": "code",
   "execution_count": 32,
   "id": "d3b131d3",
   "metadata": {},
   "outputs": [
    {
     "name": "stdout",
     "output_type": "stream",
     "text": [
      "Epoch 1/10\n",
      "94/94 [==============================] - 22s 226ms/step - loss: 0.6258 - accuracy: 0.7920 - val_loss: 0.4541 - val_accuracy: 0.8365\n",
      "Epoch 2/10\n",
      "94/94 [==============================] - 20s 217ms/step - loss: 0.3733 - accuracy: 0.8687 - val_loss: 0.3581 - val_accuracy: 0.8752\n",
      "Epoch 3/10\n",
      "94/94 [==============================] - 23s 241ms/step - loss: 0.3268 - accuracy: 0.8844 - val_loss: 0.3271 - val_accuracy: 0.8868\n",
      "Epoch 4/10\n",
      "94/94 [==============================] - 27s 291ms/step - loss: 0.2994 - accuracy: 0.8941 - val_loss: 0.3044 - val_accuracy: 0.8959\n",
      "Epoch 5/10\n",
      "94/94 [==============================] - 26s 281ms/step - loss: 0.2745 - accuracy: 0.9032 - val_loss: 0.3030 - val_accuracy: 0.8935\n",
      "Epoch 6/10\n",
      "94/94 [==============================] - 22s 235ms/step - loss: 0.2577 - accuracy: 0.9073 - val_loss: 0.2953 - val_accuracy: 0.8957\n",
      "Epoch 7/10\n",
      "94/94 [==============================] - 21s 223ms/step - loss: 0.2456 - accuracy: 0.9125 - val_loss: 0.2821 - val_accuracy: 0.9009\n",
      "Epoch 8/10\n",
      "94/94 [==============================] - 21s 224ms/step - loss: 0.2282 - accuracy: 0.9185 - val_loss: 0.2773 - val_accuracy: 0.9048\n",
      "Epoch 9/10\n",
      "94/94 [==============================] - 22s 235ms/step - loss: 0.2197 - accuracy: 0.9207 - val_loss: 0.2774 - val_accuracy: 0.9040\n",
      "Epoch 10/10\n",
      "94/94 [==============================] - 21s 224ms/step - loss: 0.2062 - accuracy: 0.9257 - val_loss: 0.2684 - val_accuracy: 0.9083\n"
     ]
    },
    {
     "data": {
      "text/plain": [
       "<keras.callbacks.History at 0x1474d16a8e0>"
      ]
     },
     "execution_count": 32,
     "metadata": {},
     "output_type": "execute_result"
    }
   ],
   "source": [
    "model.fit(X_train,y_train, epochs=10, batch_size = 512, verbose=1,validation_data=(X_val,y_val))"
   ]
  },
  {
   "cell_type": "markdown",
   "id": "4fd3039b",
   "metadata": {},
   "source": [
    "## Test the Model"
   ]
  },
  {
   "cell_type": "code",
   "execution_count": 29,
   "id": "42175d23",
   "metadata": {},
   "outputs": [
    {
     "name": "stdout",
     "output_type": "stream",
     "text": [
      "1/1 [==============================] - 0s 173ms/step\n"
     ]
    },
    {
     "data": {
      "text/plain": [
       "array([[0.  , 0.  , 0.  , 0.  , 0.  , 0.01, 0.  , 0.05, 0.  , 0.95]],\n",
       "      dtype=float32)"
      ]
     },
     "execution_count": 29,
     "metadata": {},
     "output_type": "execute_result"
    }
   ],
   "source": [
    "model.predict(np.expand_dims(X_test[0], axis = 0)).round(2)"
   ]
  },
  {
   "cell_type": "code",
   "execution_count": 30,
   "id": "0ce881f2",
   "metadata": {},
   "outputs": [
    {
     "name": "stdout",
     "output_type": "stream",
     "text": [
      "1/1 [==============================] - 0s 33ms/step\n"
     ]
    },
    {
     "data": {
      "text/plain": [
       "9"
      ]
     },
     "execution_count": 30,
     "metadata": {},
     "output_type": "execute_result"
    }
   ],
   "source": [
    "np.argmax(model.predict(np.expand_dims(X_test[0], axis = 0)).round(2))"
   ]
  },
  {
   "cell_type": "code",
   "execution_count": 31,
   "id": "42e9b683",
   "metadata": {},
   "outputs": [
    {
     "data": {
      "text/plain": [
       "9"
      ]
     },
     "execution_count": 31,
     "metadata": {},
     "output_type": "execute_result"
    }
   ],
   "source": [
    "y_test[0]"
   ]
  },
  {
   "cell_type": "code",
   "execution_count": 32,
   "id": "537071c5",
   "metadata": {},
   "outputs": [
    {
     "name": "stdout",
     "output_type": "stream",
     "text": [
      "313/313 [==============================] - 3s 8ms/step\n"
     ]
    },
    {
     "data": {
      "text/plain": [
       "array([[0.  , 0.  , 0.  , ..., 0.05, 0.  , 0.95],\n",
       "       [0.  , 0.  , 1.  , ..., 0.  , 0.  , 0.  ],\n",
       "       [0.  , 1.  , 0.  , ..., 0.  , 0.  , 0.  ],\n",
       "       ...,\n",
       "       [0.  , 0.  , 0.  , ..., 0.  , 0.98, 0.  ],\n",
       "       [0.  , 1.  , 0.  , ..., 0.  , 0.  , 0.  ],\n",
       "       [0.  , 0.  , 0.  , ..., 0.13, 0.03, 0.  ]], dtype=float32)"
      ]
     },
     "execution_count": 32,
     "metadata": {},
     "output_type": "execute_result"
    }
   ],
   "source": [
    "y_pred = model.predict(X_test).round(2)\n",
    "y_pred"
   ]
  },
  {
   "cell_type": "code",
   "execution_count": 33,
   "id": "8668b692",
   "metadata": {},
   "outputs": [
    {
     "name": "stdout",
     "output_type": "stream",
     "text": [
      "313/313 [==============================] - 2s 8ms/step - loss: 0.2853 - accuracy: 0.8955\n"
     ]
    },
    {
     "data": {
      "text/plain": [
       "[0.28532925248146057, 0.8955000042915344]"
      ]
     },
     "execution_count": 33,
     "metadata": {},
     "output_type": "execute_result"
    }
   ],
   "source": [
    "model.evaluate(X_test,y_test)"
   ]
  },
  {
   "cell_type": "markdown",
   "id": "c4499611",
   "metadata": {},
   "source": [
    "## Visualize Output"
   ]
  },
  {
   "cell_type": "code",
   "execution_count": 34,
   "id": "3e7439b6",
   "metadata": {},
   "outputs": [
    {
     "data": {
      "image/png": "[encoded data removed]",
      "text/plain": [
       "<Figure size 1152x2160 with 60 Axes>"
      ]
     },
     "metadata": {
      "needs_background": "light"
     },
     "output_type": "display_data"
    }
   ],
   "source": [
    "plt.figure(figsize = (16,30))\n",
    "\n",
    "j = 1\n",
    "for i in np.random.randint(0,1000,60):\n",
    "    plt.subplot(10,6,j); j+=1\n",
    "    plt.imshow(X_train[i].reshape(28,28), cmap='Greys')\n",
    "    plt.title('Actual = {} / {} \\nPredicted = {} / {}'.format(class_labels[y_test[i]], y_test[i], class_labels[np.argmax(y_pred[i])],np.argmax(y_pred[i])))\n",
    "    plt.axis('off')"
   ]
  },
  {
   "cell_type": "markdown",
   "id": "ce28b707",
   "metadata": {},
   "source": [
    "## Confusion Matrix"
   ]
  },
  {
   "cell_type": "code",
   "execution_count": 35,
   "id": "b995d009",
   "metadata": {},
   "outputs": [],
   "source": [
    "import seaborn as sns"
   ]
  },
  {
   "cell_type": "code",
   "execution_count": 36,
   "id": "402acc55",
   "metadata": {},
   "outputs": [],
   "source": [
    "from sklearn.metrics import confusion_matrix"
   ]
  },
  {
   "cell_type": "code",
   "execution_count": 37,
   "id": "a10a1516",
   "metadata": {},
   "outputs": [
    {
     "data": {
      "text/plain": [
       "<AxesSubplot:>"
      ]
     },
     "execution_count": 37,
     "metadata": {},
     "output_type": "execute_result"
    },
    {
     "data": {
      "image/png": "[encoded data removed]",
      "text/plain": [
       "<Figure size 1152x648 with 2 Axes>"
      ]
     },
     "metadata": {
      "needs_background": "light"
     },
     "output_type": "display_data"
    }
   ],
   "source": [
    "plt.figure(figsize = (16,9))\n",
    "y_pred_labels = [np.argmax(label) for label in y_pred]\n",
    "cm = confusion_matrix(y_test,y_pred_labels)\n",
    "\n",
    "sns.heatmap(cm, annot = True, fmt = 'd', xticklabels = class_labels, yticklabels = class_labels)"
   ]
  },
  {
   "cell_type": "code",
   "execution_count": 38,
   "id": "9494fadd",
   "metadata": {},
   "outputs": [],
   "source": [
    "from sklearn.metrics import classification_report"
   ]
  },
  {
   "cell_type": "code",
   "execution_count": 39,
   "id": "6947a7a3",
   "metadata": {},
   "outputs": [
    {
     "name": "stdout",
     "output_type": "stream",
     "text": [
      "              precision    recall  f1-score   support\n",
      "\n",
      " T-shirt/top       0.84      0.83      0.83      1000\n",
      "     Trouser       0.99      0.97      0.98      1000\n",
      "    Pullover       0.90      0.80      0.85      1000\n",
      "       Dress       0.91      0.89      0.90      1000\n",
      "        Coat       0.87      0.83      0.85      1000\n",
      "      Sandal       0.98      0.97      0.97      1000\n",
      "       Shirt       0.65      0.78      0.71      1000\n",
      "     Sneaker       0.92      0.98      0.95      1000\n",
      "         Bag       0.98      0.98      0.98      1000\n",
      "  Ankle boot       0.98      0.93      0.96      1000\n",
      "\n",
      "    accuracy                           0.90     10000\n",
      "   macro avg       0.90      0.90      0.90     10000\n",
      "weighted avg       0.90      0.90      0.90     10000\n",
      "\n"
     ]
    }
   ],
   "source": [
    "cr = classification_report(y_test,y_pred_labels,target_names = class_labels)\n",
    "print(cr)"
   ]
  },
  {
   "cell_type": "markdown",
   "id": "ce2cad93",
   "metadata": {},
   "source": [
    "## Save Model"
   ]
  },
  {
   "cell_type": "code",
   "execution_count": 40,
   "id": "a971ea2a",
   "metadata": {},
   "outputs": [],
   "source": [
    "model.save('fashion_classification_cnn_model.h5')"
   ]
  },
  {
   "cell_type": "markdown",
   "id": "6255957d",
   "metadata": {},
   "source": [
    "## Load Model"
   ]
  },
  {
   "cell_type": "code",
   "execution_count": 41,
   "id": "5849ec4c",
   "metadata": {},
   "outputs": [],
   "source": [
    "model_deploy = keras.models.load_model('fashion_classification_cnn_model.h5')"
   ]
  },
  {
   "cell_type": "code",
   "execution_count": 42,
   "id": "be7a96c8",
   "metadata": {},
   "outputs": [
    {
     "name": "stdout",
     "output_type": "stream",
     "text": [
      "313/313 [==============================] - 2s 7ms/step\n"
     ]
    },
    {
     "data": {
      "text/plain": [
       "array([[0.  , 0.  , 0.  , ..., 0.05, 0.  , 0.95],\n",
       "       [0.  , 0.  , 1.  , ..., 0.  , 0.  , 0.  ],\n",
       "       [0.  , 1.  , 0.  , ..., 0.  , 0.  , 0.  ],\n",
       "       ...,\n",
       "       [0.  , 0.  , 0.  , ..., 0.  , 0.98, 0.  ],\n",
       "       [0.  , 1.  , 0.  , ..., 0.  , 0.  , 0.  ],\n",
       "       [0.  , 0.  , 0.  , ..., 0.13, 0.03, 0.  ]], dtype=float32)"
      ]
     },
     "execution_count": 42,
     "metadata": {},
     "output_type": "execute_result"
    }
   ],
   "source": [
    "model_deploy.predict(X_test).round(2)"
   ]
  },
  {
   "cell_type": "code",
   "execution_count": 43,
   "id": "698a49cf",
   "metadata": {},
   "outputs": [
    {
     "name": "stdout",
     "output_type": "stream",
     "text": [
      "1/1 [==============================] - 0s 25ms/step\n"
     ]
    },
    {
     "data": {
      "text/plain": [
       "array([[0.  , 0.  , 0.  , 0.  , 0.  , 0.01, 0.  , 0.05, 0.  , 0.95]],\n",
       "      dtype=float32)"
      ]
     },
     "execution_count": 43,
     "metadata": {},
     "output_type": "execute_result"
    }
   ],
   "source": [
    "model_deploy.predict(np.expand_dims(X_test[0], axis = 0)).round(2)"
   ]
  },
  {
   "cell_type": "code",
   "execution_count": 44,
   "id": "6b95e3cc",
   "metadata": {},
   "outputs": [
    {
     "name": "stdout",
     "output_type": "stream",
     "text": [
      "1/1 [==============================] - 0s 23ms/step\n"
     ]
    },
    {
     "data": {
      "text/plain": [
       "9"
      ]
     },
     "execution_count": 44,
     "metadata": {},
     "output_type": "execute_result"
    }
   ],
   "source": [
    "np.argmax(model_deploy.predict(np.expand_dims(X_test[0], axis = 0)))"
   ]
  },
  {
   "cell_type": "markdown",
   "id": "80a46dda",
   "metadata": {},
   "source": [
    "## Convolutional Neural Network - Building Complex CNN\n"
   ]
  },
  {
   "cell_type": "code",
   "execution_count": 50,
   "id": "5510f60a",
   "metadata": {},
   "outputs": [],
   "source": [
    "cnn_model2 = keras.models.Sequential([\n",
    "                         keras.layers.Conv2D(filters=32, kernel_size=3, strides=(1,1), padding='valid',activation= 'relu', input_shape=[28,28,1]),\n",
    "                         keras.layers.MaxPooling2D(pool_size=(2,2)),\n",
    "                         keras.layers.Conv2D(filters=64, kernel_size=3, strides=(2,2), padding='same', activation='relu'),\n",
    "                         keras.layers.MaxPooling2D(pool_size=(2,2)),\n",
    "                         keras.layers.Flatten(),\n",
    "                         keras.layers.Dense(units=128, activation='relu'),\n",
    "                         keras.layers.Dropout(0.25),\n",
    "                         keras.layers.Dense(units=256, activation='relu'),\n",
    "                         keras.layers.Dropout(0.25),\n",
    "                         keras.layers.Dense(units=128, activation='relu'),\n",
    "                         keras.layers.Dense(units=10, activation='softmax')\n",
    "                         ])\n"
   ]
  },
  {
   "cell_type": "code",
   "execution_count": 51,
   "id": "66a30c88",
   "metadata": {},
   "outputs": [],
   "source": [
    "cnn_model2.compile(optimizer='adam', loss = 'sparse_categorical_crossentropy', metrics=['accuracy'])"
   ]
  },
  {
   "cell_type": "code",
   "execution_count": 52,
   "id": "e07f6139",
   "metadata": {},
   "outputs": [
    {
     "name": "stdout",
     "output_type": "stream",
     "text": [
      "Epoch 1/20\n",
      "94/94 [==============================] - 43s 437ms/step - loss: 1.0257 - accuracy: 0.6164 - val_loss: 0.5710 - val_accuracy: 0.7789\n",
      "Epoch 2/20\n",
      "94/94 [==============================] - 35s 368ms/step - loss: 0.5402 - accuracy: 0.7975 - val_loss: 0.4523 - val_accuracy: 0.8285\n",
      "Epoch 3/20\n",
      "94/94 [==============================] - 22s 235ms/step - loss: 0.4395 - accuracy: 0.8367 - val_loss: 0.3878 - val_accuracy: 0.8588\n",
      "Epoch 4/20\n",
      "94/94 [==============================] - 22s 236ms/step - loss: 0.3853 - accuracy: 0.8599 - val_loss: 0.3649 - val_accuracy: 0.8649\n",
      "Epoch 5/20\n",
      "94/94 [==============================] - 23s 242ms/step - loss: 0.3454 - accuracy: 0.8741 - val_loss: 0.3266 - val_accuracy: 0.8813\n",
      "Epoch 6/20\n",
      "94/94 [==============================] - 24s 258ms/step - loss: 0.3247 - accuracy: 0.8818 - val_loss: 0.3290 - val_accuracy: 0.8799\n",
      "Epoch 7/20\n",
      "94/94 [==============================] - 22s 239ms/step - loss: 0.3031 - accuracy: 0.8892 - val_loss: 0.3034 - val_accuracy: 0.8893\n",
      "Epoch 8/20\n",
      "94/94 [==============================] - 22s 237ms/step - loss: 0.2892 - accuracy: 0.8945 - val_loss: 0.2991 - val_accuracy: 0.8913\n",
      "Epoch 9/20\n",
      "94/94 [==============================] - 22s 237ms/step - loss: 0.2764 - accuracy: 0.8979 - val_loss: 0.2806 - val_accuracy: 0.8959\n",
      "Epoch 10/20\n",
      "94/94 [==============================] - 22s 235ms/step - loss: 0.2662 - accuracy: 0.9010 - val_loss: 0.2857 - val_accuracy: 0.8952\n",
      "Epoch 11/20\n",
      "94/94 [==============================] - 22s 237ms/step - loss: 0.2514 - accuracy: 0.9061 - val_loss: 0.2781 - val_accuracy: 0.8960\n",
      "Epoch 12/20\n",
      "94/94 [==============================] - 22s 236ms/step - loss: 0.2420 - accuracy: 0.9102 - val_loss: 0.2750 - val_accuracy: 0.8976\n",
      "Epoch 13/20\n",
      "94/94 [==============================] - 26s 278ms/step - loss: 0.2347 - accuracy: 0.9119 - val_loss: 0.2674 - val_accuracy: 0.8997\n",
      "Epoch 14/20\n",
      "94/94 [==============================] - 30s 314ms/step - loss: 0.2265 - accuracy: 0.9170 - val_loss: 0.2641 - val_accuracy: 0.9062\n",
      "Epoch 15/20\n",
      "94/94 [==============================] - 28s 295ms/step - loss: 0.2157 - accuracy: 0.9205 - val_loss: 0.2672 - val_accuracy: 0.9037\n",
      "Epoch 16/20\n",
      "94/94 [==============================] - 23s 248ms/step - loss: 0.2126 - accuracy: 0.9199 - val_loss: 0.2633 - val_accuracy: 0.9081\n",
      "Epoch 17/20\n",
      "94/94 [==============================] - 22s 237ms/step - loss: 0.2021 - accuracy: 0.9247 - val_loss: 0.2644 - val_accuracy: 0.9045\n",
      "Epoch 18/20\n",
      "94/94 [==============================] - 23s 241ms/step - loss: 0.1930 - accuracy: 0.9275 - val_loss: 0.2731 - val_accuracy: 0.9068\n",
      "Epoch 19/20\n",
      "94/94 [==============================] - 22s 238ms/step - loss: 0.1897 - accuracy: 0.9292 - val_loss: 0.2718 - val_accuracy: 0.9041\n",
      "Epoch 20/20\n",
      "94/94 [==============================] - 23s 241ms/step - loss: 0.1837 - accuracy: 0.9307 - val_loss: 0.2661 - val_accuracy: 0.9052\n"
     ]
    },
    {
     "data": {
      "text/plain": [
       "<keras.callbacks.History at 0x1df34e5f4c0>"
      ]
     },
     "execution_count": 52,
     "metadata": {},
     "output_type": "execute_result"
    }
   ],
   "source": [
    "cnn_model2.fit(X_train,y_train, epochs = 20, batch_size = 512, verbose = 1, validation_data = (X_val,y_val))"
   ]
  },
  {
   "cell_type": "code",
   "execution_count": 53,
   "id": "c07f4e94",
   "metadata": {},
   "outputs": [
    {
     "name": "stdout",
     "output_type": "stream",
     "text": [
      "313/313 [==============================] - 5s 15ms/step - loss: 0.2678 - accuracy: 0.9076\n"
     ]
    },
    {
     "data": {
      "text/plain": [
       "[0.2678384780883789, 0.9075999855995178]"
      ]
     },
     "execution_count": 53,
     "metadata": {},
     "output_type": "execute_result"
    }
   ],
   "source": [
    "cnn_model2.evaluate(X_test,y_test)"
   ]
  },
  {
   "cell_type": "markdown",
   "id": "38894b4a",
   "metadata": {},
   "source": [
    "## Very Complex Model"
   ]
  },
  {
   "cell_type": "code",
   "execution_count": 54,
   "id": "63da289c",
   "metadata": {},
   "outputs": [],
   "source": [
    "cnn_model3 = keras.models.Sequential([\n",
    "                         keras.layers.Conv2D(filters=64, kernel_size=3, strides=(1,1), padding='valid',activation= 'relu', input_shape=[28,28,1]),\n",
    "                         keras.layers.MaxPooling2D(pool_size=(2,2)),\n",
    "                         keras.layers.Conv2D(filters=128, kernel_size=3, strides=(2,2), padding='same', activation='relu'),\n",
    "                         keras.layers.MaxPooling2D(pool_size=(2,2)),\n",
    "                         keras.layers.Conv2D(filters=64, kernel_size=3, strides=(2,2), padding='same', activation='relu'),\n",
    "                         keras.layers.MaxPooling2D(pool_size=(2,2)),\n",
    "                         keras.layers.Flatten(),\n",
    "                         keras.layers.Dense(units=128, activation='relu'),\n",
    "                         keras.layers.Dropout(0.25),\n",
    "                         keras.layers.Dense(units=256, activation='relu'),\n",
    "                         keras.layers.Dropout(0.5),\n",
    "                         keras.layers.Dense(units=256, activation='relu'),\n",
    "                         keras.layers.Dropout(0.25),                        \n",
    "                         keras.layers.Dense(units=128, activation='relu'),\n",
    "                         keras.layers.Dropout(0.10),                         \n",
    "                         keras.layers.Dense(units=10, activation='softmax')\n",
    "                         ])"
   ]
  },
  {
   "cell_type": "code",
   "execution_count": 55,
   "id": "ab9bbae3",
   "metadata": {},
   "outputs": [],
   "source": [
    "cnn_model3.compile(optimizer='adam', loss= 'sparse_categorical_crossentropy', metrics=['accuracy'])"
   ]
  },
  {
   "cell_type": "code",
   "execution_count": 57,
   "id": "eabe97f5",
   "metadata": {},
   "outputs": [
    {
     "name": "stdout",
     "output_type": "stream",
     "text": [
      "Epoch 1/50\n",
      "94/94 [==============================] - 110s 1s/step - loss: 1.1806 - accuracy: 0.5420 - val_loss: 0.6403 - val_accuracy: 0.7483\n",
      "Epoch 2/50\n",
      "94/94 [==============================] - 120s 1s/step - loss: 0.6141 - accuracy: 0.7652 - val_loss: 0.4925 - val_accuracy: 0.8148\n",
      "Epoch 3/50\n",
      "94/94 [==============================] - 107s 1s/step - loss: 0.4995 - accuracy: 0.8164 - val_loss: 0.4173 - val_accuracy: 0.8438\n",
      "Epoch 4/50\n",
      "94/94 [==============================] - 110s 1s/step - loss: 0.4319 - accuracy: 0.8450 - val_loss: 0.3712 - val_accuracy: 0.8648\n",
      "Epoch 5/50\n",
      "94/94 [==============================] - 74s 781ms/step - loss: 0.3801 - accuracy: 0.8649 - val_loss: 0.3318 - val_accuracy: 0.8791\n",
      "Epoch 6/50\n",
      "94/94 [==============================] - 47s 495ms/step - loss: 0.3394 - accuracy: 0.8796 - val_loss: 0.3285 - val_accuracy: 0.8826\n",
      "Epoch 7/50\n",
      "94/94 [==============================] - 49s 524ms/step - loss: 0.3225 - accuracy: 0.8867 - val_loss: 0.3172 - val_accuracy: 0.8861\n",
      "Epoch 8/50\n",
      "94/94 [==============================] - 62s 660ms/step - loss: 0.3012 - accuracy: 0.8950 - val_loss: 0.3294 - val_accuracy: 0.8827\n",
      "Epoch 9/50\n",
      "94/94 [==============================] - 56s 594ms/step - loss: 0.2796 - accuracy: 0.9020 - val_loss: 0.2949 - val_accuracy: 0.8952\n",
      "Epoch 10/50\n",
      "94/94 [==============================] - 66s 703ms/step - loss: 0.2709 - accuracy: 0.9042 - val_loss: 0.2980 - val_accuracy: 0.8938\n",
      "Epoch 11/50\n",
      "94/94 [==============================] - 68s 723ms/step - loss: 0.2509 - accuracy: 0.9107 - val_loss: 0.2807 - val_accuracy: 0.9004\n",
      "Epoch 12/50\n",
      "94/94 [==============================] - 67s 709ms/step - loss: 0.2395 - accuracy: 0.9153 - val_loss: 0.2810 - val_accuracy: 0.9031\n",
      "Epoch 13/50\n",
      "94/94 [==============================] - 52s 557ms/step - loss: 0.2289 - accuracy: 0.9194 - val_loss: 0.2889 - val_accuracy: 0.9038\n",
      "Epoch 14/50\n",
      "94/94 [==============================] - 46s 495ms/step - loss: 0.2202 - accuracy: 0.9216 - val_loss: 0.2688 - val_accuracy: 0.9086\n",
      "Epoch 15/50\n",
      "94/94 [==============================] - 47s 504ms/step - loss: 0.2071 - accuracy: 0.9262 - val_loss: 0.2744 - val_accuracy: 0.9082\n",
      "Epoch 16/50\n",
      "94/94 [==============================] - 53s 563ms/step - loss: 0.2004 - accuracy: 0.9293 - val_loss: 0.2937 - val_accuracy: 0.9046\n",
      "Epoch 17/50\n",
      "94/94 [==============================] - 52s 556ms/step - loss: 0.1986 - accuracy: 0.9310 - val_loss: 0.2738 - val_accuracy: 0.9058\n",
      "Epoch 18/50\n",
      "94/94 [==============================] - 47s 497ms/step - loss: 0.1855 - accuracy: 0.9337 - val_loss: 0.2834 - val_accuracy: 0.9097\n",
      "Epoch 19/50\n",
      "94/94 [==============================] - 53s 568ms/step - loss: 0.1760 - accuracy: 0.9381 - val_loss: 0.2749 - val_accuracy: 0.9073\n",
      "Epoch 20/50\n",
      "94/94 [==============================] - 52s 556ms/step - loss: 0.1691 - accuracy: 0.9397 - val_loss: 0.2677 - val_accuracy: 0.9115\n",
      "Epoch 21/50\n",
      "94/94 [==============================] - 57s 601ms/step - loss: 0.1668 - accuracy: 0.9405 - val_loss: 0.2832 - val_accuracy: 0.9093\n",
      "Epoch 22/50\n",
      "94/94 [==============================] - 49s 527ms/step - loss: 0.1583 - accuracy: 0.9436 - val_loss: 0.2981 - val_accuracy: 0.9038\n",
      "Epoch 23/50\n",
      "94/94 [==============================] - 56s 592ms/step - loss: 0.1518 - accuracy: 0.9466 - val_loss: 0.2754 - val_accuracy: 0.9123\n",
      "Epoch 24/50\n",
      "94/94 [==============================] - 58s 622ms/step - loss: 0.1426 - accuracy: 0.9488 - val_loss: 0.3133 - val_accuracy: 0.9055\n",
      "Epoch 25/50\n",
      "94/94 [==============================] - 55s 583ms/step - loss: 0.1441 - accuracy: 0.9490 - val_loss: 0.2828 - val_accuracy: 0.9133\n",
      "Epoch 26/50\n",
      "94/94 [==============================] - 61s 647ms/step - loss: 0.1356 - accuracy: 0.9522 - val_loss: 0.2991 - val_accuracy: 0.9080\n",
      "Epoch 27/50\n",
      "94/94 [==============================] - 59s 626ms/step - loss: 0.1273 - accuracy: 0.9547 - val_loss: 0.3211 - val_accuracy: 0.9093\n",
      "Epoch 28/50\n",
      "94/94 [==============================] - 54s 576ms/step - loss: 0.1221 - accuracy: 0.9560 - val_loss: 0.3040 - val_accuracy: 0.9131\n",
      "Epoch 29/50\n",
      "94/94 [==============================] - 63s 673ms/step - loss: 0.1184 - accuracy: 0.9561 - val_loss: 0.3270 - val_accuracy: 0.9117\n",
      "Epoch 30/50\n",
      "94/94 [==============================] - 87s 930ms/step - loss: 0.1113 - accuracy: 0.9595 - val_loss: 0.3232 - val_accuracy: 0.9088\n",
      "Epoch 31/50\n",
      "94/94 [==============================] - 71s 749ms/step - loss: 0.1228 - accuracy: 0.9561 - val_loss: 0.3267 - val_accuracy: 0.9087\n",
      "Epoch 32/50\n",
      "94/94 [==============================] - 63s 676ms/step - loss: 0.1054 - accuracy: 0.9629 - val_loss: 0.3499 - val_accuracy: 0.9061\n",
      "Epoch 33/50\n",
      "94/94 [==============================] - 93s 992ms/step - loss: 0.1007 - accuracy: 0.9644 - val_loss: 0.3194 - val_accuracy: 0.9126\n",
      "Epoch 34/50\n",
      "94/94 [==============================] - 76s 800ms/step - loss: 0.1002 - accuracy: 0.9642 - val_loss: 0.3582 - val_accuracy: 0.9098\n",
      "Epoch 35/50\n",
      "94/94 [==============================] - 66s 703ms/step - loss: 0.0946 - accuracy: 0.9660 - val_loss: 0.3662 - val_accuracy: 0.9094\n",
      "Epoch 36/50\n",
      "94/94 [==============================] - 59s 625ms/step - loss: 0.0883 - accuracy: 0.9688 - val_loss: 0.3314 - val_accuracy: 0.9116\n",
      "Epoch 37/50\n",
      "94/94 [==============================] - 59s 632ms/step - loss: 0.0911 - accuracy: 0.9672 - val_loss: 0.3278 - val_accuracy: 0.9116\n",
      "Epoch 38/50\n",
      "94/94 [==============================] - 55s 589ms/step - loss: 0.0885 - accuracy: 0.9690 - val_loss: 0.3661 - val_accuracy: 0.9107\n",
      "Epoch 39/50\n",
      "94/94 [==============================] - 87s 928ms/step - loss: 0.0809 - accuracy: 0.9700 - val_loss: 0.3898 - val_accuracy: 0.9093\n",
      "Epoch 40/50\n",
      "94/94 [==============================] - 63s 675ms/step - loss: 0.0845 - accuracy: 0.9698 - val_loss: 0.3795 - val_accuracy: 0.9077\n",
      "Epoch 41/50\n",
      "94/94 [==============================] - 62s 659ms/step - loss: 0.0771 - accuracy: 0.9717 - val_loss: 0.3733 - val_accuracy: 0.9128\n",
      "Epoch 42/50\n",
      "94/94 [==============================] - 94s 1s/step - loss: 0.0790 - accuracy: 0.9718 - val_loss: 0.4048 - val_accuracy: 0.9065\n",
      "Epoch 43/50\n",
      "94/94 [==============================] - 63s 665ms/step - loss: 0.0739 - accuracy: 0.9731 - val_loss: 0.3791 - val_accuracy: 0.9120\n",
      "Epoch 44/50\n",
      "94/94 [==============================] - 52s 558ms/step - loss: 0.0671 - accuracy: 0.9770 - val_loss: 0.4257 - val_accuracy: 0.9060\n",
      "Epoch 45/50\n",
      "94/94 [==============================] - 47s 505ms/step - loss: 0.0661 - accuracy: 0.9756 - val_loss: 0.4102 - val_accuracy: 0.9106\n",
      "Epoch 46/50\n",
      "94/94 [==============================] - 50s 537ms/step - loss: 0.0646 - accuracy: 0.9774 - val_loss: 0.4267 - val_accuracy: 0.9088\n",
      "Epoch 47/50\n",
      "94/94 [==============================] - 48s 508ms/step - loss: 0.0585 - accuracy: 0.9790 - val_loss: 0.4371 - val_accuracy: 0.9068\n",
      "Epoch 48/50\n",
      "94/94 [==============================] - 49s 519ms/step - loss: 0.0656 - accuracy: 0.9774 - val_loss: 0.4224 - val_accuracy: 0.9114\n",
      "Epoch 49/50\n",
      "94/94 [==============================] - 59s 628ms/step - loss: 0.0591 - accuracy: 0.9795 - val_loss: 0.4548 - val_accuracy: 0.9043\n",
      "Epoch 50/50\n",
      "94/94 [==============================] - 53s 561ms/step - loss: 0.0598 - accuracy: 0.9781 - val_loss: 0.4425 - val_accuracy: 0.9062\n"
     ]
    },
    {
     "data": {
      "text/plain": [
       "<keras.callbacks.History at 0x1df39393250>"
      ]
     },
     "execution_count": 57,
     "metadata": {},
     "output_type": "execute_result"
    }
   ],
   "source": [
    "cnn_model3.fit(X_train, y_train, epochs=50, batch_size=512, verbose=1, validation_data=(X_val, y_val))"
   ]
  },
  {
   "cell_type": "code",
   "execution_count": 58,
   "id": "95a93619",
   "metadata": {},
   "outputs": [
    {
     "name": "stdout",
     "output_type": "stream",
     "text": [
      "313/313 [==============================] - 5s 14ms/step - loss: 0.4666 - accuracy: 0.8992\n"
     ]
    },
    {
     "data": {
      "text/plain": [
       "[0.46663495898246765, 0.8992000222206116]"
      ]
     },
     "execution_count": 58,
     "metadata": {},
     "output_type": "execute_result"
    }
   ],
   "source": [
    "cnn_model3.evaluate(X_test,y_test)"
   ]
  },
  {
   "cell_type": "code",
   "execution_count": null,
   "id": "44048ee9",
   "metadata": {},
   "outputs": [],
   "source": []
  }
 ],
 "metadata": {
  "kernelspec": {
   "display_name": "Python 3 (ipykernel)",
   "language": "python",
   "name": "python3"
  },
  "language_info": {
   "codemirror_mode": {
    "name": "ipython",
    "version": 3
   },
   "file_extension": ".py",
   "mimetype": "text/x-python",
   "name": "python",
   "nbconvert_exporter": "python",
   "pygments_lexer": "ipython3",
   "version": "3.9.12"
  }
 },
 "nbformat": 4,
 "nbformat_minor": 5
}
